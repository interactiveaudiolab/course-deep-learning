{
  "cells": [
    {
      "cell_type": "markdown",
      "id": "7b4f7ae8-9e3c-4543-8c6c-75be5b8bef5d",
      "metadata": {
        "id": "7b4f7ae8-9e3c-4543-8c6c-75be5b8bef5d"
      },
      "source": [
        "# Notebook 2: Neural Networks\n",
        "\n",
        "In this notebook, we'll build a __multi-layer perceptron__ (__neural network__) in PyTorch and demonstrate how we can train using automatic differentiation. We'll evaluate our model on a number of synthetic datasets for a simple binary classification task.\n",
        "\n",
        "The notebook is broken up as follows:\n",
        "\n",
        "  1. [Setup](#setup)  \n",
        "  2. [Multi-Layer Perceptron](#mlp)  \n",
        "  3. [PyTorch Essentials](#torch)  \n",
        "     3.1. [Defining a Model](#definition)  \n",
        "     3.2. [Backpropagation in a Nutshell](#backprop)  \n",
        "     3.3. [Optimizers](#opt)  \n",
        "  4. [Training a Model](#train)  "
      ]
    },
    {
      "cell_type": "markdown",
      "id": "9857219d-d2b1-4c38-8c7d-66b5bcfdd6a9",
      "metadata": {
        "id": "9857219d-d2b1-4c38-8c7d-66b5bcfdd6a9",
        "tags": []
      },
      "source": [
        "## __1.__ <a name=\"setup\">Setup</a>\n"
      ]
    },
    {
      "cell_type": "markdown",
      "id": "lAHCqJevuxAO",
      "metadata": {
        "id": "lAHCqJevuxAO"
      },
      "source": [
        "Make sure the needed packages are installed and utility code is in the right place."
      ]
    },
    {
      "cell_type": "code",
      "execution_count": 1,
      "id": "B06RFVzMuw1S",
      "metadata": {
        "colab": {
          "base_uri": "https://localhost:8080/"
        },
        "id": "B06RFVzMuw1S",
        "outputId": "f2659c0c-d03b-42d9-daa5-c743340396cc"
      },
      "outputs": [
        {
          "output_type": "stream",
          "name": "stdout",
          "text": [
            "Cloning into 'course-deep-learning'...\n",
            "remote: Enumerating objects: 461, done.\u001b[K\n",
            "remote: Counting objects: 100% (82/82), done.\u001b[K\n",
            "remote: Compressing objects: 100% (63/63), done.\u001b[K\n",
            "remote: Total 461 (delta 45), reused 45 (delta 19), pack-reused 379\u001b[K\n",
            "Receiving objects: 100% (461/461), 141.25 MiB | 12.51 MiB/s, done.\n",
            "Resolving deltas: 100% (224/224), done.\n",
            "Updating files: 100% (61/61), done.\n",
            "Requirement already satisfied: torch in /usr/local/lib/python3.10/dist-packages (from -r requirements.txt (line 1)) (2.2.1+cu121)\n",
            "Requirement already satisfied: torchvision in /usr/local/lib/python3.10/dist-packages (from -r requirements.txt (line 2)) (0.17.1+cu121)\n",
            "Requirement already satisfied: gdown>=4.4.0 in /usr/local/lib/python3.10/dist-packages (from -r requirements.txt (line 3)) (4.7.3)\n",
            "Requirement already satisfied: torchaudio in /usr/local/lib/python3.10/dist-packages (from -r requirements.txt (line 4)) (2.2.1+cu121)\n",
            "Requirement already satisfied: librosa in /usr/local/lib/python3.10/dist-packages (from -r requirements.txt (line 5)) (0.10.1)\n",
            "Requirement already satisfied: matplotlib in /usr/local/lib/python3.10/dist-packages (from -r requirements.txt (line 6)) (3.7.1)\n",
            "Requirement already satisfied: tensorboard in /usr/local/lib/python3.10/dist-packages (from -r requirements.txt (line 7)) (2.15.2)\n",
            "Requirement already satisfied: ipython>=7.0 in /usr/local/lib/python3.10/dist-packages (from -r requirements.txt (line 8)) (7.34.0)\n",
            "Requirement already satisfied: ipykernel in /usr/local/lib/python3.10/dist-packages (from -r requirements.txt (line 9)) (5.5.6)\n",
            "Requirement already satisfied: tqdm in /usr/local/lib/python3.10/dist-packages (from -r requirements.txt (line 10)) (4.66.2)\n",
            "Requirement already satisfied: numpy in /usr/local/lib/python3.10/dist-packages (from -r requirements.txt (line 12)) (1.25.2)\n",
            "Requirement already satisfied: seaborn in /usr/local/lib/python3.10/dist-packages (from -r requirements.txt (line 13)) (0.13.1)\n",
            "Requirement already satisfied: torchsummary in /usr/local/lib/python3.10/dist-packages (from -r requirements.txt (line 14)) (1.5.1)\n",
            "Requirement already satisfied: filelock in /usr/local/lib/python3.10/dist-packages (from torch->-r requirements.txt (line 1)) (3.13.3)\n",
            "Requirement already satisfied: typing-extensions>=4.8.0 in /usr/local/lib/python3.10/dist-packages (from torch->-r requirements.txt (line 1)) (4.10.0)\n",
            "Requirement already satisfied: sympy in /usr/local/lib/python3.10/dist-packages (from torch->-r requirements.txt (line 1)) (1.12)\n",
            "Requirement already satisfied: networkx in /usr/local/lib/python3.10/dist-packages (from torch->-r requirements.txt (line 1)) (3.2.1)\n",
            "Requirement already satisfied: jinja2 in /usr/local/lib/python3.10/dist-packages (from torch->-r requirements.txt (line 1)) (3.1.3)\n",
            "Requirement already satisfied: fsspec in /usr/local/lib/python3.10/dist-packages (from torch->-r requirements.txt (line 1)) (2023.6.0)\n",
            "Collecting nvidia-cuda-nvrtc-cu12==12.1.105 (from torch->-r requirements.txt (line 1))\n",
            "  Downloading nvidia_cuda_nvrtc_cu12-12.1.105-py3-none-manylinux1_x86_64.whl (23.7 MB)\n",
            "\u001b[2K     \u001b[90m━━━━━━━━━━━━━━━━━━━━━━━━━━━━━━━━━━━━━━━━\u001b[0m \u001b[32m23.7/23.7 MB\u001b[0m \u001b[31m31.9 MB/s\u001b[0m eta \u001b[36m0:00:00\u001b[0m\n",
            "\u001b[?25hCollecting nvidia-cuda-runtime-cu12==12.1.105 (from torch->-r requirements.txt (line 1))\n",
            "  Downloading nvidia_cuda_runtime_cu12-12.1.105-py3-none-manylinux1_x86_64.whl (823 kB)\n",
            "\u001b[2K     \u001b[90m━━━━━━━━━━━━━━━━━━━━━━━━━━━━━━━━━━━━━━━━\u001b[0m \u001b[32m823.6/823.6 kB\u001b[0m \u001b[31m49.8 MB/s\u001b[0m eta \u001b[36m0:00:00\u001b[0m\n",
            "\u001b[?25hCollecting nvidia-cuda-cupti-cu12==12.1.105 (from torch->-r requirements.txt (line 1))\n",
            "  Downloading nvidia_cuda_cupti_cu12-12.1.105-py3-none-manylinux1_x86_64.whl (14.1 MB)\n",
            "\u001b[2K     \u001b[90m━━━━━━━━━━━━━━━━━━━━━━━━━━━━━━━━━━━━━━━━\u001b[0m \u001b[32m14.1/14.1 MB\u001b[0m \u001b[31m51.9 MB/s\u001b[0m eta \u001b[36m0:00:00\u001b[0m\n",
            "\u001b[?25hCollecting nvidia-cudnn-cu12==8.9.2.26 (from torch->-r requirements.txt (line 1))\n",
            "  Downloading nvidia_cudnn_cu12-8.9.2.26-py3-none-manylinux1_x86_64.whl (731.7 MB)\n",
            "\u001b[2K     \u001b[90m━━━━━━━━━━━━━━━━━━━━━━━━━━━━━━━━━━━━━━━━\u001b[0m \u001b[32m731.7/731.7 MB\u001b[0m \u001b[31m2.0 MB/s\u001b[0m eta \u001b[36m0:00:00\u001b[0m\n",
            "\u001b[?25hCollecting nvidia-cublas-cu12==12.1.3.1 (from torch->-r requirements.txt (line 1))\n",
            "  Downloading nvidia_cublas_cu12-12.1.3.1-py3-none-manylinux1_x86_64.whl (410.6 MB)\n",
            "\u001b[2K     \u001b[90m━━━━━━━━━━━━━━━━━━━━━━━━━━━━━━━━━━━━━━━━\u001b[0m \u001b[32m410.6/410.6 MB\u001b[0m \u001b[31m3.5 MB/s\u001b[0m eta \u001b[36m0:00:00\u001b[0m\n",
            "\u001b[?25hCollecting nvidia-cufft-cu12==11.0.2.54 (from torch->-r requirements.txt (line 1))\n",
            "  Downloading nvidia_cufft_cu12-11.0.2.54-py3-none-manylinux1_x86_64.whl (121.6 MB)\n",
            "\u001b[2K     \u001b[90m━━━━━━━━━━━━━━━━━━━━━━━━━━━━━━━━━━━━━━━━\u001b[0m \u001b[32m121.6/121.6 MB\u001b[0m \u001b[31m8.3 MB/s\u001b[0m eta \u001b[36m0:00:00\u001b[0m\n",
            "\u001b[?25hCollecting nvidia-curand-cu12==10.3.2.106 (from torch->-r requirements.txt (line 1))\n",
            "  Downloading nvidia_curand_cu12-10.3.2.106-py3-none-manylinux1_x86_64.whl (56.5 MB)\n",
            "\u001b[2K     \u001b[90m━━━━━━━━━━━━━━━━━━━━━━━━━━━━━━━━━━━━━━━━\u001b[0m \u001b[32m56.5/56.5 MB\u001b[0m \u001b[31m10.1 MB/s\u001b[0m eta \u001b[36m0:00:00\u001b[0m\n",
            "\u001b[?25hCollecting nvidia-cusolver-cu12==11.4.5.107 (from torch->-r requirements.txt (line 1))\n",
            "  Downloading nvidia_cusolver_cu12-11.4.5.107-py3-none-manylinux1_x86_64.whl (124.2 MB)\n",
            "\u001b[2K     \u001b[90m━━━━━━━━━━━━━━━━━━━━━━━━━━━━━━━━━━━━━━━━\u001b[0m \u001b[32m124.2/124.2 MB\u001b[0m \u001b[31m8.2 MB/s\u001b[0m eta \u001b[36m0:00:00\u001b[0m\n",
            "\u001b[?25hCollecting nvidia-cusparse-cu12==12.1.0.106 (from torch->-r requirements.txt (line 1))\n",
            "  Downloading nvidia_cusparse_cu12-12.1.0.106-py3-none-manylinux1_x86_64.whl (196.0 MB)\n",
            "\u001b[2K     \u001b[90m━━━━━━━━━━━━━━━━━━━━━━━━━━━━━━━━━━━━━━━━\u001b[0m \u001b[32m196.0/196.0 MB\u001b[0m \u001b[31m2.6 MB/s\u001b[0m eta \u001b[36m0:00:00\u001b[0m\n",
            "\u001b[?25hCollecting nvidia-nccl-cu12==2.19.3 (from torch->-r requirements.txt (line 1))\n",
            "  Downloading nvidia_nccl_cu12-2.19.3-py3-none-manylinux1_x86_64.whl (166.0 MB)\n",
            "\u001b[2K     \u001b[90m━━━━━━━━━━━━━━━━━━━━━━━━━━━━━━━━━━━━━━━━\u001b[0m \u001b[32m166.0/166.0 MB\u001b[0m \u001b[31m6.7 MB/s\u001b[0m eta \u001b[36m0:00:00\u001b[0m\n",
            "\u001b[?25hCollecting nvidia-nvtx-cu12==12.1.105 (from torch->-r requirements.txt (line 1))\n",
            "  Downloading nvidia_nvtx_cu12-12.1.105-py3-none-manylinux1_x86_64.whl (99 kB)\n",
            "\u001b[2K     \u001b[90m━━━━━━━━━━━━━━━━━━━━━━━━━━━━━━━━━━━━━━━━\u001b[0m \u001b[32m99.1/99.1 kB\u001b[0m \u001b[31m15.1 MB/s\u001b[0m eta \u001b[36m0:00:00\u001b[0m\n",
            "\u001b[?25hRequirement already satisfied: triton==2.2.0 in /usr/local/lib/python3.10/dist-packages (from torch->-r requirements.txt (line 1)) (2.2.0)\n",
            "Collecting nvidia-nvjitlink-cu12 (from nvidia-cusolver-cu12==11.4.5.107->torch->-r requirements.txt (line 1))\n",
            "  Downloading nvidia_nvjitlink_cu12-12.4.99-py3-none-manylinux2014_x86_64.whl (21.1 MB)\n",
            "\u001b[2K     \u001b[90m━━━━━━━━━━━━━━━━━━━━━━━━━━━━━━━━━━━━━━━━\u001b[0m \u001b[32m21.1/21.1 MB\u001b[0m \u001b[31m69.6 MB/s\u001b[0m eta \u001b[36m0:00:00\u001b[0m\n",
            "\u001b[?25hRequirement already satisfied: pillow!=8.3.*,>=5.3.0 in /usr/local/lib/python3.10/dist-packages (from torchvision->-r requirements.txt (line 2)) (9.4.0)\n",
            "Requirement already satisfied: requests[socks] in /usr/local/lib/python3.10/dist-packages (from gdown>=4.4.0->-r requirements.txt (line 3)) (2.31.0)\n",
            "Requirement already satisfied: six in /usr/local/lib/python3.10/dist-packages (from gdown>=4.4.0->-r requirements.txt (line 3)) (1.16.0)\n",
            "Requirement already satisfied: beautifulsoup4 in /usr/local/lib/python3.10/dist-packages (from gdown>=4.4.0->-r requirements.txt (line 3)) (4.12.3)\n",
            "Requirement already satisfied: audioread>=2.1.9 in /usr/local/lib/python3.10/dist-packages (from librosa->-r requirements.txt (line 5)) (3.0.1)\n",
            "Requirement already satisfied: scipy>=1.2.0 in /usr/local/lib/python3.10/dist-packages (from librosa->-r requirements.txt (line 5)) (1.11.4)\n",
            "Requirement already satisfied: scikit-learn>=0.20.0 in /usr/local/lib/python3.10/dist-packages (from librosa->-r requirements.txt (line 5)) (1.2.2)\n",
            "Requirement already satisfied: joblib>=0.14 in /usr/local/lib/python3.10/dist-packages (from librosa->-r requirements.txt (line 5)) (1.3.2)\n",
            "Requirement already satisfied: decorator>=4.3.0 in /usr/local/lib/python3.10/dist-packages (from librosa->-r requirements.txt (line 5)) (4.4.2)\n",
            "Requirement already satisfied: numba>=0.51.0 in /usr/local/lib/python3.10/dist-packages (from librosa->-r requirements.txt (line 5)) (0.58.1)\n",
            "Requirement already satisfied: soundfile>=0.12.1 in /usr/local/lib/python3.10/dist-packages (from librosa->-r requirements.txt (line 5)) (0.12.1)\n",
            "Requirement already satisfied: pooch>=1.0 in /usr/local/lib/python3.10/dist-packages (from librosa->-r requirements.txt (line 5)) (1.8.1)\n",
            "Requirement already satisfied: soxr>=0.3.2 in /usr/local/lib/python3.10/dist-packages (from librosa->-r requirements.txt (line 5)) (0.3.7)\n",
            "Requirement already satisfied: lazy-loader>=0.1 in /usr/local/lib/python3.10/dist-packages (from librosa->-r requirements.txt (line 5)) (0.3)\n",
            "Requirement already satisfied: msgpack>=1.0 in /usr/local/lib/python3.10/dist-packages (from librosa->-r requirements.txt (line 5)) (1.0.8)\n",
            "Requirement already satisfied: contourpy>=1.0.1 in /usr/local/lib/python3.10/dist-packages (from matplotlib->-r requirements.txt (line 6)) (1.2.0)\n",
            "Requirement already satisfied: cycler>=0.10 in /usr/local/lib/python3.10/dist-packages (from matplotlib->-r requirements.txt (line 6)) (0.12.1)\n",
            "Requirement already satisfied: fonttools>=4.22.0 in /usr/local/lib/python3.10/dist-packages (from matplotlib->-r requirements.txt (line 6)) (4.50.0)\n",
            "Requirement already satisfied: kiwisolver>=1.0.1 in /usr/local/lib/python3.10/dist-packages (from matplotlib->-r requirements.txt (line 6)) (1.4.5)\n",
            "Requirement already satisfied: packaging>=20.0 in /usr/local/lib/python3.10/dist-packages (from matplotlib->-r requirements.txt (line 6)) (24.0)\n",
            "Requirement already satisfied: pyparsing>=2.3.1 in /usr/local/lib/python3.10/dist-packages (from matplotlib->-r requirements.txt (line 6)) (3.1.2)\n",
            "Requirement already satisfied: python-dateutil>=2.7 in /usr/local/lib/python3.10/dist-packages (from matplotlib->-r requirements.txt (line 6)) (2.8.2)\n",
            "Requirement already satisfied: absl-py>=0.4 in /usr/local/lib/python3.10/dist-packages (from tensorboard->-r requirements.txt (line 7)) (1.4.0)\n",
            "Requirement already satisfied: grpcio>=1.48.2 in /usr/local/lib/python3.10/dist-packages (from tensorboard->-r requirements.txt (line 7)) (1.62.1)\n",
            "Requirement already satisfied: google-auth<3,>=1.6.3 in /usr/local/lib/python3.10/dist-packages (from tensorboard->-r requirements.txt (line 7)) (2.27.0)\n",
            "Requirement already satisfied: google-auth-oauthlib<2,>=0.5 in /usr/local/lib/python3.10/dist-packages (from tensorboard->-r requirements.txt (line 7)) (1.2.0)\n",
            "Requirement already satisfied: markdown>=2.6.8 in /usr/local/lib/python3.10/dist-packages (from tensorboard->-r requirements.txt (line 7)) (3.6)\n",
            "Requirement already satisfied: protobuf!=4.24.0,>=3.19.6 in /usr/local/lib/python3.10/dist-packages (from tensorboard->-r requirements.txt (line 7)) (3.20.3)\n",
            "Requirement already satisfied: setuptools>=41.0.0 in /usr/local/lib/python3.10/dist-packages (from tensorboard->-r requirements.txt (line 7)) (67.7.2)\n",
            "Requirement already satisfied: tensorboard-data-server<0.8.0,>=0.7.0 in /usr/local/lib/python3.10/dist-packages (from tensorboard->-r requirements.txt (line 7)) (0.7.2)\n",
            "Requirement already satisfied: werkzeug>=1.0.1 in /usr/local/lib/python3.10/dist-packages (from tensorboard->-r requirements.txt (line 7)) (3.0.1)\n",
            "Collecting jedi>=0.16 (from ipython>=7.0->-r requirements.txt (line 8))\n",
            "  Downloading jedi-0.19.1-py2.py3-none-any.whl (1.6 MB)\n",
            "\u001b[2K     \u001b[90m━━━━━━━━━━━━━━━━━━━━━━━━━━━━━━━━━━━━━━━━\u001b[0m \u001b[32m1.6/1.6 MB\u001b[0m \u001b[31m79.4 MB/s\u001b[0m eta \u001b[36m0:00:00\u001b[0m\n",
            "\u001b[?25hRequirement already satisfied: pickleshare in /usr/local/lib/python3.10/dist-packages (from ipython>=7.0->-r requirements.txt (line 8)) (0.7.5)\n",
            "Requirement already satisfied: traitlets>=4.2 in /usr/local/lib/python3.10/dist-packages (from ipython>=7.0->-r requirements.txt (line 8)) (5.7.1)\n",
            "Requirement already satisfied: prompt-toolkit!=3.0.0,!=3.0.1,<3.1.0,>=2.0.0 in /usr/local/lib/python3.10/dist-packages (from ipython>=7.0->-r requirements.txt (line 8)) (3.0.43)\n",
            "Requirement already satisfied: pygments in /usr/local/lib/python3.10/dist-packages (from ipython>=7.0->-r requirements.txt (line 8)) (2.16.1)\n",
            "Requirement already satisfied: backcall in /usr/local/lib/python3.10/dist-packages (from ipython>=7.0->-r requirements.txt (line 8)) (0.2.0)\n",
            "Requirement already satisfied: matplotlib-inline in /usr/local/lib/python3.10/dist-packages (from ipython>=7.0->-r requirements.txt (line 8)) (0.1.6)\n",
            "Requirement already satisfied: pexpect>4.3 in /usr/local/lib/python3.10/dist-packages (from ipython>=7.0->-r requirements.txt (line 8)) (4.9.0)\n",
            "Requirement already satisfied: ipython-genutils in /usr/local/lib/python3.10/dist-packages (from ipykernel->-r requirements.txt (line 9)) (0.2.0)\n",
            "Requirement already satisfied: jupyter-client in /usr/local/lib/python3.10/dist-packages (from ipykernel->-r requirements.txt (line 9)) (6.1.12)\n",
            "Requirement already satisfied: tornado>=4.2 in /usr/local/lib/python3.10/dist-packages (from ipykernel->-r requirements.txt (line 9)) (6.3.3)\n",
            "Requirement already satisfied: pandas>=1.2 in /usr/local/lib/python3.10/dist-packages (from seaborn->-r requirements.txt (line 13)) (1.5.3)\n",
            "Requirement already satisfied: cachetools<6.0,>=2.0.0 in /usr/local/lib/python3.10/dist-packages (from google-auth<3,>=1.6.3->tensorboard->-r requirements.txt (line 7)) (5.3.3)\n",
            "Requirement already satisfied: pyasn1-modules>=0.2.1 in /usr/local/lib/python3.10/dist-packages (from google-auth<3,>=1.6.3->tensorboard->-r requirements.txt (line 7)) (0.4.0)\n",
            "Requirement already satisfied: rsa<5,>=3.1.4 in /usr/local/lib/python3.10/dist-packages (from google-auth<3,>=1.6.3->tensorboard->-r requirements.txt (line 7)) (4.9)\n",
            "Requirement already satisfied: requests-oauthlib>=0.7.0 in /usr/local/lib/python3.10/dist-packages (from google-auth-oauthlib<2,>=0.5->tensorboard->-r requirements.txt (line 7)) (1.4.1)\n",
            "Requirement already satisfied: parso<0.9.0,>=0.8.3 in /usr/local/lib/python3.10/dist-packages (from jedi>=0.16->ipython>=7.0->-r requirements.txt (line 8)) (0.8.3)\n",
            "Requirement already satisfied: llvmlite<0.42,>=0.41.0dev0 in /usr/local/lib/python3.10/dist-packages (from numba>=0.51.0->librosa->-r requirements.txt (line 5)) (0.41.1)\n",
            "Requirement already satisfied: pytz>=2020.1 in /usr/local/lib/python3.10/dist-packages (from pandas>=1.2->seaborn->-r requirements.txt (line 13)) (2023.4)\n",
            "Requirement already satisfied: ptyprocess>=0.5 in /usr/local/lib/python3.10/dist-packages (from pexpect>4.3->ipython>=7.0->-r requirements.txt (line 8)) (0.7.0)\n",
            "Requirement already satisfied: platformdirs>=2.5.0 in /usr/local/lib/python3.10/dist-packages (from pooch>=1.0->librosa->-r requirements.txt (line 5)) (4.2.0)\n",
            "Requirement already satisfied: wcwidth in /usr/local/lib/python3.10/dist-packages (from prompt-toolkit!=3.0.0,!=3.0.1,<3.1.0,>=2.0.0->ipython>=7.0->-r requirements.txt (line 8)) (0.2.13)\n",
            "Requirement already satisfied: charset-normalizer<4,>=2 in /usr/local/lib/python3.10/dist-packages (from requests[socks]->gdown>=4.4.0->-r requirements.txt (line 3)) (3.3.2)\n",
            "Requirement already satisfied: idna<4,>=2.5 in /usr/local/lib/python3.10/dist-packages (from requests[socks]->gdown>=4.4.0->-r requirements.txt (line 3)) (3.6)\n",
            "Requirement already satisfied: urllib3<3,>=1.21.1 in /usr/local/lib/python3.10/dist-packages (from requests[socks]->gdown>=4.4.0->-r requirements.txt (line 3)) (2.0.7)\n",
            "Requirement already satisfied: certifi>=2017.4.17 in /usr/local/lib/python3.10/dist-packages (from requests[socks]->gdown>=4.4.0->-r requirements.txt (line 3)) (2024.2.2)\n",
            "Requirement already satisfied: threadpoolctl>=2.0.0 in /usr/local/lib/python3.10/dist-packages (from scikit-learn>=0.20.0->librosa->-r requirements.txt (line 5)) (3.4.0)\n",
            "Requirement already satisfied: cffi>=1.0 in /usr/local/lib/python3.10/dist-packages (from soundfile>=0.12.1->librosa->-r requirements.txt (line 5)) (1.16.0)\n",
            "Requirement already satisfied: MarkupSafe>=2.1.1 in /usr/local/lib/python3.10/dist-packages (from werkzeug>=1.0.1->tensorboard->-r requirements.txt (line 7)) (2.1.5)\n",
            "Requirement already satisfied: soupsieve>1.2 in /usr/local/lib/python3.10/dist-packages (from beautifulsoup4->gdown>=4.4.0->-r requirements.txt (line 3)) (2.5)\n",
            "Requirement already satisfied: jupyter-core>=4.6.0 in /usr/local/lib/python3.10/dist-packages (from jupyter-client->ipykernel->-r requirements.txt (line 9)) (5.7.2)\n",
            "Requirement already satisfied: pyzmq>=13 in /usr/local/lib/python3.10/dist-packages (from jupyter-client->ipykernel->-r requirements.txt (line 9)) (23.2.1)\n",
            "Requirement already satisfied: PySocks!=1.5.7,>=1.5.6 in /usr/local/lib/python3.10/dist-packages (from requests[socks]->gdown>=4.4.0->-r requirements.txt (line 3)) (1.7.1)\n",
            "Requirement already satisfied: mpmath>=0.19 in /usr/local/lib/python3.10/dist-packages (from sympy->torch->-r requirements.txt (line 1)) (1.3.0)\n",
            "Requirement already satisfied: pycparser in /usr/local/lib/python3.10/dist-packages (from cffi>=1.0->soundfile>=0.12.1->librosa->-r requirements.txt (line 5)) (2.21)\n",
            "Requirement already satisfied: pyasn1<0.7.0,>=0.4.6 in /usr/local/lib/python3.10/dist-packages (from pyasn1-modules>=0.2.1->google-auth<3,>=1.6.3->tensorboard->-r requirements.txt (line 7)) (0.6.0)\n",
            "Requirement already satisfied: oauthlib>=3.0.0 in /usr/local/lib/python3.10/dist-packages (from requests-oauthlib>=0.7.0->google-auth-oauthlib<2,>=0.5->tensorboard->-r requirements.txt (line 7)) (3.2.2)\n",
            "Installing collected packages: nvidia-nvtx-cu12, nvidia-nvjitlink-cu12, nvidia-nccl-cu12, nvidia-curand-cu12, nvidia-cufft-cu12, nvidia-cuda-runtime-cu12, nvidia-cuda-nvrtc-cu12, nvidia-cuda-cupti-cu12, nvidia-cublas-cu12, jedi, nvidia-cusparse-cu12, nvidia-cudnn-cu12, nvidia-cusolver-cu12\n",
            "Successfully installed jedi-0.19.1 nvidia-cublas-cu12-12.1.3.1 nvidia-cuda-cupti-cu12-12.1.105 nvidia-cuda-nvrtc-cu12-12.1.105 nvidia-cuda-runtime-cu12-12.1.105 nvidia-cudnn-cu12-8.9.2.26 nvidia-cufft-cu12-11.0.2.54 nvidia-curand-cu12-10.3.2.106 nvidia-cusolver-cu12-11.4.5.107 nvidia-cusparse-cu12-12.1.0.106 nvidia-nccl-cu12-2.19.3 nvidia-nvjitlink-cu12-12.4.99 nvidia-nvtx-cu12-12.1.105\n"
          ]
        }
      ],
      "source": [
        "# helper code from the course repository\n",
        "!git clone https://github.com/interactiveaudiolab/course-deep-learning.git\n",
        "# install common pacakges used for deep learning\n",
        "!cd course-deep-learning/ && pip install -r requirements.txt"
      ]
    },
    {
      "cell_type": "markdown",
      "id": "pertAODYu7Ws",
      "metadata": {
        "id": "pertAODYu7Ws"
      },
      "source": [
        "Let's import utility functions to create and plot simple two-dimensional datasets."
      ]
    },
    {
      "cell_type": "code",
      "execution_count": 2,
      "id": "34dd9b7d-c4da-46c4-98f9-52533749c31d",
      "metadata": {
        "id": "34dd9b7d-c4da-46c4-98f9-52533749c31d",
        "colab": {
          "base_uri": "https://localhost:8080/"
        },
        "outputId": "37c8b7a0-c51e-4152-b5e6-b1db0e5599df"
      },
      "outputs": [
        {
          "output_type": "stream",
          "name": "stdout",
          "text": [
            "/content/course-deep-learning\n"
          ]
        }
      ],
      "source": [
        "# this \"magic\" command makes graphics produced by matplotlib appear in the notebook.\n",
        "%matplotlib inline\n",
        "\n",
        "# make sure we're in the right directory\n",
        "%cd course-deep-learning/\n",
        "\n",
        "import torch                  # This is PyTorch, what we're using for deep learning in class\n",
        "import numpy as np            # standard numerical processing library\n",
        "from utils.plotting import *  # see plotting.py for plotting utilities\n",
        "from utils.data import *      # see data.py for dataset utilities"
      ]
    },
    {
      "cell_type": "markdown",
      "id": "bf0ac00e-4c4a-4e22-a70c-9cad80ec4441",
      "metadata": {
        "id": "bf0ac00e-4c4a-4e22-a70c-9cad80ec4441",
        "tags": []
      },
      "source": [
        "---\n",
        "\n",
        "## __2.__ <a name=\"mlp\">Multi-Layer Perceptron</a>\n",
        "\n",
        "As we saw in the previous notebook, a fundamental limitation of the perceptron is its inability to model nonlinear decision functions. To give our perceptron the capacity to model more complex functions, we can make a couple of tweaks:\n",
        "\n",
        "1. We can combine multiple simple perceptron models in __layers__ to increase the number of learnable weights\n",
        "2. We can introduce __nonlinearities__ (nonlinear activation functions) between layers to allow our model to express complicated nonlinear relationships\n",
        "\n",
        "The resulting architecture is often called a __multi-layer perceptron__ or a __neural network__. As illustrated below, the combination of multiple weight layers and nonlinear activation functions is responsible for the multi-layer perceptron's increased expressivity.\n",
        "\n",
        "<br/>\n",
        "<center>\n",
        "<img width=\"500px\" src=\"https://drive.google.com/uc?export=view&id=1y8wZC5Jue280LIDJAsH_dTQPvy8vshNU\"/>\n",
        "</center>\n",
        "<br/>\n",
        "\n",
        "The PyTorch library allows us to easily define neural network models using built-in components such as layers and activation functions. In the remainder of this notebook, we'll cover the basics of how to build and train neural networks in PyTorch."
      ]
    },
    {
      "cell_type": "markdown",
      "id": "9589572b-9a5b-401d-8fcb-6ef2b0b656af",
      "metadata": {
        "id": "9589572b-9a5b-401d-8fcb-6ef2b0b656af",
        "tags": []
      },
      "source": [
        "---\n",
        "\n",
        "## __3.__ <a name=\"torch\">PyTorch Essentials</a>\n",
        "\n",
        "\n",
        "### __3.1.__ <a name=\"definition\">Defining A Model</a>\n",
        "\n",
        "Below, we implement the neural network shown above using built-in PyTorch components. Our network class inerits from `torch.nn.Module`, and in addition to a constructor must define a `forward()` method to specify how the model processes inputs into outputs."
      ]
    },
    {
      "cell_type": "code",
      "execution_count": 3,
      "id": "36f07267-ecc9-47ab-853e-fdfc05a63cfc",
      "metadata": {
        "colab": {
          "base_uri": "https://localhost:8080/"
        },
        "id": "36f07267-ecc9-47ab-853e-fdfc05a63cfc",
        "outputId": "77105441-b1a2-4605-a157-2cf53a17440a",
        "tags": []
      },
      "outputs": [
        {
          "output_type": "stream",
          "name": "stdout",
          "text": [
            "Model's state dictionary (stored weights):\n",
            "   fc1.weight \t (3, 2)\n",
            "   fc1.bias \t (3,)\n",
            "   fc2.weight \t (2, 3)\n",
            "   fc2.bias \t (2,)\n",
            "   fc3.weight \t (1, 2)\n",
            "   fc3.bias \t (1,)\n",
            "In total, this network has  20  trainable parameters\n",
            "Input dimension: torch.Size([2]), Output dimension: torch.Size([1])\n"
          ]
        }
      ],
      "source": [
        "import torch.nn as nn\n",
        "import torch.nn.functional as F\n",
        "import torch.optim as optim\n",
        "\n",
        "\n",
        "class Net(nn.Module):\n",
        "    \"\"\" Our first neural network model. We'll keep it simple.\"\"\"\n",
        "\n",
        "    # This bit determines the architecture of each layer...but not how data flows\n",
        "    # Here we make 3 layers, which we named fc1, fc2 and fc3.\n",
        "    def __init__(self):\n",
        "        super().__init__() # has to be here\n",
        "        self.fc1 = nn.Linear(2,3) # this accepts 2 dim input and returns 3 dim output\n",
        "        self.fc2 = nn.Linear(3,2)\n",
        "        self.fc3 = nn.Linear(2,1)\n",
        "\n",
        "    # This part determines how data in x flows through the network.\n",
        "    # Here, x is the input to the network.\n",
        "    def forward(self, x):\n",
        "        x = torch.tanh(self.fc1(x)) # this applies a tanh function to each of the outputs of fc1\n",
        "        x = torch.tanh(self.fc2(x))\n",
        "        x = torch.tanh(self.fc3(x))\n",
        "        return x\n",
        "\n",
        "\n",
        "def print_model(model):\n",
        "    \"\"\"\n",
        "    A simple functon that prints out a PyTorch model's structural details\n",
        "\n",
        "    PARAMETERS\n",
        "    ----------\n",
        "    model     a torch.nn.Model\n",
        "    \"\"\"\n",
        "\n",
        "    # Print model's state_dict\n",
        "    print(\"Model's state dictionary (stored weights):\")\n",
        "    for param_tensor in model.state_dict():\n",
        "        print(\"  \", param_tensor, \"\\t\", tuple(model.state_dict()[param_tensor].size()))\n",
        "\n",
        "    # Print the number of parameters in the model\n",
        "    parameter_count =  sum(p.numel() for p in model.parameters() if p.requires_grad)\n",
        "    print(\"In total, this network has \", parameter_count, \" trainable parameters\")\n",
        "\n",
        "\n",
        "# initialize a model and examine its weights\n",
        "net = Net()\n",
        "print_model(net)\n",
        "\n",
        "# given a 2-dimensional input...\n",
        "x = torch.randn(2)\n",
        "\n",
        "# ...the model produces 1-dimensional output\n",
        "output = net(x)\n",
        "print(f\"Input dimension: {x.shape}, Output dimension: {output.shape}\")"
      ]
    },
    {
      "cell_type": "markdown",
      "id": "ea154f59-859e-438b-8580-07a33b2e0e66",
      "metadata": {
        "id": "ea154f59-859e-438b-8580-07a33b2e0e66",
        "tags": []
      },
      "source": [
        "### __3.2.__ <a name=\"backprop\">Backpropagation in a Nutshell</a>\n",
        "\n",
        "Whereas our simple perceptron mapped two-dimensional inputs directly to scalar outputs, a neural network can map inputs through a number of __intermediate (\"hidden\") representations__ of varying dimensions. This additional complexity helps our model learn more difficult functions, but it also means we can no longer use the simple perceptron learning algorithm to train (i.e. we can no longer update our weights by directly adding incorrectly-predicted inputs).\n",
        "\n",
        "Luckily for us, the perceptron learning algorithm is just one of many optimization techniques that propagates an error measurement from the model's output to its weights in order to perform updates. When this error measurement is provided by a differentiable __loss function__ and our model's output is differentiable with respect to its weights, we can propagate error by computing the __gradient__ of the loss function with respect to each weight and performing a small update in the opposite direction of the gradient. The computation of these gradients is called __backpropagation__, and allows us to systematically train large and complex neural networks.\n",
        "\n",
        "\n",
        "If all of this sounds like a lot of work, don't worry -- PyTorch provides __automatic differentiation__, meaning that gradient computation is handled for us under-the-hood. Once a network is defined, training can be accomplished using a few function calls in a standard loop!"
      ]
    },
    {
      "cell_type": "code",
      "execution_count": 4,
      "id": "8b93ce36-6470-4afe-a130-e8517c78a83a",
      "metadata": {
        "colab": {
          "base_uri": "https://localhost:8080/"
        },
        "id": "8b93ce36-6470-4afe-a130-e8517c78a83a",
        "outputId": "a840cf71-949b-44b0-85eb-793cd2031d4a",
        "tags": []
      },
      "outputs": [
        {
          "output_type": "stream",
          "name": "stdout",
          "text": [
            "Creating a tensor of type <class 'torch.Tensor'> with shape torch.Size([10])\n",
            "Starting x: tensor([0., 0., 0., 0., 0., 0., 0., 0., 0., 0.])\n",
            "Does our tensor require gradient computation? False\n",
            "Does our tensor require gradient computation? True\n",
            "Starting `loss` value: 10.0\n",
            "Gradients of x: None\n",
            "Gradients of x: tensor([-1., -1., -1., -1., -1., -1., -1., -1., -1., -1.])\n",
            "Updated x: tensor([1., 1., 1., 1., 1., 1., 1., 1., 1., 1.])\n",
            "Updated `loss` value: 0.0\n"
          ]
        }
      ],
      "source": [
        "# in PyTorch, all data (e.g. inputs, outputs, weights) is stored in Tensor objects.\n",
        "# Tensors act similarly to NumPy arrays, and share many methods\n",
        "x = torch.zeros(10)\n",
        "print(f\"Creating a tensor of type {type(x)} with shape {x.shape}\")\n",
        "print(f\"Starting x: {x}\")\n",
        "\n",
        "# During backpropagation, gradients will only be computed for tensors with the\n",
        "# `requires_grad` attribute set to True. We can set this manually if need be\n",
        "print(f\"Does our tensor require gradient computation? {x.requires_grad}\")\n",
        "x.requires_grad = True\n",
        "print(f\"Does our tensor require gradient computation? {x.requires_grad}\")\n",
        "\n",
        "# To perform backpropagation, we need to complete a \"forward pass\" in which\n",
        "# computations are performed on Tensor objects to compute a scalar loss value\n",
        "loss = 10 - x.sum()\n",
        "print(f\"Starting `loss` value: {loss}\")\n",
        "print(f\"Gradients of x: {x.grad}\")\n",
        "\n",
        "# PyTorch will compute all required gradients for tensors involved in the\n",
        "# computation of a scalar loss value once we call `.backward()`\n",
        "loss.backward()\n",
        "print(f\"Gradients of x: {x.grad}\")\n",
        "\n",
        "# We can update our `weights` in the opposite direction of this gradient to reduce our\n",
        "# loss value!\n",
        "x = x - x.grad\n",
        "print(f\"Updated x: {x.data}\")\n",
        "loss = 10 - x.sum()\n",
        "print(f\"Updated `loss` value: {loss}\")"
      ]
    },
    {
      "cell_type": "markdown",
      "id": "6a13d34b-0580-4660-8b76-52d772d65146",
      "metadata": {
        "id": "6a13d34b-0580-4660-8b76-52d772d65146",
        "tags": []
      },
      "source": [
        "### __3.3__ <a name=\"opt\">Optimizers</a>\n",
        "\n",
        "In the above example we computed differentiable a scalar loss, used backpropagation to compute the gradients of the loss with respect to our \"weights,\" and performed a gradient-based update on our weights to reduce the loss. Rather than managing the weight-update process by hand, we can defer to a built-in __optimizer__ object that automatically adjusts weights based on stored gradients and standard hyperparameters (e.g. learning rate). When training neural networks with large numbers of parameters, this becomes much simpler than manually updating each weight."
      ]
    },
    {
      "cell_type": "code",
      "execution_count": 5,
      "id": "c47c8528-af83-4175-9bf3-8f07b1694b67",
      "metadata": {
        "colab": {
          "base_uri": "https://localhost:8080/"
        },
        "id": "c47c8528-af83-4175-9bf3-8f07b1694b67",
        "outputId": "1e2e9140-8450-49d2-a6fc-eae30ea5849a",
        "tags": []
      },
      "outputs": [
        {
          "output_type": "stream",
          "name": "stdout",
          "text": [
            "Starting x: tensor([0., 0., 0., 0., 0., 0., 0., 0., 0., 0.], requires_grad=True)\n",
            "Updated x: tensor([1., 1., 1., 1., 1., 1., 1., 1., 1., 1.], requires_grad=True)\n"
          ]
        }
      ],
      "source": [
        "# Repeat our simple optimization, this time using the optimizer.\n",
        "x = torch.zeros(10).requires_grad_(True)\n",
        "print(f\"Starting x: {x}\")\n",
        "\n",
        "# Create an optimizer object and pass it an Iterable containing our \"weights\".\n",
        "# Here, SGD is the torch stochastic gradient descent optimizer.\n",
        "# It has been handed our tensor x as something to optimize and the learning rate\n",
        "# (lr) is set to 1, which determines the step size for making changes to x.\n",
        "opt = torch.optim.SGD([x], lr = 1.0)\n",
        "\n",
        "# Compute loss and perform backpropagation.\n",
        "loss = 10 - x.sum()\n",
        "loss.backward()\n",
        "\n",
        "# perform an optimization step, i.e. a gradient-based update of our weights\n",
        "opt.step()\n",
        "\n",
        "print(f\"Updated x: {x}\")"
      ]
    },
    {
      "cell_type": "markdown",
      "id": "9a755881-96e2-4563-a8fc-11a857b8afe2",
      "metadata": {
        "id": "9a755881-96e2-4563-a8fc-11a857b8afe2",
        "tags": []
      },
      "source": [
        "## __4.__ <a name=\"train\">Training a Model</a>\n",
        "\n",
        "In the above examples, we \"trained\" a single tensor to minimize a loss function. Next, we'll use the same basic approach to train a neural network for a binary classification task."
      ]
    },
    {
      "cell_type": "code",
      "execution_count": 6,
      "id": "4777490a-7da8-4977-ac92-f6771c465823",
      "metadata": {
        "id": "4777490a-7da8-4977-ac92-f6771c465823"
      },
      "outputs": [],
      "source": [
        "def train_model(model, data, target):\n",
        "    \"\"\"\n",
        "    A simple functon that runs the network model through one epoch of the\n",
        "    training data and then updates the weights to move moodel output closer to the\n",
        "    target output.\n",
        "\n",
        "    PARAMETERS\n",
        "    ----------\n",
        "    model   A torch.nn.Model\n",
        "    data    A 2-D torch tensor where data[i] contains the ith example.\n",
        "    target  A torch tensor where target[i]  contains the expected output of the\n",
        "            model in response to input data[i]\n",
        "    \"\"\"\n",
        "\n",
        "    # This tells your model that you are in training mode, so that layers (like\n",
        "    # dropout, batchnorm) with different train-time and test-time behavior can\n",
        "    # behave accordingly. It doesn't do much on our simple model, but you need\n",
        "    # to do this as a standard practice!\n",
        "    model.train()\n",
        "\n",
        "    # Set the gradients to 0 before running the network on the data, so that\n",
        "    # loss gradients can be computed correctly during backpropagation\n",
        "    optimizer.zero_grad()\n",
        "\n",
        "    # Get the output of the network on the data\n",
        "    output = model(data)\n",
        "\n",
        "    # Measure the \"loss\" using mean squared error\n",
        "    loss = F.mse_loss(output.squeeze(), target)\n",
        "\n",
        "    # This calculates the gradients, performing backpropagation to propagate\n",
        "    # errors backward through the network's weights\n",
        "    loss.backward()\n",
        "\n",
        "    # This updates the network weights based on the freshly-computed gradient\n",
        "    # now stored alongside each weight\n",
        "    optimizer.step()\n",
        "\n",
        "\n",
        "def test_model(model, data, target):\n",
        "    \"\"\"\n",
        "    A simple functon that prints out the model's loss and accuracy on the\n",
        "    data\n",
        "\n",
        "    PARAMETERS\n",
        "    ----------\n",
        "    model     a torch.nn.Model\n",
        "    data      a 2-D torch tensor where data[i] contains the ith example.\n",
        "    target    a torch tensor where target[i]  contains the expected output\n",
        "            of the model in response to input data[i]\n",
        "    RETURNS\n",
        "    -------\n",
        "    accuracy  The accuracy on the data\n",
        "\n",
        "    loss      The loss on the data\n",
        "    \"\"\"\n",
        "\n",
        "    # This puts the network in evaluation mode so that layers (like\n",
        "    # dropout, batchnorm) with different train-time and test-time behavior can\n",
        "    # behave accordingly. It doesn't do much on our simple model, but you need\n",
        "    # to do this as a standard practice!\n",
        "    model.eval()\n",
        "\n",
        "    # torch.no_grad() tells the system to stop keeping track of gradients (derivatives)\n",
        "    # when performing calculations. This makes things run faster.\n",
        "    with torch.no_grad():\n",
        "\n",
        "        # Get the output of the network on a batch of test examples\n",
        "        output = model(data)\n",
        "        output = output.squeeze()\n",
        "\n",
        "        # Measure loss\n",
        "        loss = F.mse_loss(output, target)\n",
        "\n",
        "        # Get the (thresholded) predictions of the network\n",
        "        prediction = torch.sign(output)\n",
        "\n",
        "        # Measure the accuracy of the predictions\n",
        "        c = prediction*target\n",
        "        accuracy = torch.mean((c+1)/2)\n",
        "\n",
        "        # let's report\n",
        "        #print('\\nTest set: loss = ', round(loss.item(),4),\n",
        "        #      ' accuracy = ', round(accuracy.item(),3), '\\n')\n",
        "        accuracy = round(accuracy.item(),3)\n",
        "        loss = round(loss.item(),4)\n",
        "\n",
        "    return accuracy, loss"
      ]
    },
    {
      "cell_type": "markdown",
      "id": "90400463-41f6-49b6-9306-41fe3d092725",
      "metadata": {
        "id": "90400463-41f6-49b6-9306-41fe3d092725"
      },
      "source": [
        "With our basic training and evaluation procedures defined, we can finally train a neural network! We'll start by loading our data and initializing our model."
      ]
    },
    {
      "cell_type": "code",
      "execution_count": 7,
      "id": "475fa9bf-9c11-4f98-bb38-229274007f1f",
      "metadata": {
        "colab": {
          "base_uri": "https://localhost:8080/"
        },
        "id": "475fa9bf-9c11-4f98-bb38-229274007f1f",
        "outputId": "fcfa9d29-0ce1-46af-c1c7-8d1a1c1064d0"
      },
      "outputs": [
        {
          "output_type": "stream",
          "name": "stdout",
          "text": [
            "Model's state dictionary (stored weights):\n",
            "   fc1.weight \t (3, 2)\n",
            "   fc1.bias \t (3,)\n",
            "   fc2.weight \t (2, 3)\n",
            "   fc2.bias \t (2,)\n",
            "   fc3.weight \t (1, 2)\n",
            "   fc3.bias \t (1,)\n",
            "In total, this network has  20  trainable parameters\n"
          ]
        }
      ],
      "source": [
        "# make the data\n",
        "examples_per_class = 20\n",
        "distance_between_means = 1\n",
        "data, label = make_two_gaussians_data(examples_per_class, distance_between_means)\n",
        "#data, label = make_XOR_data(examples_per_class)\n",
        "#data, label = make_spiral_data(examples_per_class)\n",
        "#data,label = make_center_surround_data(examples_per_class, distance_between_means)\n",
        "\n",
        "# the data is in 64bit NumPy format, so we need to reformat the data as Tensors for PyTorch\n",
        "x = torch.tensor(data).to(dtype=torch.float32)\n",
        "y = torch.tensor(label).to(dtype=torch.float32)\n",
        "\n",
        "# initialize our model\n",
        "net = Net()\n",
        "optimizer = torch.optim.SGD(net.parameters(), lr=0.01, momentum=0.9)\n",
        "print_model(net)"
      ]
    },
    {
      "cell_type": "markdown",
      "id": "7025e7b7-b84d-42dc-a801-505a5875c509",
      "metadata": {
        "id": "7025e7b7-b84d-42dc-a801-505a5875c509"
      },
      "source": [
        "We can visualize the decision boundary drawn by our untrained model, as well as its initial accuracy."
      ]
    },
    {
      "cell_type": "code",
      "execution_count": 8,
      "id": "7787b652-9584-43c8-bf01-71ac03504693",
      "metadata": {
        "colab": {
          "base_uri": "https://localhost:8080/",
          "height": 448
        },
        "id": "7787b652-9584-43c8-bf01-71ac03504693",
        "outputId": "513ea505-d8b8-4cc7-8fc9-9679c6776e15"
      },
      "outputs": [
        {
          "output_type": "stream",
          "name": "stdout",
          "text": [
            "accuracy=0.5 loss=1.1618\n"
          ]
        },
        {
          "output_type": "display_data",
          "data": {
            "text/plain": [
              "<Figure size 640x480 with 1 Axes>"
            ],
            "image/png": "[encoded data removed]"
          },
          "metadata": {}
        }
      ],
      "source": [
        "scale = 2\n",
        "\n",
        "# look at the decision surface and model decision surface\n",
        "plot_data(data,label)\n",
        "xmin,xmax,ymin,ymax=plt.axis()\n",
        "plot_decision_surface(model=net, axis_limits=[xmin*scale,xmax*scale,ymin*scale,ymax*scale])\n",
        "\n",
        "# measure model accuracy\n",
        "accuracy, loss = test_model(net, x, y)\n",
        "print('accuracy=' + str(accuracy)+ ' loss=' + str(loss))"
      ]
    },
    {
      "cell_type": "markdown",
      "id": "29c16650-605d-4cc4-ac8e-8e75c9c8c6d9",
      "metadata": {
        "id": "29c16650-605d-4cc4-ac8e-8e75c9c8c6d9"
      },
      "source": [
        "Finally, let's train our model."
      ]
    },
    {
      "cell_type": "code",
      "execution_count": 9,
      "id": "223b3aa4-b1d6-4794-8bc0-4c357303b34f",
      "metadata": {
        "colab": {
          "base_uri": "https://localhost:8080/",
          "height": 448
        },
        "id": "223b3aa4-b1d6-4794-8bc0-4c357303b34f",
        "outputId": "cde8f6e7-0a52-4f7f-f001-1e996b682e60"
      },
      "outputs": [
        {
          "output_type": "stream",
          "name": "stdout",
          "text": [
            "accuracy=0.775 loss=0.6011\n"
          ]
        },
        {
          "output_type": "display_data",
          "data": {
            "text/plain": [
              "<Figure size 640x480 with 1 Axes>"
            ],
            "image/png": "[encoded data removed]"
          },
          "metadata": {}
        }
      ],
      "source": [
        "epochs = 1000\n",
        "scale = 1\n",
        "\n",
        "for i in range(0,epochs):\n",
        "    train_model(net, x, y)\n",
        "\n",
        "plot_data(data, label)\n",
        "xmin,xmax,ymin,ymax = plt.axis()\n",
        "plot_decision_surface(model=net, axis_limits=[xmin*scale,xmax*scale,ymin*scale,ymax*scale])\n",
        "accuracy, loss = test_model(net, x, y)\n",
        "print('accuracy=' + str(accuracy)+ ' loss=' + str(loss))"
      ]
    },
    {
      "cell_type": "markdown",
      "id": "16ee3445-9a24-4362-9a5d-7b0473152dc7",
      "metadata": {
        "id": "16ee3445-9a24-4362-9a5d-7b0473152dc7"
      },
      "source": [
        "As we can see, our simple neural network is capable of modeling nonlinear decision functions! Using the steps above, we can easily \"scale up\" our network to allow even more expressivity."
      ]
    },
    {
      "cell_type": "code",
      "execution_count": 10,
      "id": "eef93b0f-96de-4232-b926-b0b9f5c1b809",
      "metadata": {
        "colab": {
          "base_uri": "https://localhost:8080/",
          "height": 584
        },
        "id": "eef93b0f-96de-4232-b926-b0b9f5c1b809",
        "outputId": "f865cc57-c917-4cd9-cc13-493a29824bfa"
      },
      "outputs": [
        {
          "output_type": "stream",
          "name": "stdout",
          "text": [
            "Model's state dictionary (stored weights):\n",
            "   fc1.weight \t (100, 2)\n",
            "   fc1.bias \t (100,)\n",
            "   fc2.weight \t (10, 100)\n",
            "   fc2.bias \t (10,)\n",
            "   fc3.weight \t (1, 10)\n",
            "   fc3.bias \t (1,)\n",
            "In total, this network has  1321  trainable parameters\n",
            "accuracy=0.925 loss=0.2766\n"
          ]
        },
        {
          "output_type": "display_data",
          "data": {
            "text/plain": [
              "<Figure size 640x480 with 1 Axes>"
            ],
            "image/png": "[encoded data removed]"
          },
          "metadata": {}
        }
      ],
      "source": [
        "class BigNet(nn.Module):\n",
        "    \"\"\" Our second neural network model. We'll still keep it simple.\"\"\"\n",
        "\n",
        "    # this bit determines the architecture of each layer...but not how data flows\n",
        "    def __init__(self):\n",
        "        super().__init__() # has to be here\n",
        "        self.fc1 = nn.Linear(2,100)\n",
        "        self.fc2 = nn.Linear(100,10)\n",
        "        self.fc3 = nn.Linear(10,1)\n",
        "\n",
        "    # this part determines how data in x flows through the network.\n",
        "    def forward(self, x):\n",
        "        x = torch.tanh(self.fc1(x))\n",
        "        x = torch.tanh(self.fc2(x))\n",
        "        x = torch.tanh(self.fc3(x))\n",
        "        return x\n",
        "\n",
        "\n",
        "# initialize our model\n",
        "bignet = BigNet()\n",
        "optimizer = torch.optim.SGD(bignet.parameters(), lr=0.01, momentum=0.9)\n",
        "print_model(bignet)\n",
        "\n",
        "epochs = 1000\n",
        "scale = 1\n",
        "\n",
        "for i in range(0,epochs):\n",
        "    train_model(bignet, x, y)\n",
        "\n",
        "plot_data(data, label)\n",
        "xmin,xmax,ymin,ymax = plt.axis()\n",
        "plot_decision_surface(model=bignet, axis_limits=[xmin*scale,xmax*scale,ymin*scale,ymax*scale])\n",
        "accuracy, loss = test_model(bignet, x, y)\n",
        "print('accuracy=' + str(accuracy)+ ' loss=' + str(loss))"
      ]
    }
  ],
  "metadata": {
    "colab": {
      "provenance": []
    },
    "kernelspec": {
      "display_name": "cs396",
      "language": "python",
      "name": "cs396"
    },
    "language_info": {
      "codemirror_mode": {
        "name": "ipython",
        "version": 3
      },
      "file_extension": ".py",
      "mimetype": "text/x-python",
      "name": "python",
      "nbconvert_exporter": "python",
      "pygments_lexer": "ipython3",
      "version": "3.8.12"
    }
  },
  "nbformat": 4,
  "nbformat_minor": 5
}