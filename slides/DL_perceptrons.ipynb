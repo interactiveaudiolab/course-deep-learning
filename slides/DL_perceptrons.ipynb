{
  "nbformat": 4,
  "nbformat_minor": 0,
  "metadata": {
    "colab": {
      "name": "DL_perceptrons.ipynb",
      "provenance": [],
      "collapsed_sections": [
        "Il1QHHYkn1Bx",
        "MBTqqZSe9k-j",
        "YdpnY0L6JD4u",
        "jWsXF1cI9vIE",
        "zAN01cu6FwaT",
        "_uEsJzHqSG0Z",
        "VvanWda4F5RI",
        "uay75IWEtaop"
      ]
    },
    "kernelspec": {
      "name": "python3",
      "display_name": "Python 3"
    }
  },
  "cells": [
    {
      "cell_type": "markdown",
      "metadata": {
        "id": "D8bPoVsB9R7w"
      },
      "source": [
        "# The Big Overview\n",
        "\n",
        "Here, we'll look at the behavior of a simple one-node perceptron on a couple of different data sets. Then, we'll make a tiny network in Pytorch and compare it to the perceptron."
      ]
    },
    {
      "cell_type": "code",
      "metadata": {
        "id": "kxNEgBRdzZq7"
      },
      "source": [
        "# We'll be needing these...\n",
        "import torch\n",
        "import matplotlib\n",
        "import matplotlib.pyplot as plt\n",
        "import numpy as np \n",
        "%matplotlib inline"
      ],
      "execution_count": 30,
      "outputs": []
    },
    {
      "cell_type": "markdown",
      "metadata": {
        "id": "JMDvT2i7zOE9"
      },
      "source": [
        "\n",
        "# Make some dataset builders: linearly separable, center-surround, xor, spirals\n"
      ]
    },
    {
      "cell_type": "markdown",
      "metadata": {
        "id": "Il1QHHYkn1Bx"
      },
      "source": [
        "## Start with a helper function to plot the data\n"
      ]
    },
    {
      "cell_type": "code",
      "metadata": {
        "id": "g4RTI4XCyeHG"
      },
      "source": [
        "def plot_data(data,labels):\n",
        "  \"\"\"A helper function to plot our data sets \n",
        "  \n",
        "  PARAMETERS\n",
        "  ----------\n",
        "  data      A numpy array of 2 columns (dimensions) and 2*examples_per_class rows\n",
        "  \n",
        "  labels    A numpy vector with 2*examples_per_class, with a +1 or -1 in each\n",
        "            element. The jth element is the label of the jth example\"\"\"\n",
        "  # plot the data\n",
        "  pos_idx = np.where(labels==1)\n",
        "  neg_idx = np.where(labels==-1)\n",
        "  plt.plot(data.T[0,pos_idx], data.T[1,pos_idx],'r^', data.T[0,neg_idx], data.T[1,neg_idx], 'bo')\n",
        "  plt.axis('equal')\n",
        "\n"
      ],
      "execution_count": 31,
      "outputs": []
    },
    {
      "cell_type": "markdown",
      "metadata": {
        "id": "MBTqqZSe9k-j"
      },
      "source": [
        "## Data Set 1: Linearly separable"
      ]
    },
    {
      "cell_type": "code",
      "metadata": {
        "id": "T_3GrGb89CW0"
      },
      "source": [
        "def  make_linearly_separable_data(examples_per_class, distance_between_means):\n",
        "  \"\"\"create a 2-dimensional set of points, where half the points are drawn from\n",
        "  one Gaussian and the other half are drawn from a different Gaussian \n",
        "  \n",
        "  PARAMETERS\n",
        "  ----------\n",
        "  examples_per_class      An integer determining how much data we'll generate\n",
        "\n",
        "  distance_between_means  Distance between the means of the two Gaussians.\n",
        "\n",
        "  RETURNS\n",
        "  -------\n",
        "  data      A numpy array of 2 columns (dimensions) and 2*examples_per_class rows\n",
        "  \n",
        "  labels    A numpy vector with 2*examples_per_class, with a +1 or -1 in each\n",
        "            element. The jth element is the label of the jth example\"\"\"\n",
        "\n",
        "  mean = [0,0]\n",
        "  cov = [[1,0],[0,1]] \n",
        "\n",
        "  # negative class -1\n",
        "  negData = np.random.multivariate_normal(mean,cov,examples_per_class)\n",
        "\n",
        "  # positive class 1\n",
        "  posData = np.random.multivariate_normal(mean,cov,examples_per_class)\n",
        "  posData += distance_between_means\n",
        "\n",
        "  # make the labels\n",
        "  negL = np.ones(examples_per_class) * -1  \n",
        "  posL = np.ones(examples_per_class)\n",
        "\n",
        "  # wrap it up and ship it out!\n",
        "  data = np.concatenate([posData, negData])\n",
        "  labels = np.concatenate([posL,negL])\n",
        "\n",
        "  return data, labels\n",
        "\n",
        "# Test it out\n",
        "data, labels = make_linearly_separable_data(100, 3)\n",
        "plot_data(data, labels)\n"
      ],
      "execution_count": null,
      "outputs": []
    },
    {
      "cell_type": "markdown",
      "metadata": {
        "id": "YdpnY0L6JD4u"
      },
      "source": [
        "## Data set 2: XOR"
      ]
    },
    {
      "cell_type": "code",
      "metadata": {
        "id": "D6ijnriWJAIx",
        "outputId": "fc3b0fc1-8ca7-4473-de00-2b8f2ed3c918",
        "colab": {
          "base_uri": "https://localhost:8080/",
          "height": 0
        }
      },
      "source": [
        "def  make_XOR_data(examples_per_class):\n",
        "  \"\"\"create a 2-dimensional set of points in the XOR pattern. Things in the \n",
        "  upper right and lower left quadrant are class 1. Things in the other two\n",
        "  quadrants are class -1. \n",
        "  \n",
        "  PARAMETERS\n",
        "  ----------\n",
        "  examples_per_class      An integer determining how much data we'll generate\n",
        "\n",
        "  RETURNS\n",
        "  -------\n",
        "  data      A numpy array of 2 columns (dimensions) and 2*examples_per_class rows\n",
        "  \n",
        "  labels    A numpy vector with 2*examples_per_class, with a +1 or -1 in each\n",
        "            element. The jth element is the label of the jth example\"\"\"\n",
        "\n",
        "  mean = [0,0]\n",
        "  cov = [[1,0],[0,1]] \n",
        "\n",
        "  # make a circular unit Gaussian and sample from it\n",
        "  data = np.random.multivariate_normal(mean,cov,examples_per_class*2)\n",
        "\n",
        "  x = data.T[0]\n",
        "  y = data.T[1]\n",
        "\n",
        "  labels = np.sign(np.multiply(x,y))\n",
        "\n",
        "  return data, labels\n",
        "\n",
        "# Test it out\n",
        "data, labels = make_XOR_data(500)\n",
        "plot_data(data, labels) "
      ],
      "execution_count": 33,
      "outputs": [
        {
          "output_type": "display_data",
          "data": {
            "image/png": "[encoded data removed]",
            "text/plain": [
              "<Figure size 432x288 with 1 Axes>"
            ]
          },
          "metadata": {
            "tags": [],
            "needs_background": "light"
          }
        }
      ]
    },
    {
      "cell_type": "markdown",
      "metadata": {
        "id": "jWsXF1cI9vIE"
      },
      "source": [
        "## Data Set 3: center-surround"
      ]
    },
    {
      "cell_type": "code",
      "metadata": {
        "id": "DdvRqkGH9s5v",
        "outputId": "91a778c2-e70f-4055-8e90-d7760b0904f9",
        "colab": {
          "base_uri": "https://localhost:8080/",
          "height": 0
        }
      },
      "source": [
        "\n",
        "def  make_center_surround_data(examples_per_class, distance_from_origin):\n",
        "  \"\"\"create a 2-dimensional set of points, where half the points are drawn from\n",
        "  one Gaussian centered on the origin and the other half form a ring around\n",
        "  the first class \n",
        "  \n",
        "  PARAMETERS\n",
        "  ----------\n",
        "  examples_per_class      An integer determining how much data we'll generate\n",
        "\n",
        "  distance_from_origin    All points from one of the Gaussians will have their \n",
        "                          coordinates updated to have their distance from the\n",
        "                          origin increased by this ammount. Should be \n",
        "                          non-negative.\n",
        "\n",
        "  RETURNS\n",
        "  -------\n",
        "  data      A numpy array of 2 columns (dimensions) and 2*examples_per_class rows\n",
        "  \n",
        "  labels    A numpy vector with 2*examples_per_class, with a +1 or -1 in each\n",
        "            element. The jth element is the label of the jth example\"\"\"\n",
        "\n",
        "  mean = [0,0]\n",
        "  cov = [[1,0],[0,1]] \n",
        "\n",
        "  # negative class -1\n",
        "  negData = np.random.multivariate_normal(mean,cov,examples_per_class)\n",
        "\n",
        "  # positive class 1\n",
        "  posData = np.random.multivariate_normal(mean,cov,examples_per_class) \n",
        "  \n",
        "  # now....treat the positive class as having been drawn from phase, magnitude\n",
        "  # coordinates and manipulate the magnitude so the mean distance of the points\n",
        "  # from the origin is 4...and make sure the distribution of phase is all the way\n",
        "  # way around the circle \n",
        "  magnitude = posData.T[0,:] + distance_from_origin \n",
        "  phase = posData.T[1,:]  * 2\n",
        "\n",
        "  # now go back to cartesian coordinates\n",
        "  x = magnitude * np.cos(phase)\n",
        "  y = magnitude * np.sin(phase)\n",
        "\n",
        "  # and stick it back in the array\n",
        "  posData.T[0,:] = x\n",
        "  posData.T[1,:] = y\n",
        "\n",
        "  # wrap it up and return it.\n",
        "  negL = np.ones(examples_per_class) * -1  \n",
        "  posL = np.ones(examples_per_class)\n",
        "  data = np.concatenate([posData, negData])\n",
        "  labels = np.concatenate([posL,negL])\n",
        "\n",
        "  return data, labels\n",
        "\n",
        "# Test it out\n",
        "data, labels = make_center_surround_data(100, 5)\n",
        "plot_data(data, labels)\n"
      ],
      "execution_count": 34,
      "outputs": [
        {
          "output_type": "display_data",
          "data": {
            "image/png": "[encoded data removed]",
            "text/plain": [
              "<Figure size 432x288 with 1 Axes>"
            ]
          },
          "metadata": {
            "tags": [],
            "needs_background": "light"
          }
        }
      ]
    },
    {
      "cell_type": "markdown",
      "metadata": {
        "id": "zAN01cu6FwaT"
      },
      "source": [
        "## Data Set 4: Spirals "
      ]
    },
    {
      "cell_type": "code",
      "metadata": {
        "id": "DnqxJKHiArJO",
        "outputId": "5b3a0515-536a-434d-8c56-b91535f7f158",
        "colab": {
          "base_uri": "https://localhost:8080/",
          "height": 0
        }
      },
      "source": [
        "from numpy import pi\n",
        "def  make_spiral_data(examples_per_class):\n",
        "  \"\"\"create a 2-dimensional set of points in two interwoven spirals. All elements\n",
        "  in a single spiral share a label (either +1 or -1, depending on the spiral)\n",
        "  \n",
        "  PARAMETERS\n",
        "  ----------\n",
        "  examples_per_class      An integer determining how much data we'll generate\n",
        "\n",
        "  RETURNS\n",
        "  -------\n",
        "  data      A numpy array of 2 columns (dimensions) and 2*examples_per_class rows\n",
        "  \n",
        "  labels    A numpy vector with 2*examples_per_class, with a +1 or -1 in each\n",
        "            element. The jth element is the label of the jth example\"\"\"\n",
        "\n",
        " \n",
        "  theta = np.sqrt(np.random.rand(examples_per_class))*2*pi \n",
        "\n",
        "  # make points in a spiral that have some randomness\n",
        "  r_a = 2*theta + pi\n",
        "  temp = np.array([np.cos(theta)*r_a, np.sin(theta)*r_a]).T\n",
        "  negData = temp + np.random.randn(examples_per_class,2)\n",
        "\n",
        "  # make points in a spiral offset from the first one that have some randomness\n",
        "  r_b = -2*theta - pi\n",
        "  temp = np.array([np.cos(theta)*r_b, np.sin(theta)*r_b]).T\n",
        "  posData = temp + np.random.randn(examples_per_class,2)\n",
        "\n",
        "  # give labels to the data\n",
        "  negL = np.ones(examples_per_class) * -1  \n",
        "  posL = np.ones(examples_per_class)\n",
        "\n",
        "  # return the data \n",
        "  data = np.concatenate([posData, negData])\n",
        "  labels = np.concatenate([posL,negL])\n",
        "\n",
        "  return data, labels\n",
        "\n",
        "# Test it out\n",
        "data, labels = make_spiral_data(100)\n",
        "plot_data(data, labels)\n"
      ],
      "execution_count": 35,
      "outputs": [
        {
          "output_type": "display_data",
          "data": {
            "image/png": "[encoded data removed]",
            "text/plain": [
              "<Figure size 432x288 with 1 Axes>"
            ]
          },
          "metadata": {
            "tags": [],
            "needs_background": "light"
          }
        }
      ]
    },
    {
      "cell_type": "markdown",
      "metadata": {
        "id": "_uEsJzHqSG0Z"
      },
      "source": [
        "\n",
        "# Build a perceptron \n"
      ]
    },
    {
      "cell_type": "code",
      "metadata": {
        "id": "E_2h0Sn89PVf"
      },
      "source": [
        "def perceptron_fit(data, labels, weights, step_size=1, verbose = False):\n",
        "  \"\"\" This implements a linear perceptron for two-way classification. A single\n",
        "  layer perceptron is an algorithm for supervised learning of a binary\n",
        "  classifier. The idea is to draw a hyperplane that separates the classes\n",
        "  Points on one side of the hyperplane are one class and points on the other \n",
        "  side are the other class. Here's the pseudo code:\n",
        "\n",
        "  begin initialize weights\n",
        "     while not converged or not exceeded maxEpochs\n",
        "          for each example in features\n",
        "              if example is misclassified using weights\n",
        "              then weights = weights + example * label_for_example * step_size\n",
        "      return weights\n",
        "  end\n",
        "  \n",
        " \n",
        "  PARAMETERS\n",
        "  ----------\n",
        " \n",
        "  data       A numpy array of real values with n rows and d columns, where n\n",
        "             is the number of data points and d is the number of dimensions.\n",
        " \n",
        "  labels     A vector containing labels drawn from {1,-1}. The jth label\n",
        "             is the label of the jth example data point in data.\n",
        "\n",
        "  weights    a vector of d+1 weights for a 1950's style perceptron, where d is \n",
        "             the number of dimensions of the data\n",
        "  \n",
        "  step_size  a positive real value in the range 0 < step_size <= 1\n",
        "\n",
        "  verbose    If true, it will print out its calculations after every\n",
        "             looking at each data point\n",
        "\n",
        "  RETURNS\n",
        "  -------\n",
        "  converged  set to 1 if a line that separated the two classes was found. \n",
        "             Else it is set to 0.\n",
        "  \n",
        "  weights    a vector of d+1 weights that characterize the hyperplane that\n",
        "             separates the data (if it convereged). If data has 3 dimensions, \n",
        "             then weights will have 4 elements. The first element is the \n",
        "             bias (aka offset), the remaining weights correspond to the weight\n",
        "             associated with each of the 3 dimensions of the data.\n",
        "  \"\"\"\n",
        "  # To do the perceptron algorithm, add a column of ones to the data, these\n",
        "  # will correspond to the bias.\n",
        "  num_points,num_dimensions = np.shape(data)\n",
        "  b = np.ones(num_points)\n",
        "  bias = np.expand_dims(b,axis=1)\n",
        "  data_plus = np.append(bias,data,axis=1)\n",
        "\n",
        "  converged = 1; # we're being optimistic.\n",
        "\n",
        "  # iterate over ever element in the data\n",
        "  for n in range(0,num_points):\n",
        "      point = data_plus[n]\n",
        "      label = labels[n]\n",
        "      \n",
        "      # this is where the perceptron classifies\n",
        "      estimated_label = np.sign(np.sum(np.multiply(weights,point)))\n",
        "     \n",
        "      if verbose:\n",
        "        print(' point = ', point, '  label = ', label, ' estimated_label = ', estimated_label)\n",
        "        print('old weights = ', weights)\n",
        "    \n",
        "      # This is where the perceptron updates\n",
        "      if (estimated_label != label):\n",
        "        converged=0  # admit we haven't converged \n",
        "        weights = weights + (step_size * label * point) #change the weights of the hyperplane\n",
        "        if verbose: print('new weights = ', weights)\n",
        "\n",
        "  return converged, weights  \n",
        "\n"
      ],
      "execution_count": 36,
      "outputs": []
    },
    {
      "cell_type": "code",
      "metadata": {
        "id": "6d3L1LxIGRGs"
      },
      "source": [
        "def perceptron_predict(data, weights):\n",
        "  \"\"\" This predicts a label (+1 or -1) for each example in data, returning that\n",
        "   as a numpy array.\n",
        " \n",
        "  PARAMETERS\n",
        "  ----------\n",
        " \n",
        "  data       A numpy array of real values with n rows and d columns, where n\n",
        "             is the number of data points and d is the number of dimensions.\n",
        "             Each row is a data point to be classiified.\n",
        " \n",
        "  weights    a vector of d+1 weights that characterize the hyperplane that\n",
        "             separates the data. If data has 3 columns (aka dimensions), \n",
        "             then weights will have 4 elements. The first element is the \n",
        "             bias (aka offset), the remaining weights correspond to the weight\n",
        "             associated with each of the 3 dimensions of the data.\n",
        "  RETURNS\n",
        "  -------\n",
        "  prediction a vector with n values \n",
        "  \"\"\"\n",
        "  # To do the perceptron algorithm, add a column of ones to the data, these\n",
        "  # will correspond to the bias.\n",
        "  num_points,num_dimensions = np.shape(data)\n",
        "  b = np.ones(num_points)\n",
        "  bias = np.expand_dims(b,axis=1)\n",
        "  data_plus = np.append(bias,data,axis=1)\n",
        "\n",
        "  # now predict classes\n",
        "  class_prediction = np.zeros(num_points)\n",
        "  for n in range(0,num_points):\n",
        "        point = data_plus[n]\n",
        "        class_prediction[n] = np.sign(np.sum(np.multiply(weights,point)))\n",
        "\n",
        "  return class_prediction"
      ],
      "execution_count": 37,
      "outputs": []
    },
    {
      "cell_type": "markdown",
      "metadata": {
        "id": "VvanWda4F5RI"
      },
      "source": [
        "## Define a helper function to display the decision surface\n",
        "\n",
        " "
      ]
    },
    {
      "cell_type": "code",
      "metadata": {
        "id": "K1cqB3OXGFOM"
      },
      "source": [
        "def plot_decision_surface(use_model,model=None, perceptron_weights=0, axis_limits=[-5,5,-5,5]):\n",
        "  \"\"\" Creates a grid of points, measures what a model would label each \n",
        "   point as, and uses this data to draw a region for class +1 and a region for\n",
        "   class -1. Note...you could borrow this...\n",
        " \n",
        "  PARAMETERS\n",
        "  ----------\n",
        "  use_model   If TRUE, a pytorch model is expected. If FALSE, weights are expected.\n",
        "\n",
        "  model       A pytorch model that can take 2-d real vaued input and produce\n",
        "              a +1 or -1 label for each data point. \n",
        "\n",
        "  weights     A vector of weights for separating hyperplane used in \n",
        "              perceptron_predict(). Note, we're expecting 3 weights here.\n",
        "\n",
        "  axis_limits an array-like object with 4 floats [lowest_horizontal, highest_horizontal,\n",
        "              lowest_vertical, highest_vertical]. This sets the limits over which\n",
        "              the decision surface will be caluclated. \n",
        "\n",
        "  RETURNS\n",
        "  -------\n",
        "  my_contour  a matplotlib.contour.QuadContourSet with the contour\n",
        "  \"\"\"\n",
        "  # Create a grid of points spanning the entire space displayed in the axis.\n",
        "  # This will let us draw the decision boundary later\n",
        "\n",
        "  xx, yy = np.meshgrid(np.arange(axis_limits[0], axis_limits[1], .05),\n",
        "                       np.arange(axis_limits[2], axis_limits[3], .05))\n",
        "  data = np.concatenate([xx.reshape([1,-1]),yy.reshape([1,-1])]).T\n",
        "  \n",
        "  # Predict the class of each point in XGrid, using the classifier.\n",
        "  # This shows our regions determined by the classifier\n",
        "  if use_model == True:\n",
        "    with torch.no_grad():\n",
        "      pl = model(torch.tensor(data).to(dtype=torch.float32))\n",
        "      predicted_labels = np.sign(pl.numpy())\n",
        "  else:\n",
        "    predicted_labels = perceptron_predict(data, perceptron_weights)\n",
        "  \n",
        "  predicted_labels = predicted_labels.reshape(xx.shape)\n",
        "  \n",
        "  # Put the result into a color plot\n",
        "  plt.contourf(xx, yy, predicted_labels, cmap=plt.cm.Paired)\n",
        "  plt.axis('equal')\n",
        "  plt.axis('tight')\n"
      ],
      "execution_count": 38,
      "outputs": []
    },
    {
      "cell_type": "markdown",
      "metadata": {
        "id": "SNXojWrbSOpP"
      },
      "source": [
        "# Make some data and initialize the perceptron\n"
      ]
    },
    {
      "cell_type": "code",
      "metadata": {
        "id": "9_Jz1OTDSO-S"
      },
      "source": [
        "# Make the data  \n",
        "examples_per_class = 5\n",
        "distance_between_means = 2\n",
        "\n",
        "data,labels = make_linearly_separable_data(examples_per_class, distance_between_means)\n",
        "#data, labels = make_XOR_data(examples_per_class)\n",
        "#data,labels = make_center_surround_data(examples_per_class, distance_between_means)\n",
        "\n",
        "# set the weights of the perceptron to an inital set of random values\n",
        "weights = np.random.rand(1,3)\n",
        "\n",
        "# get some values I'll need for plotting the deciisiion surface.\n",
        "data_min = np.min(np.min(data))\n",
        "data_max = np.max(np.max(data))\n",
        "num_points,num_dimensions = np.shape(data)\n",
        "\n",
        "# initialize my count of where I am in training the data\n",
        "epoch = 0\n",
        "example = 0\n",
        "\n",
        "# see what we're working with as a starting point\n",
        "plot_data(data,labels)\n",
        "plot_decision_surface(use_model=False, perceptron_weights=weights, axis_limits=[data_min-1, data_max+1, data_min-1, data_max+1])\n",
        "\n",
        "# show us the first point we'll be reacting to\n",
        "dumnmy = plt.text(data[example][0],data[example][1], 'first')"
      ],
      "execution_count": null,
      "outputs": []
    },
    {
      "cell_type": "markdown",
      "metadata": {
        "id": "4sWSFU31Ph_1"
      },
      "source": [
        "# Train the perceptron"
      ]
    },
    {
      "cell_type": "code",
      "metadata": {
        "id": "yIQx-yp_4iJs"
      },
      "source": [
        "### display the data and the current decision surface\n",
        "# train one ONE data point\n",
        "\n",
        "converged, weights = perceptron_fit([data[example]], [labels[example]], weights, step_size=.2, verbose=True)\n",
        "example += 1\n",
        "example = example % num_points\n",
        "\n",
        "# plot how things are now\n",
        "plot_data(data,labels)\n",
        "plot_decision_surface(use_model=False, perceptron_weights=weights, axis_limits=[data_min-1, data_max+1, data_min-1, data_max+1])\n",
        "\n",
        "# show us the next point we'll be reacting to\n",
        "dummy = plt.text(data[example][0],data[example][1], 'next')"
      ],
      "execution_count": null,
      "outputs": []
    },
    {
      "cell_type": "markdown",
      "metadata": {
        "id": "bZgJkfOyRnin"
      },
      "source": [
        "Let's go faster and do an entire epoch at a time"
      ]
    },
    {
      "cell_type": "code",
      "metadata": {
        "id": "MOxQbwRhRkMQ"
      },
      "source": [
        "## display the data and the current decision surface\n",
        "\n",
        "#converged, weights = perceptron_fit(data, labels, weights)\n",
        "#epoch += 1\n",
        "#print('converged =', converged, ' epoch = ', epoch)\n",
        "#plot_data(data,labels)\n",
        "#plot_decision_surface(use_model=False, perceptron_weights=weights, axis_limits=[data_min-1, data_max+1, data_min-1, data_max+1])\n"
      ],
      "execution_count": 41,
      "outputs": []
    },
    {
      "cell_type": "markdown",
      "metadata": {
        "id": "YqPBJLlDEwqN"
      },
      "source": [
        "\n",
        "# Now build a PyTorch model\n"
      ]
    },
    {
      "cell_type": "markdown",
      "metadata": {
        "id": "uay75IWEtaop"
      },
      "source": [
        "## Define the model architecture and data flow "
      ]
    },
    {
      "cell_type": "code",
      "metadata": {
        "id": "kZ4uTZu9MFP7"
      },
      "source": [
        "import torch.nn as nn\n",
        "import torch.nn.functional as F\n",
        "import torch.optim as optim\n",
        "\n",
        "class Net(nn.Module):\n",
        "  \"\"\" Our first neural network model. We'll keep it simple.\n",
        "  \"\"\"\n",
        "  # this bit determines the architecture of each layer...but not how data flows\n",
        "  def __init__(self):\n",
        "    super(Net, self).__init__() # has to be here\n",
        "    self.fc1 = nn.Linear(2,25)\n",
        "    self.fc2 = nn.Linear(25,2)\n",
        "    self.fc3 = nn.Linear(2,1)\n",
        "  # this part determines how data in x flows through the network. \n",
        "  def forward(self, x):\n",
        "    x = torch.tanh(self.fc1(x))\n",
        "    x = torch.tanh(self.fc2(x))\n",
        "    x = torch.tanh(self.fc3(x))\n",
        "    return x"
      ],
      "execution_count": 42,
      "outputs": []
    },
    {
      "cell_type": "markdown",
      "metadata": {
        "id": "ultBkLoiu63D"
      },
      "source": [
        "##  A function to train the model"
      ]
    },
    {
      "cell_type": "code",
      "metadata": {
        "id": "RoqFe8kMGY6s"
      },
      "source": [
        "\n",
        "def train_model(model, data, target):\n",
        "  \"\"\" A simple functon that runs the network model through one epoch of the \n",
        "  training data and then updates the weights to move moodel output closer to the\n",
        "  target output. \n",
        "  \n",
        "  PARAMETERS\n",
        "  ----------\n",
        "  model   a torch.nn.Model\n",
        "  data      a 2-D torch tensor where data[i] contains the ith example.\n",
        "  target    a torch tensor where target[i]  contains the expected output\n",
        "            of the model in response to input data[i]\n",
        "  \"\"\"\n",
        "  # This tells your model that you are in training mode. \n",
        "  # Layers (like dropout, batchnorm) that behave differently\n",
        "  # when training than they do in testing can behave accordingly.   \n",
        "  # It doesn't do much on this model, but you need to do this, as standard\n",
        "  # practice\n",
        "  model.train()\n",
        "\n",
        "  # Set the gradients to 0 before running the net on the data\n",
        "  # so that loss is calculated correctly.\n",
        "  optimizer.zero_grad()\n",
        "\n",
        "  # Get the output of the network on the data \n",
        "  output = model(data)\n",
        "\n",
        "  # Measure the \"loss\" using mean squared error\n",
        "  loss = F.mse_loss(output.squeeze(), target)\n",
        "    \n",
        "  # This calculates the gradients, running backward through the network\n",
        "  loss.backward()\n",
        "\n",
        "  # This updates the network weights \n",
        "  optimizer.step()\n"
      ],
      "execution_count": 43,
      "outputs": []
    },
    {
      "cell_type": "markdown",
      "metadata": {
        "id": "Zfkfj1EKvD_W"
      },
      "source": [
        "## A function to test the model"
      ]
    },
    {
      "cell_type": "code",
      "metadata": {
        "id": "ZH0s5MUeIsmz"
      },
      "source": [
        "\n",
        "def test_model(model, data, target):\n",
        "  \"\"\" A simple functon that prints out the model's loss and accuracy on the \n",
        "  data  \n",
        "  \n",
        "  PARAMETERS\n",
        "  ----------\n",
        "  model     a torch.nn.Model\n",
        "  data      a 2-D torch tensor where data[i] contains the ith example.\n",
        "  target    a torch tensor where target[i]  contains the expected output\n",
        "            of the model in response to input data[i]\n",
        "  RETURNS\n",
        "  -------\n",
        "  accuracy  The accuracy on the data\n",
        "  \n",
        "  loss      The loss on the data\n",
        "  \"\"\"\n",
        "  # This puts the network in evaluation mode so things like dropout aren't done\n",
        "  model.eval()\n",
        "\n",
        "  # torch.nograd() tells the system to stop keeping track of gradients (derivatives)\n",
        "  # when performing calculation. This makes things run faster. \n",
        "  with torch.no_grad():\n",
        "    # get the output of the network on a batch of test examples\n",
        "    output = model(data)\n",
        "    output = output.squeeze()\n",
        "    # measure loss \n",
        "    loss = F.mse_loss(output, target)\n",
        "      \n",
        "    # get the prediction of the network\n",
        "    prediction = torch.sign(output)\n",
        "\n",
        "    # measure the accuracy \n",
        "    c = prediction*target\n",
        "    accuracy = torch.mean((c+1)/2)\n",
        "\n",
        "    # lets report \n",
        "    #print('\\nTest set: loss = ', round(loss.item(),4),\n",
        "    #      ' accuracy = ', round(accuracy.item(),3), '\\n')\n",
        "    accuracy = round(accuracy.item(),3)\n",
        "    loss = round(loss.item(),4)\n",
        "    return accuracy, loss"
      ],
      "execution_count": 44,
      "outputs": []
    },
    {
      "cell_type": "markdown",
      "metadata": {
        "id": "nuBgqqYSvdQW"
      },
      "source": [
        "## A function to print out the model structure"
      ]
    },
    {
      "cell_type": "code",
      "metadata": {
        "id": "ruqCE8hyFlvV"
      },
      "source": [
        "def print_model(model):\n",
        "  \"\"\" A simple functon that prints out a torch model's structural details\n",
        "  \n",
        "  PARAMETERS\n",
        "  ----------\n",
        "  model     a torch.nn.Model\n",
        "  \"\"\"\n",
        "  \n",
        "  # Print model's state_dict\n",
        "  print(\"Model's state_dict:\")\n",
        "  for param_tensor in model.state_dict():\n",
        "    print(param_tensor, \"\\t\", model.state_dict()[param_tensor].size())\n",
        "\n",
        "  # Print the number of parameters in the model    \n",
        "  parameter_count =  sum(p.numel() for p in model.parameters() if p.requires_grad)\n",
        "  print(\" my network has \", parameter_count, \" trainable parameters\")\n",
        "\n",
        "  # Print optimizer's state_dict\n",
        "  print(\"Optimizer's state_dict:\")\n",
        "  for var_name in optimizer.state_dict():\n",
        "    print(var_name, \"\\t\", optimizer.state_dict()[var_name])\n"
      ],
      "execution_count": 45,
      "outputs": []
    },
    {
      "cell_type": "markdown",
      "metadata": {
        "id": "Uf4PjuOgv1X7"
      },
      "source": [
        "# Make some data and train our PyTorch model!"
      ]
    },
    {
      "cell_type": "markdown",
      "metadata": {
        "id": "V7tL0NBBp-_P"
      },
      "source": [
        "## First, make and format the data for Torch"
      ]
    },
    {
      "cell_type": "code",
      "metadata": {
        "id": "u9uKGfyNgHOt"
      },
      "source": [
        "# Make the data  \n",
        "examples_per_class = 20\n",
        "distance_between_means = 0\n",
        "\n",
        "data,label = make_linearly_separable_data(examples_per_class, distance_between_means)\n",
        "#data, label = make_XOR_data(examples_per_class)\n",
        "#data, label = make_spiral_data(examples_per_class)\n",
        "#data,label = make_center_surround_data(examples_per_class, distance_between_means)\n",
        "\n",
        "# The data is in 64bit numpy format. Reformat the data for TensorFlow\n",
        "dataT = torch.tensor(data).to(dtype=torch.float32)\n",
        "labelT = torch.tensor(label).to(dtype=torch.float32)\n",
        "\n",
        " "
      ],
      "execution_count": 46,
      "outputs": []
    },
    {
      "cell_type": "markdown",
      "metadata": {
        "id": "S4BU1IJ2qI3j"
      },
      "source": [
        "## Now, make and initialize the torch model we're going to train"
      ]
    },
    {
      "cell_type": "code",
      "metadata": {
        "id": "vDAMehXXqJL3"
      },
      "source": [
        "# make the model\n",
        "modelo = Net()\n",
        "optimizer = optim.SGD(modelo.parameters(), lr=0.01,momentum=0.9)\n",
        "print_model(modelo)\n"
      ],
      "execution_count": null,
      "outputs": []
    },
    {
      "cell_type": "markdown",
      "metadata": {
        "id": "9ywvm-Rhqzz3"
      },
      "source": [
        "## Look at the model's decision surface, before training"
      ]
    },
    {
      "cell_type": "code",
      "metadata": {
        "id": "8KMf7jZFhUFk"
      },
      "source": [
        "scale = 2\n",
        "# look at the decision surface and model decision surface\n",
        "plot_data(dataT,labelT)\n",
        "xmin,xmax,ymin,ymax=plt.axis()\n",
        "plot_decision_surface(use_model=True, model=modelo, axis_limits=[xmin*scale,xmax*scale,ymin*scale,ymax*scale])\n",
        "\n",
        "# measure model accuracy\n",
        "accuracy, loss = test_model(modelo, dataT, labelT)\n",
        "print('accuracy=' + str(accuracy)+ ' loss=' + str(loss))\n"
      ],
      "execution_count": null,
      "outputs": []
    },
    {
      "cell_type": "markdown",
      "metadata": {
        "id": "fARNNmohrCT9"
      },
      "source": [
        "## Train  and look at the result"
      ]
    },
    {
      "cell_type": "code",
      "metadata": {
        "id": "q1fD2KvvrJJX"
      },
      "source": [
        "epochs = 1000\n",
        "scale = 1\n",
        "for i in range(0,epochs):\n",
        "  train_model(modelo,dataT,labelT)\n",
        "\n",
        "plot_data(dataT,labelT)\n",
        "xmin,xmax,ymin,ymax = plt.axis()\n",
        "plot_decision_surface(use_model=True, model=modelo, axis_limits=[xmin*scale,xmax*scale,ymin*scale,ymax*scale])\n",
        "accuracy, loss = test_model(modelo, dataT, labelT)\n",
        "print('accuracy=' + str(accuracy)+ ' loss=' + str(loss))\n"
      ],
      "execution_count": null,
      "outputs": []
    }
  ]
}