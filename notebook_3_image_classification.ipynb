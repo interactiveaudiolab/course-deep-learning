{
 "cells": [
  {
   "cell_type": "markdown",
   "id": "59b3745d-0dfd-4661-bece-dddb094c98e2",
   "metadata": {
    "id": "59b3745d-0dfd-4661-bece-dddb094c98e2"
   },
   "source": [
    "# Notebook 3: Training a Neural Network for Image Classification\n",
    "\n",
    "In this notebook, we'll train a neural network to classify images rather than two-dimensional synthetic data. We'll also take a look at the components of a typical training pipeline in PyTorch, including datasets, data loaders, and checkpointing. We'll use a new loss function to guide our network during training, and let one of PyTorch's optimizers automatically update our network's parameters using gradient descent.\n",
    "\n",
    "The notebook is broken up as follows:\n",
    "\n",
    "  1. [Setup](#setup)  \n",
    "  2. [Data](#data)  \n",
    "     2.1 [Datasets](#datasets)  \n",
    "     2.2 [DataLoaders](#dataloaders)  \n",
    "  3. [A Neural Network for Image Recognition](#nn)  \n",
    "     3.1. [Defining the Network](#definition)  \n",
    "     3.2  [Classification Loss](#loss)  \n",
    "     3.3  [Picking an Optimizer: SGD](#sgd)  \n",
    "     3.4. [Checkpointing](#checkpoint)  \n",
    "  4. [Putting It All Together: Training Loop](#train)  \n",
    "  5. [GPU Acceleration](#gpu)"
   ]
  },
  {
   "cell_type": "markdown",
   "id": "1d22747f-31e8-4263-9e74-c499f25416b7",
   "metadata": {
    "id": "1d22747f-31e8-4263-9e74-c499f25416b7",
    "tags": []
   },
   "source": [
    "## __1.__ <a name=\"setup\">Setup</a>\n"
   ]
  },
  {
   "cell_type": "markdown",
   "id": "5784a0af-7266-4bcd-b87a-2558b15da621",
   "metadata": {
    "id": "5784a0af-7266-4bcd-b87a-2558b15da621"
   },
   "source": [
    "Make sure the needed packages are installed and utility code is in the right place."
   ]
  },
  {
   "cell_type": "code",
   "execution_count": null,
   "id": "27d077ec-0fd2-4c9e-9074-fd4524ead6c8",
   "metadata": {
    "colab": {
     "base_uri": "https://localhost:8080/"
    },
    "id": "cfb33fcf-137c-429b-9265-4b402a4ec7d6",
    "outputId": "b518dba5-5eb0-4ac0-c672-c3776b3e120f"
   },
   "outputs": [],
   "source": [
    "# helper code from the course repository\n",
    "!git clone https://github.com/interactiveaudiolab/course-deep-learning.git\n",
    "# install common pacakges used for deep learning\n",
    "!cd course-deep-learning/ && pip install -r requirements.txt"
   ]
  },
  {
   "cell_type": "code",
   "execution_count": 1,
   "id": "1b554b46-be39-4431-8031-b4e41d2d15b2",
   "metadata": {
    "id": "1b554b46-be39-4431-8031-b4e41d2d15b2"
   },
   "outputs": [],
   "source": [
    "%matplotlib inline\n",
    "%cd course-deep-learning/\n",
    "\n",
    "import time\n",
    "import torch\n",
    "import torchvision\n",
    "import torchvision.datasets as datasets\n",
    "import matplotlib.pyplot as plt\n",
    "import numpy as np"
   ]
  },
  {
   "cell_type": "markdown",
   "id": "020178c4-31a3-49b8-a2e6-d61e205f9d67",
   "metadata": {
    "id": "020178c4-31a3-49b8-a2e6-d61e205f9d67",
    "outputId": "9348bd86-e439-48de-e0a3-f9935787cf8e"
   },
   "source": [
    "## __2.__ <a name=\"data\">Data</a>\n",
    "\n",
    "### __2.1__ <a name=\"datasets\">Datasets</a>\n",
    "\n",
    "In the previous two notebooks, we saw a variety of two-dimensional synthetic datasets. In this notebook, we'll be working with a pre-existing image dataset. Image data is inherently high-dimensional: each pixel corresponds to a single coordinate/dimension (grayscale), or holds three separate coordinates (Red,Green,Blue). For even small images, this means our inputs can have thousands of dimensions (e.g. 32 x 32 pixels x 3 colors = 3072). As a result, image datasets can be fairly large. Additionally, we may need to apply certain __transformations__ or __preprocessing__ steps to our image data before attempting to pass it to a neural network.\n",
    "\n",
    "PyTorch and its corresponding image library, TorchVision, offer a number of utilities to streamline dataset storage, loading, and preprocessing. We'll start by using TorchVision to download the well-known [MNIST dataset](http://yann.lecun.com/exdb/mnist/). This dataset contains 28x28-pixel images of handwritten digits, and our goal will be to predict the correct label given an image:"
   ]
  },
  {
   "cell_type": "code",
   "execution_count": 3,
   "id": "431fcf53-5a9b-468b-8287-e873c41d1fbb",
   "metadata": {
    "colab": {
     "base_uri": "https://localhost:8080/",
     "height": 504,
     "referenced_widgets": [
      "f3ad188a295a475ba3c48c14dd524172",
      "b313832e8d3e4e42aeb616d9d2b78465",
      "8528b6fa793a4d69b2ba4b22c9d4dd46",
      "7c2e406944cb4e8aafa5e115284b063c",
      "5b09203db5e7437a9b9445a408562b28",
      "ff15186082884c778a8716e192f53528",
      "735b68d7c2fb485c9898d58c0999f711",
      "ef8f2eda43604046b19b562036e99fdf",
      "d03ad494ff714eadbfe801d14edafc85",
      "1f44a349191d407aa383e27496dd7465",
      "f24734013c574f8898c09f302ee95ce1",
      "785aac3f69bc4fc1b33b3a6c7a51bfd4",
      "f6eaa536c35946eab1f8b22933a4626c",
      "056aa3d636e64f63b5261c2c1c884e7b",
      "42d18f7ea7c84fe5b457ec84abd60129",
      "84d913b12a4e4f26b625853401e0e66c",
      "74fb96e9a60040ecaa705c234cff8674",
      "058732118bce442fb2ed38e5dd56e93b",
      "205b0cbbe38d457ca08094b57d87bbef",
      "f1bfa66cccdf4357bcbd4c4b636e22ea",
      "9420075611b846a5a3c9a10054937f71",
      "87264acf5da74f5da147c91ecfa5abd3",
      "67dc0719252346b8a3ac674d5098e2f3",
      "89e7e50adda841b7b4e10a0e65c5168f",
      "2a679f89d77c4722aef75d7ff84738cb",
      "99dc93f255c5468dbce5de482f11d6ad",
      "8f9cba23c06440aabd4e213455ff863c",
      "4b96a26f802f4ddf856317da1ed662a5",
      "f7865407e7eb419e9b63eb5e77a05bbc",
      "822bd4ef0cc5417ca7467f26ba0c5145",
      "68c990ce5b0749c0842dc62d3638f6dd",
      "ff887a4682cd40e1b1ea5db9ee17a6a7",
      "5b9a494a86654cb3ae3e2c475961aac8",
      "6d080e5dbe37499082a3f23e61556824",
      "e4f7afcd9580449cb013575ac548bf7f",
      "feeb4d8ae87243e7959190b42d543221",
      "8d8355407327422bba3fd3fdfd3446f7",
      "86d3dcdb0dd7400ebe70e1b77d18e201",
      "2eab0a63ab5649d0813505a9eb3e27f1",
      "e205439652e14e70849d0b750d59dfcc",
      "5428376d80464eb0980a960215f78a45",
      "d338ed219da0452a80140fb91b08642a",
      "0711d3ec0c8c463392e16ff672fb1127",
      "661de727d0d64c76aeac2658ed374512"
     ]
    },
    "id": "431fcf53-5a9b-468b-8287-e873c41d1fbb",
    "outputId": "e8e9f425-8411-4980-f7d5-fe172c4b06bf"
   },
   "outputs": [
    {
     "data": {
      "text/plain": [
       "(torchvision.datasets.mnist.MNIST,\n",
       " torch.utils.data.dataset.Subset,\n",
       " torch.utils.data.dataset.Subset)"
      ]
     },
     "execution_count": 3,
     "metadata": {},
     "output_type": "execute_result"
    }
   ],
   "source": [
    "# make a new directory in which to download the MNIST dataset\n",
    "data_dir = \"./data/\"\n",
    "\n",
    "# download MNIST \"test\" dataset\n",
    "mnist_test = torchvision.datasets.MNIST(data_dir, train=False, download=True)\n",
    "\n",
    "# download MNIST \"train\" dataset and set aside a portion for validation\n",
    "mnist_train_full = datasets.MNIST(data_dir, train=True, download=True)\n",
    "mnist_train, mnist_val = torch.utils.data.random_split(mnist_train_full, [55000, 5000])\n",
    "\n",
    "type(mnist_test), type(mnist_train), type(mnist_val)"
   ]
  },
  {
   "cell_type": "markdown",
   "id": "8cea4af4-c158-4ef1-a02a-bce0fba736d1",
   "metadata": {
    "id": "8cea4af4-c158-4ef1-a02a-bce0fba736d1",
    "outputId": "9348bd86-e439-48de-e0a3-f9935787cf8e"
   },
   "source": [
    "Our dataset is now held in three `torch.utils.data.Dataset` objects, each acting as an iterable container from which we can fetch input-label pairs. You should also now see a `data/` directory containing the MNIST dataset. Let's have a look at a random image from the test set."
   ]
  },
  {
   "cell_type": "code",
   "execution_count": 6,
   "id": "87582752-ad1f-4c56-a5a2-a9d478a3ec17",
   "metadata": {
    "colab": {
     "base_uri": "https://localhost:8080/",
     "height": 300
    },
    "id": "87582752-ad1f-4c56-a5a2-a9d478a3ec17",
    "outputId": "ca37ac6c-5f88-4f48-84fd-22d70c4ed6da"
   },
   "outputs": [
    {
     "name": "stdout",
     "output_type": "stream",
     "text": [
      "There are 10000 images in mnist_test\n",
      "Image 3431 is a 4\n"
     ]
    },
    {
     "data": {
      "image/png": "[encoded data removed]",
      "text/plain": [
       "<Figure size 432x288 with 1 Axes>"
      ]
     },
     "metadata": {
      "needs_background": "light"
     },
     "output_type": "display_data"
    }
   ],
   "source": [
    "print(f\"There are {len(mnist_test)} images in mnist_test\")\n",
    "d = np.random.randint(0, len(mnist_test))\n",
    "print(f\"Image {d} is a {mnist_test[d][1]}\")\n",
    "\n",
    "# plot our image\n",
    "plt.imshow(mnist_test[d][0], cmap='gray')\n",
    "plt.show()"
   ]
  },
  {
   "cell_type": "markdown",
   "id": "80efbb56-c23f-43e7-9f99-01a28e376321",
   "metadata": {
    "id": "80efbb56-c23f-43e7-9f99-01a28e376321",
    "outputId": "9348bd86-e439-48de-e0a3-f9935787cf8e"
   },
   "source": [
    "Our \"test\" dataset contains 10,000 entries, each of which is a tuple holding a `PIL.Image.Image` object and an integer label. Unfortunately, the neural networks we trained in the previous notebook require `torch.Tensor` inputs. We therefore need to apply some preprocessing to these image datasets before we can train a network.\n",
    "\n",
    "TorchVision provides a `Transform` class for building and composing preprocessing stages that can be automatically applied to your image data. Here's an example:"
   ]
  },
  {
   "cell_type": "code",
   "execution_count": 7,
   "id": "c1627880-672e-415a-a509-361722bd19e4",
   "metadata": {
    "colab": {
     "base_uri": "https://localhost:8080/",
     "height": 338
    },
    "id": "c1627880-672e-415a-a509-361722bd19e4",
    "outputId": "f1f4404b-7c54-45c8-f6b4-23f25b87f4fe"
   },
   "outputs": [
    {
     "name": "stdout",
     "output_type": "stream",
     "text": [
      "Image label: 7\n",
      "Transformed image shape: torch.Size([1, 28, 28])\n",
      "Transformed image data: 0.0, 0.0, 0.0, 0.0, 0.0, 0.0, 0.0, 0.0, 0.0, 0.0, 0.0, 0.0, 0.0, 0.0, 0.0, 0.0, 0.0, 0.0, 0.0, 0.0,  ...\n"
     ]
    },
    {
     "data": {
      "image/png": "[encoded data removed]",
      "text/plain": [
       "<Figure size 432x288 with 1 Axes>"
      ]
     },
     "metadata": {
      "needs_background": "light"
     },
     "output_type": "display_data"
    }
   ],
   "source": [
    "# we'll stack multiple transformations in a single object that will apply them in sequence\n",
    "transform = torchvision.transforms.Compose([\n",
    "    torchvision.transforms.ToTensor(),  # this is a built-in Transform object to convert images to tensors\n",
    "    lambda x: x>0,  # this is our own transformation function for binarizing MNIST images\n",
    "    lambda x: x.float(),  # this is our own transformation function for converting inputs to floating-point\n",
    "])\n",
    "\n",
    "# grab the first image-label pair from our \"test\" dataset\n",
    "example_img, example_label = mnist_test[0]\n",
    "\n",
    "# apply our sequence of transformations\n",
    "transformed = transform(example_img)\n",
    "print(f\"Image label: {example_label}\")\n",
    "print(\"Transformed image shape:\", transformed.shape)\n",
    "print(f\"Transformed image data: {(', '.join(str(p.item()) for p in transformed.flatten()))[:100]} ...\")\n",
    "\n",
    "# plot our image\n",
    "plt.imshow(transformed.squeeze(), cmap='gray')\n",
    "plt.show()"
   ]
  },
  {
   "cell_type": "markdown",
   "id": "e35ee41e-b55e-4e05-a30e-27adb99b7fba",
   "metadata": {
    "id": "e35ee41e-b55e-4e05-a30e-27adb99b7fba",
    "outputId": "9348bd86-e439-48de-e0a3-f9935787cf8e"
   },
   "source": [
    "We can see that our transform converts MNIST images to floating-point tensors holding binary values -- which we can feed to a neural network! In fact, we can bake our transform directly into our datasets so that it is applied automatically when we go to fetch data. To demonstrate, we'll re-initialize our datasets, this time reading directly from our `data/` folder rather than re-downloading:"
   ]
  },
  {
   "cell_type": "code",
   "execution_count": 10,
   "id": "bcf0ea06-2879-4ab3-80c7-0c5f05bdeaa2",
   "metadata": {
    "colab": {
     "base_uri": "https://localhost:8080/"
    },
    "id": "bcf0ea06-2879-4ab3-80c7-0c5f05bdeaa2",
    "outputId": "e61deb00-413a-4266-ff4a-486989aa9fe4"
   },
   "outputs": [
    {
     "name": "stdout",
     "output_type": "stream",
     "text": [
      "Each image in our dataset now has type <class 'torch.Tensor'> and shape torch.Size([1, 28, 28])\n"
     ]
    }
   ],
   "source": [
    "# load MNIST \"test\" dataset from disk. Note we're using the transform defined a few cells earlier, which\n",
    "# turns the data into the right format as we load from disk.\n",
    "mnist_test = torchvision.datasets.MNIST(data_dir, train=False, download=False, transform=transform)\n",
    "\n",
    "# load MNIST \"train\" dataset from disk and set aside a portion for validation\n",
    "mnist_train_full = datasets.MNIST(data_dir, train=True, download=False, transform=transform)\n",
    "mnist_train, mnist_val = torch.utils.data.random_split(mnist_train_full, [55000, 5000])\n",
    "\n",
    "example_img, example_label = mnist_test[0]\n",
    "print(f\"Each image in our dataset now has type {type(example_img)} and shape {example_img.shape}\")"
   ]
  },
  {
   "cell_type": "markdown",
   "id": "5e0bc892-84ee-4824-81a9-9144d9fe3825",
   "metadata": {
    "id": "5e0bc892-84ee-4824-81a9-9144d9fe3825",
    "outputId": "9348bd86-e439-48de-e0a3-f9935787cf8e"
   },
   "source": [
    "### __2.2__ <a name=\"dataloaders\">DataLoaders</a>\n",
    "\n",
    "Given that `torch.utils.data.Dataset` and its subclasses provide an iterable container from which we can fetch input-label pairs, we could go ahead and start traininng a network:\n",
    "\n",
    "```\n",
    "for x, y in myDataset:\n",
    "\n",
    "    opt.zero_grad()\n",
    "\n",
    "    outputs = myNetwork(x)\n",
    "    \n",
    "    loss = myLoss(outputs, y)\n",
    "    loss.backward()\n",
    "    \n",
    "    opt.step()\n",
    "    ...\n",
    "```\n",
    "\n",
    "However, we often want to load our data in __batches__ while training, typically in a random or __shuffled__ order. PyTorch provides a `DataLoader` class to handle the process of fetching data from a `Dataset` object, including shuffling, custom batch collation, and various random sampling schemes."
   ]
  },
  {
   "cell_type": "code",
   "execution_count": 11,
   "id": "a9f0e984-9e5c-4c1d-9bb5-cd11a7218531",
   "metadata": {
    "colab": {
     "base_uri": "https://localhost:8080/"
    },
    "id": "a9f0e984-9e5c-4c1d-9bb5-cd11a7218531",
    "outputId": "3f0a0571-0219-4421-e8c6-d2c1d3e4df74"
   },
   "outputs": [
    {
     "name": "stdout",
     "output_type": "stream",
     "text": [
      "Batch inputs shape: torch.Size([60, 1, 28, 28]), Batch labels shape: torch.Size([60])\n"
     ]
    }
   ],
   "source": [
    "# we'll use a batch size of 60 for training our network\n",
    "batch_size = 60\n",
    "\n",
    "# initialize a DataLoader object for each dataset\n",
    "train_dataloader = torch.utils.data.DataLoader(mnist_train, batch_size=batch_size, shuffle=True)\n",
    "val_dataloader = torch.utils.data.DataLoader(mnist_val, batch_size=batch_size, shuffle=True)\n",
    "test_dataloader = torch.utils.data.DataLoader(mnist_test, batch_size=1, shuffle=False)\n",
    "\n",
    "# grab the first batch from one of our DataLoader objects\n",
    "example_batch_img, example_batch_label = next(iter(train_dataloader))\n",
    "\n",
    "# inputs and labels are batched together as tensor objects\n",
    "print(f\"Batch inputs shape: {example_batch_img.shape}, Batch labels shape: {example_batch_label.shape}\")"
   ]
  },
  {
   "cell_type": "markdown",
   "id": "aa5717ae-f257-4b1c-bcfe-766742a570f7",
   "metadata": {
    "id": "aa5717ae-f257-4b1c-bcfe-766742a570f7",
    "outputId": "9348bd86-e439-48de-e0a3-f9935787cf8e"
   },
   "source": [
    "## __3.__ <a name=\"nn\">A Neural Network for Image Recognition</a>\n",
    "\n",
    "### __3.1__ <a name=\"definition\">Defining the Network</a>\n",
    "\n",
    "Now that we've seen the data we'll be working with, it's time build a neural network capable of classifying handwritten digits. In the previous notebook, we created a neural network capable of turning two-dimensional inputs into one-dimensional (scalar) predictions. By contrast, our inputs will have 28x28 = 784 dimensions, and our network will have to predict one of ten possible labels (one for each digit 0-9). To accommodate these changes, we'll tweak our network as follows:\n",
    "\n",
    "   1. We'll modify our network's first layer to take 784-dimensional inputs\n",
    "   2. We'll use a larger intermediate layer to allow our network to learn complex decision functions\n",
    "   3. We'll try out the ReLU (rectified linear unit) activation function \n",
    "   4. We'll have our network produce a 10-dimensional vector as output; the index of the largest value in this vector will be our predicted label (e.g. if the first entry has the largest value, our predicted digit will be 0).\n",
    "   \n",
    "<br/>\n",
    "<center>\n",
    "<img width=\"500px\" src=\"https://drive.google.com/uc?export=view&id=1fCIzQT6smKorQAfFmJp7GsGBC9atMo4U\"/>\n",
    "</center>\n",
    "<br/>\n"
   ]
  },
  {
   "cell_type": "code",
   "execution_count": 12,
   "id": "f316de00-6063-40d8-b048-a3bca6a0789e",
   "metadata": {
    "id": "f316de00-6063-40d8-b048-a3bca6a0789e"
   },
   "outputs": [],
   "source": [
    "class MNISTNetwork(torch.nn.Module):\n",
    "\n",
    "    def __init__(self):\n",
    "        super().__init__()\n",
    "\n",
    "        # MNIST images are (1, 28, 28) (channels, width, height)\n",
    "        self.layer_1 = torch.nn.Linear(28*28, 1024)\n",
    "        self.layer_2 = torch.nn.Linear(1024, 10)\n",
    "        self.relu = torch.nn.ReLU()\n",
    "\n",
    "    def forward(self, x):\n",
    "\n",
    "        batch_size, channels, width, height = x.size()\n",
    "        x = x.view(batch_size, -1)  # create an array of flattened images with dimension (batch_size, num_pixels)\n",
    "\n",
    "        # this time, we'll use the ReLU nonlinearity at each layer  \n",
    "        x = self.relu(self.layer_1(x))\n",
    "        x = self.layer_2(x)  # we'll avoid \"squashing\" our final outputs by omitting the sigmoid\n",
    "        \n",
    "        return x"
   ]
  },
  {
   "cell_type": "markdown",
   "id": "a7f646c8-1f72-424e-a1c7-d6dd93ad3a00",
   "metadata": {
    "id": "a7f646c8-1f72-424e-a1c7-d6dd93ad3a00",
    "outputId": "9348bd86-e439-48de-e0a3-f9935787cf8e"
   },
   "source": [
    "### __3.2__ <a name=\"loss\">Classification Loss</a>\n",
    "\n",
    "In the previous notebook, we used mean squared error loss to train our neural network. While mean squared error performs well in a number of tasks, it is more common to use __categorical cross-entropy loss__ for multiclass classification. We can think of our network's output as a vector of ten \"class scores,\" one per digit. In training our network, our goal is to make sure that given an input image, the correct class score \"comes out on top.\" We might try to minimize the mean squared error between our network's normalized output and a __one-hot__ vector indexing the correct label\n",
    "\n",
    "```\n",
    "prediction = [0.1, 0.1, 0.1, 0.0, 0.0, 0.0, 0.0, 0.5, 0.1, 0.1]\n",
    "target =     [0.0, 0.0, 0.0, 0.0, 0.0, 0.0, 0.0, 1.0, 0.0, 0.0]\n",
    "```\n",
    "\n",
    "However, this objective does not necessarily correspond to our goal of maximizing the score of the target class while keeping all other scores low. Cross entropy loss generally does a better job of capturing this objective for multiclass classification, and its use can be considered equivalent to maximum-likelihood estimation under certain assumptions. We will use PyTorch's implementation, which provides an object capable of both computing the loss on pairs of tensors and computing gradients during the backward pass. We won't go into detail here, but for more info, check out the [official documentation](https://pytorch.org/docs/stable/generated/torch.nn.CrossEntropyLoss.html). Below, we show an example of calculating loss for a bit of made-up data.\n",
    "\n"
   ]
  },
  {
   "cell_type": "code",
   "execution_count": 13,
   "id": "a60994ee-a190-485a-b245-9c5a8faa3bcc",
   "metadata": {
    "colab": {
     "base_uri": "https://localhost:8080/"
    },
    "id": "a60994ee-a190-485a-b245-9c5a8faa3bcc",
    "outputId": "34117c37-b273-434e-a0a9-65a36f4e1c41"
   },
   "outputs": [
    {
     "data": {
      "text/plain": [
       "tensor(2.5977)"
      ]
     },
     "execution_count": 13,
     "metadata": {},
     "output_type": "execute_result"
    }
   ],
   "source": [
    "# a PyTorch cross-entropy loss object\n",
    "loss_fn = torch.nn.CrossEntropyLoss()\n",
    "\n",
    "# the loss object takes in a vector of class scores and a vector of target class indices\n",
    "preds = torch.randn(batch_size, 10)  # make a batch of random \"class score\" vectors, each with 10 scores corresponding to digits\n",
    "targets = torch.full((60,), 7).long()  # make a batch of target indices; here, we'll set 7 as the target for all predictions\n",
    "\n",
    "# compute the loss for this batch; by default, CrossEntropyLoss will average over a batch to return a scalar\n",
    "loss_fn(preds, targets)"
   ]
  },
  {
   "cell_type": "markdown",
   "id": "fcbe872c-fd79-4a7d-9c39-7ccbc9d81517",
   "metadata": {
    "id": "033abc3d-7e26-4a19-a05e-276b410584ab",
    "outputId": "9348bd86-e439-48de-e0a3-f9935787cf8e"
   },
   "source": [
    "### __3.3__ <a name=\"sgd\">Picking an Optimizer: SGD</a>\n",
    "\n",
    "Recall that each training iteration can be broken down as follows: \n",
    "* we pass inputs to our network and collect outputs\n",
    "* we compute a differentiable a scalar loss on our network's outputs\n",
    "* we use backpropagation to compute the gradients of the loss with respect to our network's weights\n",
    "* we perform a gradient-based update on our weights to reduce the loss \n",
    "\n",
    "In the previous notebook, we made use of a built-in __optimizer__ to automate the process of updating our network's weights. This optimizer object stores references to our network's weights. When our backpropagation step (`backward()`) computes and stores gradients for all network parameters, the optimizer fetches these gradients and performs an update determined by its optimization algorithm. When training neural networks with large numbers of parameters, this becomes much simpler than manually updating each weight.\n",
    "\n",
    "PyTorch offers a number of [optimization algorithms](https://pytorch.org/docs/stable/optim.html), all of which use the same basic interface:\n",
    "\n",
    "```\n",
    "optimizer = OptimizerName(my_model.parameters(), lr=my_learning_rate, *other_params)\n",
    "```\n",
    "\n",
    "Each optimizer requires an iterable containing our network's weights (which the `.parameters()` method of any `torch.nn.Module` object provides) and a __learning rate__. As in the last notebook, we'll use __Stochastic Gradient Descent (SGD)__ to determine our updates. This algorithm scales the computed gradients with its learning rate and subtracts them from their respective weights to \"descend\" the loss function."
   ]
  },
  {
   "cell_type": "code",
   "execution_count": 16,
   "id": "c7a89209-9e7f-4b37-b64f-8efcae8fcece",
   "metadata": {
    "id": "033abc3d-7e26-4a19-a05e-276b410584ab",
    "outputId": "9348bd86-e439-48de-e0a3-f9935787cf8e"
   },
   "outputs": [
    {
     "name": "stdout",
     "output_type": "stream",
     "text": [
      "Starting weights: tensor([0., 0., 0., 0., 0., 0., 0., 0., 0., 0.], requires_grad=True), Sum: 0.0\n",
      "Updated weights: tensor([1., 1., 1., 1., 1., 1., 1., 1., 1., 1.], requires_grad=True), Sum: 10.0\n"
     ]
    }
   ],
   "source": [
    "# a simple optimization problem: we want our \"weights\" to sum to 10\n",
    "weights = torch.zeros(10).requires_grad_(True)\n",
    "print(f\"Starting weights: {weights}, Sum: {weights.sum().item()}\")\n",
    "\n",
    "# create an optimizer object and pass it an Iterable containing our \"weights\".\n",
    "# In this example, we'll take steps of size 1.0, meaning that each weight will \n",
    "# change by an amount equal to the magnitude of its gradient\n",
    "opt = torch.optim.SGD([weights], lr = 1.0)  \n",
    "\n",
    "# compute loss and perform backpropagation\n",
    "loss = 10 - weights.sum()\n",
    "loss.backward()\n",
    "\n",
    "# perform an optimization step, i.e. a gradient-based update of our weights\n",
    "opt.step()\n",
    "\n",
    "print(f\"Updated weights: {weights}, Sum: {weights.sum().item()}\")"
   ]
  },
  {
   "cell_type": "markdown",
   "id": "e772d67a-67c8-4d88-970d-87fefadd65bb",
   "metadata": {
    "id": "033abc3d-7e26-4a19-a05e-276b410584ab",
    "outputId": "9348bd86-e439-48de-e0a3-f9935787cf8e"
   },
   "source": [
    "### __3.4__ <a name=\"checkpoint\">Checkpointing</a>\n",
    "\n",
    "Before we begin training our model, we want to make sure we can save it in some format in case we experience a bug during training or want to use it again later. The process of saving snapshots of a model during training is often called __checkpointing__, and PyTorch offers utilities to make saving and loading models simple. For a neural network, saving a model really means saving its weights (parameters). All PyTorch models have a `.state_dict()` method that exposes their weights as named entries in a dictionary. Using this __state dictionary__, we can easily save weights or overwrite them with ones we load from elsewhere. For more info, feel free to check out the [official documentation](https://pytorch.org/tutorials/beginner/saving_loading_models.html)."
   ]
  },
  {
   "cell_type": "code",
   "execution_count": 17,
   "id": "a55bb3e5-593f-491d-b804-362342febb3c",
   "metadata": {
    "colab": {
     "base_uri": "https://localhost:8080/"
    },
    "id": "a55bb3e5-593f-491d-b804-362342febb3c",
    "outputId": "a1066e24-c5cb-4375-8fbf-25030eb53a08"
   },
   "outputs": [
    {
     "name": "stdout",
     "output_type": "stream",
     "text": [
      "Names of network weights: ['layer_1.weight', 'layer_1.bias', 'layer_2.weight', 'layer_2.bias']\n"
     ]
    },
    {
     "data": {
      "text/plain": [
       "<All keys matched successfully>"
      ]
     },
     "execution_count": 17,
     "metadata": {},
     "output_type": "execute_result"
    }
   ],
   "source": [
    "# initialize a model\n",
    "model = MNISTNetwork()\n",
    "print(\"Names of network weights:\", list(model.state_dict().keys()))\n",
    "\n",
    "# save weights to disk\n",
    "torch.save(model.state_dict(), \"dummy_weights.pt\")\n",
    "\n",
    "# load weights from disk and overwrite network weights\n",
    "model.load_state_dict(torch.load(\"dummy_weights.pt\"))"
   ]
  },
  {
   "cell_type": "markdown",
   "id": "ccfc6805-b78c-4005-96f8-a192ba040769",
   "metadata": {
    "id": "ccfc6805-b78c-4005-96f8-a192ba040769",
    "outputId": "9348bd86-e439-48de-e0a3-f9935787cf8e"
   },
   "source": [
    "## __4.__ <a name=\"train\">Putting It All Together: Training Loop</a>\n",
    "We're now ready to train a neural network to recognize handwritten digits from the MNIST dataset."
   ]
  },
  {
   "cell_type": "code",
   "execution_count": 19,
   "id": "44658ffa-8a06-401e-b8a2-7429c20da354",
   "metadata": {
    "colab": {
     "base_uri": "https://localhost:8080/"
    },
    "id": "44658ffa-8a06-401e-b8a2-7429c20da354",
    "outputId": "620bbc38-e028-4925-bb69-ddfe5d3aeea4"
   },
   "outputs": [
    {
     "name": "stdout",
     "output_type": "stream",
     "text": [
      "Epoch 1: val loss 0.495, val acc 0.872, train loss 0.962, train acc 0.794\n",
      "New best accuracy; saving model weights to mnist_basic.pt\n",
      "Epoch 2: val loss 0.391, val acc 0.895, train loss 0.417, train acc 0.885\n",
      "New best accuracy; saving model weights to mnist_basic.pt\n",
      "Epoch 3: val loss 0.353, val acc 0.903, train loss 0.352, train acc 0.899\n",
      "New best accuracy; saving model weights to mnist_basic.pt\n",
      "Epoch 4: val loss 0.329, val acc 0.909, train loss 0.320, train acc 0.906\n",
      "New best accuracy; saving model weights to mnist_basic.pt\n",
      "Epoch 5: val loss 0.313, val acc 0.914, train loss 0.297, train acc 0.914\n",
      "New best accuracy; saving model weights to mnist_basic.pt\n",
      "Epoch 6: val loss 0.296, val acc 0.918, train loss 0.279, train acc 0.918\n",
      "New best accuracy; saving model weights to mnist_basic.pt\n",
      "Epoch 7: val loss 0.283, val acc 0.921, train loss 0.263, train acc 0.924\n",
      "New best accuracy; saving model weights to mnist_basic.pt\n",
      "Epoch 8: val loss 0.272, val acc 0.921, train loss 0.250, train acc 0.927\n",
      "New best accuracy; saving model weights to mnist_basic.pt\n",
      "Epoch 9: val loss 0.261, val acc 0.926, train loss 0.238, train acc 0.931\n",
      "New best accuracy; saving model weights to mnist_basic.pt\n",
      "Epoch 10: val loss 0.252, val acc 0.927, train loss 0.226, train acc 0.934\n",
      "New best accuracy; saving model weights to mnist_basic.pt\n",
      "Total training time (s): 318.85273361206055\n"
     ]
    }
   ],
   "source": [
    "def training_loop(save_path, epochs, batch_size, device=\"cpu\"):\n",
    "    \"\"\"\n",
    "    Train a neural network model for digit recognition on the MNIST dataset.\n",
    "    \n",
    "    Parameters\n",
    "    ----------\n",
    "    save_path (str):  path/filename for model checkpoint, e.g. 'my_model.pt'\n",
    "    \n",
    "    epochs (int):     number of iterations through the whole dataset for training\n",
    "    \n",
    "    batch_size (int): size of a single batch of inputs\n",
    "    \n",
    "    device (str):     device on which tensors are placed; should be 'cpu' or 'cuda'. \n",
    "                      More on this in the next section!\n",
    "    \n",
    "    Returns\n",
    "    -------\n",
    "    save_path (str): path/filename for model checkpoint, so that we can load our model\n",
    "                     later to test on unseen data\n",
    "    \n",
    "    device (str):    the device on which we carried out training, so we can match it\n",
    "                     when we test the final model on unseen data later\n",
    "    \"\"\"\n",
    "\n",
    "    # initialize model\n",
    "    model = MNISTNetwork()\n",
    "    model.to(device)  # we'll cover this in the next section!\n",
    "\n",
    "    # initialize an optimizer to update our model's parameters during training\n",
    "    optimizer = torch.optim.SGD(model.parameters(), lr=0.001, momentum=0.9)\n",
    "\n",
    "    # make a new directory in which to download the MNIST dataset\n",
    "    data_dir = \"./data/\"\n",
    "    \n",
    "    # initialize a Transform object to prepare our data\n",
    "    transform = torchvision.transforms.Compose([\n",
    "        torchvision.transforms.ToTensor(),\n",
    "        lambda x: x>0,\n",
    "        lambda x: x.float(),\n",
    "    ])\n",
    "\n",
    "    # load MNIST \"test\" dataset from disk\n",
    "    mnist_test = torchvision.datasets.MNIST(data_dir, train=False, download=False, transform=transform)\n",
    "\n",
    "    # load MNIST \"train\" dataset from disk and set aside a portion for validation\n",
    "    mnist_train_full = datasets.MNIST(data_dir, train=True, download=False, transform=transform)\n",
    "    mnist_train, mnist_val = torch.utils.data.random_split(mnist_train_full, [55000, 5000])\n",
    "\n",
    "    # initialize a DataLoader object for each dataset\n",
    "    train_dataloader = torch.utils.data.DataLoader(mnist_train, batch_size=batch_size, shuffle=True)\n",
    "    val_dataloader = torch.utils.data.DataLoader(mnist_val, batch_size=batch_size, shuffle=True)\n",
    "    test_dataloader = torch.utils.data.DataLoader(mnist_test, batch_size=1, shuffle=False)\n",
    "\n",
    "    # a PyTorch categorical cross-entropy loss object\n",
    "    loss_fn = torch.nn.CrossEntropyLoss()\n",
    "\n",
    "    # time training process\n",
    "    st = time.time()\n",
    "\n",
    "    # time to start training!\n",
    "    for epoch_idx, epoch in enumerate(range(epochs)):\n",
    "\n",
    "        # keep track of best validation accuracy; if improved upon, save checkpoint\n",
    "        best_acc = 0.0\n",
    "\n",
    "        # loop through the entire dataset once per epoch\n",
    "        train_loss = 0.0\n",
    "        train_acc = 0.0\n",
    "        train_total = 0\n",
    "        model.train()\n",
    "        for batch_idx, batch in enumerate(train_dataloader):\n",
    "\n",
    "            # clear gradients\n",
    "            optimizer.zero_grad()\n",
    "\n",
    "            # unpack data and labels\n",
    "            x, y = batch\n",
    "            x = x.to(device)  # we'll cover this in the next section!\n",
    "            y = y.to(device)  # we'll cover this in the next section!\n",
    "\n",
    "            # generate predictions and compute loss\n",
    "            output = model(x)\n",
    "            loss = loss_fn(output, y)\n",
    "\n",
    "            # compute accuracy\n",
    "            preds = output.argmax(dim=1)\n",
    "            acc = preds.eq(y).sum().item()/len(y)\n",
    "\n",
    "            # compute gradients and update model parameters\n",
    "            loss.backward()\n",
    "            optimizer.step()\n",
    "\n",
    "            # update statistics\n",
    "            train_loss += (loss * len(x))\n",
    "            train_acc += (acc * len(x))\n",
    "            train_total += len(x)\n",
    "\n",
    "        train_loss /= train_total\n",
    "        train_acc /= train_total\n",
    "\n",
    "        # perform validation once per epoch\n",
    "        val_loss = 0.0\n",
    "        val_acc = 0.0\n",
    "        val_total = 0\n",
    "        model.eval()\n",
    "        for batch_idx, batch in enumerate(val_dataloader):\n",
    "\n",
    "            # don't compute gradients during validation\n",
    "            with torch.no_grad():\n",
    "\n",
    "                # unpack data and labels\n",
    "                x, y = batch\n",
    "                x = x.to(device)  # we'll cover this in the next section!\n",
    "                y = y.to(device)  # we'll cover this in the next section!\n",
    "\n",
    "                # generate predictions and compute loss\n",
    "                output = model(x)\n",
    "                loss = loss_fn(output, y)\n",
    "\n",
    "                # compute accuracy\n",
    "                preds = output.argmax(dim=1)\n",
    "                acc = preds.eq(y).sum().item()/len(y)\n",
    "\n",
    "                # update statistics\n",
    "                val_loss += (loss * len(x))\n",
    "                val_acc += (acc * len(x))\n",
    "                val_total += len(x)\n",
    "\n",
    "        val_loss /= val_total\n",
    "        val_acc /= val_total\n",
    "        print(f\"Epoch {epoch_idx + 1}: val loss {val_loss :0.3f}, val acc {val_acc :0.3f}, train loss {train_loss :0.3f}, train acc {train_acc :0.3f}\")\n",
    "\n",
    "        if val_acc > best_acc:\n",
    "\n",
    "            best_acc = val_acc\n",
    "            print(f\"New best accuracy; saving model weights to {save_path}\")\n",
    "            torch.save(model.state_dict(), save_path)\n",
    "\n",
    "    print(f\"Total training time (s): {time.time() - st :0.3f}\")\n",
    "    \n",
    "    return model, device\n",
    "\n",
    "    \n",
    "# run our training loop\n",
    "save_path, device = training_loop(\"mnist_basic.pt\", 10, 60, \"cpu\")"
   ]
  },
  {
   "cell_type": "markdown",
   "id": "bFe7Zw54DEyr",
   "metadata": {
    "id": "bFe7Zw54DEyr"
   },
   "source": [
    "Once we're done training, we now load the best saved version of the model weights (which may not be the one from the final epoch) and compute final performance on unseen test data. Typically, this is reserved for after the model development process, so we get an unbiased estimate of the model's generalized accuracy."
   ]
  },
  {
   "cell_type": "code",
   "execution_count": 25,
   "id": "961472ee-b038-4ae0-bd93-2becc8f653dc",
   "metadata": {
    "colab": {
     "base_uri": "https://localhost:8080/"
    },
    "id": "k7F2DQ0VDEYG",
    "outputId": "1725f8df-0511-424e-8268-bbdcdd2bab25"
   },
   "outputs": [
    {
     "name": "stdout",
     "output_type": "stream",
     "text": [
      "test loss 0.221, test acc 0.935\n"
     ]
    }
   ],
   "source": [
    "# load best weights\n",
    "model.load_state_dict(torch.load(save_path, map_location=device))\n",
    "\n",
    "test_loss = 0.0\n",
    "test_acc = 0.0\n",
    "test_total = 0\n",
    "model.eval()\n",
    "for batch_idx, batch in enumerate(test_dataloader):\n",
    "\n",
    "    # don't compute gradients during validation\n",
    "    with torch.no_grad():\n",
    "\n",
    "        # unpack data and labels\n",
    "        x, y = batch\n",
    "        x = x.to(device)  # we'll cover this in the next section!\n",
    "        y = y.to(device)  # we'll cover this in the next section!\n",
    "\n",
    "        # generate predictions and compute loss\n",
    "        output = model(x)\n",
    "        loss = loss_fn(output, y)\n",
    "\n",
    "        # compute accuracy\n",
    "        preds = output.argmax(dim=1)\n",
    "        acc = preds.eq(y).sum().item()/len(y)\n",
    "\n",
    "        # update statistics\n",
    "        test_loss += (loss * len(x))\n",
    "        test_acc += (acc * len(x))\n",
    "        test_total += len(x)\n",
    "\n",
    "test_loss /= test_total\n",
    "test_acc /= test_total\n",
    "print(f\"test loss {test_loss :0.3f}, test acc {test_acc :0.3f}\")"
   ]
  },
  {
   "cell_type": "markdown",
   "id": "edd262fc-3bf6-4a57-8ad6-7372cda4bded",
   "metadata": {
    "id": "edd262fc-3bf6-4a57-8ad6-7372cda4bded",
    "outputId": "9348bd86-e439-48de-e0a3-f9935787cf8e",
    "tags": []
   },
   "source": [
    "## __5.__ <a name=\"gpu\">GPU Acceleration</a>\n",
    "\n",
    "You might have noticed all the mentions of a `device` in the cells above. It turns out that neural networks use many operations, such as matrix multiplication, that can be efficiently parallelized and run on modern GPUs (graphics processing units, sometimes called \"video cards\"). As a result, neural network training and inference can see drastic speedups when run on a suitable GPU. PyTorch offers this option for NVIDIA-manufactured GPUs through the [CUDA platform](https://pytorch.org/docs/stable/cuda.html), and provides a simple interface (`.to()`) for moving data and computation between the CPU and GPU devices. To move data to the CPU, we can call:\n",
    "\n",
    "```\n",
    "x = x.to(\"cpu\")\n",
    "```\n",
    "\n",
    "To move data to a compatible NVIDIA GPU, we can call:\n",
    "\n",
    "```\n",
    "x = x.to(\"cuda\")\n",
    "```\n",
    "\n",
    "In practice, running machine learning code on a GPU may require you to check your device's compatibility and install various drivers; this can be quite a hassle. Luckily, [Google Colab](https://colab.research.google.com/) provides free (albeit limited) access to GPUs in a Jupyter-like notebook environment. If you're already running this code in Colab, you can access a GPU by going to `Runtime` > `Change runtime type`, setting `Hardware accelerator` to `GPU`, and clicking `Save`. Note that this will restart the notebook, meaning you will have to run your code again.\n",
    "\n",
    "Below, we'll try our basic training loop again. This time, however, we'll move our network and data to the GPU, allowing for faster training and inference. While the difference between CPU and GPU may be relatively minor in this case, it can be massive for larger models and datasets."
   ]
  },
  {
   "cell_type": "code",
   "execution_count": 26,
   "id": "706c9c65-096d-4e30-8e3b-f9dc44b26cd4",
   "metadata": {
    "colab": {
     "base_uri": "https://localhost:8080/"
    },
    "id": "706c9c65-096d-4e30-8e3b-f9dc44b26cd4",
    "outputId": "9348bd86-e439-48de-e0a3-f9935787cf8e"
   },
   "outputs": [
    {
     "name": "stdout",
     "output_type": "stream",
     "text": [
      "Found a CUDA-compatible GPU!\n",
      "Epoch 1: val loss 0.488, val acc 0.871, train loss 0.959, train acc 0.795\n",
      "New best accuracy; saving model weights to mnist_gpu.pt\n",
      "Epoch 2: val loss 0.387, val acc 0.889, train loss 0.415, train acc 0.886\n",
      "New best accuracy; saving model weights to mnist_gpu.pt\n",
      "Epoch 3: val loss 0.348, val acc 0.901, train loss 0.351, train acc 0.900\n",
      "New best accuracy; saving model weights to mnist_gpu.pt\n",
      "Epoch 4: val loss 0.323, val acc 0.906, train loss 0.319, train acc 0.908\n",
      "New best accuracy; saving model weights to mnist_gpu.pt\n",
      "Epoch 5: val loss 0.304, val acc 0.910, train loss 0.297, train acc 0.913\n",
      "New best accuracy; saving model weights to mnist_gpu.pt\n",
      "Epoch 6: val loss 0.289, val acc 0.914, train loss 0.278, train acc 0.919\n",
      "New best accuracy; saving model weights to mnist_gpu.pt\n",
      "Epoch 7: val loss 0.276, val acc 0.918, train loss 0.263, train acc 0.923\n",
      "New best accuracy; saving model weights to mnist_gpu.pt\n",
      "Epoch 8: val loss 0.262, val acc 0.922, train loss 0.249, train acc 0.928\n",
      "New best accuracy; saving model weights to mnist_gpu.pt\n",
      "Epoch 9: val loss 0.254, val acc 0.924, train loss 0.236, train acc 0.931\n",
      "New best accuracy; saving model weights to mnist_gpu.pt\n",
      "Epoch 10: val loss 0.243, val acc 0.928, train loss 0.225, train acc 0.935\n",
      "New best accuracy; saving model weights to mnist_gpu.pt\n",
      "Total training time (s): 112.78978776931763\n"
     ]
    }
   ],
   "source": [
    "# first, let's check if we can access a compatible GPU\n",
    "if torch.cuda.is_available():\n",
    "    print(\"Found a CUDA-compatible GPU!\")\n",
    "    device = torch.device('cuda')\n",
    "else:\n",
    "    print(\"No compatible GPU found; your code will run on the CPU again\")\n",
    "    device = torch.device('cpu')\n",
    "\n",
    "training_loop(\"mnist_gpu.pt\", 10, 60, device)"
   ]
  }
 ],
 "metadata": {
  "colab": {
   "name": "notebook_3_image_classification.ipynb",
   "provenance": [],
   "toc_visible": true
  },
  "kernelspec": {
   "display_name": "course-deep-learning",
   "language": "python",
   "name": "course-deep-learning"
  },
  "language_info": {
   "codemirror_mode": {
    "name": "ipython",
    "version": 3
   },
   "file_extension": ".py",
   "mimetype": "text/x-python",
   "name": "python",
   "nbconvert_exporter": "python",
   "pygments_lexer": "ipython3",
   "version": "3.8.12"
  },
  "widgets": {
   "application/vnd.jupyter.widget-state+json": {
    "056aa3d636e64f63b5261c2c1c884e7b": {
     "model_module": "@jupyter-widgets/controls",
     "model_module_version": "1.5.0",
     "model_name": "HTMLModel",
     "state": {
      "_dom_classes": [],
      "_model_module": "@jupyter-widgets/controls",
      "_model_module_version": "1.5.0",
      "_model_name": "HTMLModel",
      "_view_count": null,
      "_view_module": "@jupyter-widgets/controls",
      "_view_module_version": "1.5.0",
      "_view_name": "HTMLView",
      "description": "",
      "description_tooltip": null,
      "layout": "IPY_MODEL_058732118bce442fb2ed38e5dd56e93b",
      "placeholder": "​",
      "style": "IPY_MODEL_74fb96e9a60040ecaa705c234cff8674",
      "value": ""
     }
    },
    "058732118bce442fb2ed38e5dd56e93b": {
     "model_module": "@jupyter-widgets/base",
     "model_module_version": "1.2.0",
     "model_name": "LayoutModel",
     "state": {
      "_model_module": "@jupyter-widgets/base",
      "_model_module_version": "1.2.0",
      "_model_name": "LayoutModel",
      "_view_count": null,
      "_view_module": "@jupyter-widgets/base",
      "_view_module_version": "1.2.0",
      "_view_name": "LayoutView",
      "align_content": null,
      "align_items": null,
      "align_self": null,
      "border": null,
      "bottom": null,
      "display": null,
      "flex": null,
      "flex_flow": null,
      "grid_area": null,
      "grid_auto_columns": null,
      "grid_auto_flow": null,
      "grid_auto_rows": null,
      "grid_column": null,
      "grid_gap": null,
      "grid_row": null,
      "grid_template_areas": null,
      "grid_template_columns": null,
      "grid_template_rows": null,
      "height": null,
      "justify_content": null,
      "justify_items": null,
      "left": null,
      "margin": null,
      "max_height": null,
      "max_width": null,
      "min_height": null,
      "min_width": null,
      "object_fit": null,
      "object_position": null,
      "order": null,
      "overflow": null,
      "overflow_x": null,
      "overflow_y": null,
      "padding": null,
      "right": null,
      "top": null,
      "visibility": null,
      "width": null
     }
    },
    "0711d3ec0c8c463392e16ff672fb1127": {
     "model_module": "@jupyter-widgets/controls",
     "model_module_version": "1.5.0",
     "model_name": "DescriptionStyleModel",
     "state": {
      "_model_module": "@jupyter-widgets/controls",
      "_model_module_version": "1.5.0",
      "_model_name": "DescriptionStyleModel",
      "_view_count": null,
      "_view_module": "@jupyter-widgets/base",
      "_view_module_version": "1.2.0",
      "_view_name": "StyleView",
      "description_width": ""
     }
    },
    "1f44a349191d407aa383e27496dd7465": {
     "model_module": "@jupyter-widgets/controls",
     "model_module_version": "1.5.0",
     "model_name": "DescriptionStyleModel",
     "state": {
      "_model_module": "@jupyter-widgets/controls",
      "_model_module_version": "1.5.0",
      "_model_name": "DescriptionStyleModel",
      "_view_count": null,
      "_view_module": "@jupyter-widgets/base",
      "_view_module_version": "1.2.0",
      "_view_name": "StyleView",
      "description_width": ""
     }
    },
    "205b0cbbe38d457ca08094b57d87bbef": {
     "model_module": "@jupyter-widgets/controls",
     "model_module_version": "1.5.0",
     "model_name": "ProgressStyleModel",
     "state": {
      "_model_module": "@jupyter-widgets/controls",
      "_model_module_version": "1.5.0",
      "_model_name": "ProgressStyleModel",
      "_view_count": null,
      "_view_module": "@jupyter-widgets/base",
      "_view_module_version": "1.2.0",
      "_view_name": "StyleView",
      "bar_color": null,
      "description_width": ""
     }
    },
    "2a679f89d77c4722aef75d7ff84738cb": {
     "model_module": "@jupyter-widgets/controls",
     "model_module_version": "1.5.0",
     "model_name": "HTMLModel",
     "state": {
      "_dom_classes": [],
      "_model_module": "@jupyter-widgets/controls",
      "_model_module_version": "1.5.0",
      "_model_name": "HTMLModel",
      "_view_count": null,
      "_view_module": "@jupyter-widgets/controls",
      "_view_module_version": "1.5.0",
      "_view_name": "HTMLView",
      "description": "",
      "description_tooltip": null,
      "layout": "IPY_MODEL_f7865407e7eb419e9b63eb5e77a05bbc",
      "placeholder": "​",
      "style": "IPY_MODEL_4b96a26f802f4ddf856317da1ed662a5",
      "value": ""
     }
    },
    "2eab0a63ab5649d0813505a9eb3e27f1": {
     "model_module": "@jupyter-widgets/controls",
     "model_module_version": "1.5.0",
     "model_name": "DescriptionStyleModel",
     "state": {
      "_model_module": "@jupyter-widgets/controls",
      "_model_module_version": "1.5.0",
      "_model_name": "DescriptionStyleModel",
      "_view_count": null,
      "_view_module": "@jupyter-widgets/base",
      "_view_module_version": "1.2.0",
      "_view_name": "StyleView",
      "description_width": ""
     }
    },
    "42d18f7ea7c84fe5b457ec84abd60129": {
     "model_module": "@jupyter-widgets/controls",
     "model_module_version": "1.5.0",
     "model_name": "FloatProgressModel",
     "state": {
      "_dom_classes": [],
      "_model_module": "@jupyter-widgets/controls",
      "_model_module_version": "1.5.0",
      "_model_name": "FloatProgressModel",
      "_view_count": null,
      "_view_module": "@jupyter-widgets/controls",
      "_view_module_version": "1.5.0",
      "_view_name": "ProgressView",
      "bar_style": "success",
      "description": "",
      "description_tooltip": null,
      "layout": "IPY_MODEL_f1bfa66cccdf4357bcbd4c4b636e22ea",
      "max": 28881,
      "min": 0,
      "orientation": "horizontal",
      "style": "IPY_MODEL_205b0cbbe38d457ca08094b57d87bbef",
      "value": 28881
     }
    },
    "4b96a26f802f4ddf856317da1ed662a5": {
     "model_module": "@jupyter-widgets/controls",
     "model_module_version": "1.5.0",
     "model_name": "DescriptionStyleModel",
     "state": {
      "_model_module": "@jupyter-widgets/controls",
      "_model_module_version": "1.5.0",
      "_model_name": "DescriptionStyleModel",
      "_view_count": null,
      "_view_module": "@jupyter-widgets/base",
      "_view_module_version": "1.2.0",
      "_view_name": "StyleView",
      "description_width": ""
     }
    },
    "5428376d80464eb0980a960215f78a45": {
     "model_module": "@jupyter-widgets/controls",
     "model_module_version": "1.5.0",
     "model_name": "ProgressStyleModel",
     "state": {
      "_model_module": "@jupyter-widgets/controls",
      "_model_module_version": "1.5.0",
      "_model_name": "ProgressStyleModel",
      "_view_count": null,
      "_view_module": "@jupyter-widgets/base",
      "_view_module_version": "1.2.0",
      "_view_name": "StyleView",
      "bar_color": null,
      "description_width": ""
     }
    },
    "5b09203db5e7437a9b9445a408562b28": {
     "model_module": "@jupyter-widgets/controls",
     "model_module_version": "1.5.0",
     "model_name": "HTMLModel",
     "state": {
      "_dom_classes": [],
      "_model_module": "@jupyter-widgets/controls",
      "_model_module_version": "1.5.0",
      "_model_name": "HTMLModel",
      "_view_count": null,
      "_view_module": "@jupyter-widgets/controls",
      "_view_module_version": "1.5.0",
      "_view_name": "HTMLView",
      "description": "",
      "description_tooltip": null,
      "layout": "IPY_MODEL_f24734013c574f8898c09f302ee95ce1",
      "placeholder": "​",
      "style": "IPY_MODEL_1f44a349191d407aa383e27496dd7465",
      "value": " 9913344/? [00:00&lt;00:00, 21329330.10it/s]"
     }
    },
    "5b9a494a86654cb3ae3e2c475961aac8": {
     "model_module": "@jupyter-widgets/base",
     "model_module_version": "1.2.0",
     "model_name": "LayoutModel",
     "state": {
      "_model_module": "@jupyter-widgets/base",
      "_model_module_version": "1.2.0",
      "_model_name": "LayoutModel",
      "_view_count": null,
      "_view_module": "@jupyter-widgets/base",
      "_view_module_version": "1.2.0",
      "_view_name": "LayoutView",
      "align_content": null,
      "align_items": null,
      "align_self": null,
      "border": null,
      "bottom": null,
      "display": null,
      "flex": null,
      "flex_flow": null,
      "grid_area": null,
      "grid_auto_columns": null,
      "grid_auto_flow": null,
      "grid_auto_rows": null,
      "grid_column": null,
      "grid_gap": null,
      "grid_row": null,
      "grid_template_areas": null,
      "grid_template_columns": null,
      "grid_template_rows": null,
      "height": null,
      "justify_content": null,
      "justify_items": null,
      "left": null,
      "margin": null,
      "max_height": null,
      "max_width": null,
      "min_height": null,
      "min_width": null,
      "object_fit": null,
      "object_position": null,
      "order": null,
      "overflow": null,
      "overflow_x": null,
      "overflow_y": null,
      "padding": null,
      "right": null,
      "top": null,
      "visibility": null,
      "width": null
     }
    },
    "661de727d0d64c76aeac2658ed374512": {
     "model_module": "@jupyter-widgets/base",
     "model_module_version": "1.2.0",
     "model_name": "LayoutModel",
     "state": {
      "_model_module": "@jupyter-widgets/base",
      "_model_module_version": "1.2.0",
      "_model_name": "LayoutModel",
      "_view_count": null,
      "_view_module": "@jupyter-widgets/base",
      "_view_module_version": "1.2.0",
      "_view_name": "LayoutView",
      "align_content": null,
      "align_items": null,
      "align_self": null,
      "border": null,
      "bottom": null,
      "display": null,
      "flex": null,
      "flex_flow": null,
      "grid_area": null,
      "grid_auto_columns": null,
      "grid_auto_flow": null,
      "grid_auto_rows": null,
      "grid_column": null,
      "grid_gap": null,
      "grid_row": null,
      "grid_template_areas": null,
      "grid_template_columns": null,
      "grid_template_rows": null,
      "height": null,
      "justify_content": null,
      "justify_items": null,
      "left": null,
      "margin": null,
      "max_height": null,
      "max_width": null,
      "min_height": null,
      "min_width": null,
      "object_fit": null,
      "object_position": null,
      "order": null,
      "overflow": null,
      "overflow_x": null,
      "overflow_y": null,
      "padding": null,
      "right": null,
      "top": null,
      "visibility": null,
      "width": null
     }
    },
    "67dc0719252346b8a3ac674d5098e2f3": {
     "model_module": "@jupyter-widgets/controls",
     "model_module_version": "1.5.0",
     "model_name": "HBoxModel",
     "state": {
      "_dom_classes": [],
      "_model_module": "@jupyter-widgets/controls",
      "_model_module_version": "1.5.0",
      "_model_name": "HBoxModel",
      "_view_count": null,
      "_view_module": "@jupyter-widgets/controls",
      "_view_module_version": "1.5.0",
      "_view_name": "HBoxView",
      "box_style": "",
      "children": [
       "IPY_MODEL_2a679f89d77c4722aef75d7ff84738cb",
       "IPY_MODEL_99dc93f255c5468dbce5de482f11d6ad",
       "IPY_MODEL_8f9cba23c06440aabd4e213455ff863c"
      ],
      "layout": "IPY_MODEL_89e7e50adda841b7b4e10a0e65c5168f"
     }
    },
    "68c990ce5b0749c0842dc62d3638f6dd": {
     "model_module": "@jupyter-widgets/base",
     "model_module_version": "1.2.0",
     "model_name": "LayoutModel",
     "state": {
      "_model_module": "@jupyter-widgets/base",
      "_model_module_version": "1.2.0",
      "_model_name": "LayoutModel",
      "_view_count": null,
      "_view_module": "@jupyter-widgets/base",
      "_view_module_version": "1.2.0",
      "_view_name": "LayoutView",
      "align_content": null,
      "align_items": null,
      "align_self": null,
      "border": null,
      "bottom": null,
      "display": null,
      "flex": null,
      "flex_flow": null,
      "grid_area": null,
      "grid_auto_columns": null,
      "grid_auto_flow": null,
      "grid_auto_rows": null,
      "grid_column": null,
      "grid_gap": null,
      "grid_row": null,
      "grid_template_areas": null,
      "grid_template_columns": null,
      "grid_template_rows": null,
      "height": null,
      "justify_content": null,
      "justify_items": null,
      "left": null,
      "margin": null,
      "max_height": null,
      "max_width": null,
      "min_height": null,
      "min_width": null,
      "object_fit": null,
      "object_position": null,
      "order": null,
      "overflow": null,
      "overflow_x": null,
      "overflow_y": null,
      "padding": null,
      "right": null,
      "top": null,
      "visibility": null,
      "width": null
     }
    },
    "6d080e5dbe37499082a3f23e61556824": {
     "model_module": "@jupyter-widgets/controls",
     "model_module_version": "1.5.0",
     "model_name": "HBoxModel",
     "state": {
      "_dom_classes": [],
      "_model_module": "@jupyter-widgets/controls",
      "_model_module_version": "1.5.0",
      "_model_name": "HBoxModel",
      "_view_count": null,
      "_view_module": "@jupyter-widgets/controls",
      "_view_module_version": "1.5.0",
      "_view_name": "HBoxView",
      "box_style": "",
      "children": [
       "IPY_MODEL_feeb4d8ae87243e7959190b42d543221",
       "IPY_MODEL_8d8355407327422bba3fd3fdfd3446f7",
       "IPY_MODEL_86d3dcdb0dd7400ebe70e1b77d18e201"
      ],
      "layout": "IPY_MODEL_e4f7afcd9580449cb013575ac548bf7f"
     }
    },
    "735b68d7c2fb485c9898d58c0999f711": {
     "model_module": "@jupyter-widgets/base",
     "model_module_version": "1.2.0",
     "model_name": "LayoutModel",
     "state": {
      "_model_module": "@jupyter-widgets/base",
      "_model_module_version": "1.2.0",
      "_model_name": "LayoutModel",
      "_view_count": null,
      "_view_module": "@jupyter-widgets/base",
      "_view_module_version": "1.2.0",
      "_view_name": "LayoutView",
      "align_content": null,
      "align_items": null,
      "align_self": null,
      "border": null,
      "bottom": null,
      "display": null,
      "flex": null,
      "flex_flow": null,
      "grid_area": null,
      "grid_auto_columns": null,
      "grid_auto_flow": null,
      "grid_auto_rows": null,
      "grid_column": null,
      "grid_gap": null,
      "grid_row": null,
      "grid_template_areas": null,
      "grid_template_columns": null,
      "grid_template_rows": null,
      "height": null,
      "justify_content": null,
      "justify_items": null,
      "left": null,
      "margin": null,
      "max_height": null,
      "max_width": null,
      "min_height": null,
      "min_width": null,
      "object_fit": null,
      "object_position": null,
      "order": null,
      "overflow": null,
      "overflow_x": null,
      "overflow_y": null,
      "padding": null,
      "right": null,
      "top": null,
      "visibility": null,
      "width": null
     }
    },
    "74fb96e9a60040ecaa705c234cff8674": {
     "model_module": "@jupyter-widgets/controls",
     "model_module_version": "1.5.0",
     "model_name": "DescriptionStyleModel",
     "state": {
      "_model_module": "@jupyter-widgets/controls",
      "_model_module_version": "1.5.0",
      "_model_name": "DescriptionStyleModel",
      "_view_count": null,
      "_view_module": "@jupyter-widgets/base",
      "_view_module_version": "1.2.0",
      "_view_name": "StyleView",
      "description_width": ""
     }
    },
    "785aac3f69bc4fc1b33b3a6c7a51bfd4": {
     "model_module": "@jupyter-widgets/controls",
     "model_module_version": "1.5.0",
     "model_name": "HBoxModel",
     "state": {
      "_dom_classes": [],
      "_model_module": "@jupyter-widgets/controls",
      "_model_module_version": "1.5.0",
      "_model_name": "HBoxModel",
      "_view_count": null,
      "_view_module": "@jupyter-widgets/controls",
      "_view_module_version": "1.5.0",
      "_view_name": "HBoxView",
      "box_style": "",
      "children": [
       "IPY_MODEL_056aa3d636e64f63b5261c2c1c884e7b",
       "IPY_MODEL_42d18f7ea7c84fe5b457ec84abd60129",
       "IPY_MODEL_84d913b12a4e4f26b625853401e0e66c"
      ],
      "layout": "IPY_MODEL_f6eaa536c35946eab1f8b22933a4626c"
     }
    },
    "7c2e406944cb4e8aafa5e115284b063c": {
     "model_module": "@jupyter-widgets/controls",
     "model_module_version": "1.5.0",
     "model_name": "FloatProgressModel",
     "state": {
      "_dom_classes": [],
      "_model_module": "@jupyter-widgets/controls",
      "_model_module_version": "1.5.0",
      "_model_name": "FloatProgressModel",
      "_view_count": null,
      "_view_module": "@jupyter-widgets/controls",
      "_view_module_version": "1.5.0",
      "_view_name": "ProgressView",
      "bar_style": "success",
      "description": "",
      "description_tooltip": null,
      "layout": "IPY_MODEL_d03ad494ff714eadbfe801d14edafc85",
      "max": 9912422,
      "min": 0,
      "orientation": "horizontal",
      "style": "IPY_MODEL_ef8f2eda43604046b19b562036e99fdf",
      "value": 9912422
     }
    },
    "822bd4ef0cc5417ca7467f26ba0c5145": {
     "model_module": "@jupyter-widgets/controls",
     "model_module_version": "1.5.0",
     "model_name": "ProgressStyleModel",
     "state": {
      "_model_module": "@jupyter-widgets/controls",
      "_model_module_version": "1.5.0",
      "_model_name": "ProgressStyleModel",
      "_view_count": null,
      "_view_module": "@jupyter-widgets/base",
      "_view_module_version": "1.2.0",
      "_view_name": "StyleView",
      "bar_color": null,
      "description_width": ""
     }
    },
    "84d913b12a4e4f26b625853401e0e66c": {
     "model_module": "@jupyter-widgets/controls",
     "model_module_version": "1.5.0",
     "model_name": "HTMLModel",
     "state": {
      "_dom_classes": [],
      "_model_module": "@jupyter-widgets/controls",
      "_model_module_version": "1.5.0",
      "_model_name": "HTMLModel",
      "_view_count": null,
      "_view_module": "@jupyter-widgets/controls",
      "_view_module_version": "1.5.0",
      "_view_name": "HTMLView",
      "description": "",
      "description_tooltip": null,
      "layout": "IPY_MODEL_87264acf5da74f5da147c91ecfa5abd3",
      "placeholder": "​",
      "style": "IPY_MODEL_9420075611b846a5a3c9a10054937f71",
      "value": " 29696/? [00:00&lt;00:00, 761500.40it/s]"
     }
    },
    "8528b6fa793a4d69b2ba4b22c9d4dd46": {
     "model_module": "@jupyter-widgets/controls",
     "model_module_version": "1.5.0",
     "model_name": "HTMLModel",
     "state": {
      "_dom_classes": [],
      "_model_module": "@jupyter-widgets/controls",
      "_model_module_version": "1.5.0",
      "_model_name": "HTMLModel",
      "_view_count": null,
      "_view_module": "@jupyter-widgets/controls",
      "_view_module_version": "1.5.0",
      "_view_name": "HTMLView",
      "description": "",
      "description_tooltip": null,
      "layout": "IPY_MODEL_735b68d7c2fb485c9898d58c0999f711",
      "placeholder": "​",
      "style": "IPY_MODEL_ff15186082884c778a8716e192f53528",
      "value": ""
     }
    },
    "86d3dcdb0dd7400ebe70e1b77d18e201": {
     "model_module": "@jupyter-widgets/controls",
     "model_module_version": "1.5.0",
     "model_name": "HTMLModel",
     "state": {
      "_dom_classes": [],
      "_model_module": "@jupyter-widgets/controls",
      "_model_module_version": "1.5.0",
      "_model_name": "HTMLModel",
      "_view_count": null,
      "_view_module": "@jupyter-widgets/controls",
      "_view_module_version": "1.5.0",
      "_view_name": "HTMLView",
      "description": "",
      "description_tooltip": null,
      "layout": "IPY_MODEL_661de727d0d64c76aeac2658ed374512",
      "placeholder": "​",
      "style": "IPY_MODEL_0711d3ec0c8c463392e16ff672fb1127",
      "value": " 5120/? [00:00&lt;00:00, 129553.79it/s]"
     }
    },
    "87264acf5da74f5da147c91ecfa5abd3": {
     "model_module": "@jupyter-widgets/base",
     "model_module_version": "1.2.0",
     "model_name": "LayoutModel",
     "state": {
      "_model_module": "@jupyter-widgets/base",
      "_model_module_version": "1.2.0",
      "_model_name": "LayoutModel",
      "_view_count": null,
      "_view_module": "@jupyter-widgets/base",
      "_view_module_version": "1.2.0",
      "_view_name": "LayoutView",
      "align_content": null,
      "align_items": null,
      "align_self": null,
      "border": null,
      "bottom": null,
      "display": null,
      "flex": null,
      "flex_flow": null,
      "grid_area": null,
      "grid_auto_columns": null,
      "grid_auto_flow": null,
      "grid_auto_rows": null,
      "grid_column": null,
      "grid_gap": null,
      "grid_row": null,
      "grid_template_areas": null,
      "grid_template_columns": null,
      "grid_template_rows": null,
      "height": null,
      "justify_content": null,
      "justify_items": null,
      "left": null,
      "margin": null,
      "max_height": null,
      "max_width": null,
      "min_height": null,
      "min_width": null,
      "object_fit": null,
      "object_position": null,
      "order": null,
      "overflow": null,
      "overflow_x": null,
      "overflow_y": null,
      "padding": null,
      "right": null,
      "top": null,
      "visibility": null,
      "width": null
     }
    },
    "89e7e50adda841b7b4e10a0e65c5168f": {
     "model_module": "@jupyter-widgets/base",
     "model_module_version": "1.2.0",
     "model_name": "LayoutModel",
     "state": {
      "_model_module": "@jupyter-widgets/base",
      "_model_module_version": "1.2.0",
      "_model_name": "LayoutModel",
      "_view_count": null,
      "_view_module": "@jupyter-widgets/base",
      "_view_module_version": "1.2.0",
      "_view_name": "LayoutView",
      "align_content": null,
      "align_items": null,
      "align_self": null,
      "border": null,
      "bottom": null,
      "display": null,
      "flex": null,
      "flex_flow": null,
      "grid_area": null,
      "grid_auto_columns": null,
      "grid_auto_flow": null,
      "grid_auto_rows": null,
      "grid_column": null,
      "grid_gap": null,
      "grid_row": null,
      "grid_template_areas": null,
      "grid_template_columns": null,
      "grid_template_rows": null,
      "height": null,
      "justify_content": null,
      "justify_items": null,
      "left": null,
      "margin": null,
      "max_height": null,
      "max_width": null,
      "min_height": null,
      "min_width": null,
      "object_fit": null,
      "object_position": null,
      "order": null,
      "overflow": null,
      "overflow_x": null,
      "overflow_y": null,
      "padding": null,
      "right": null,
      "top": null,
      "visibility": null,
      "width": null
     }
    },
    "8d8355407327422bba3fd3fdfd3446f7": {
     "model_module": "@jupyter-widgets/controls",
     "model_module_version": "1.5.0",
     "model_name": "FloatProgressModel",
     "state": {
      "_dom_classes": [],
      "_model_module": "@jupyter-widgets/controls",
      "_model_module_version": "1.5.0",
      "_model_name": "FloatProgressModel",
      "_view_count": null,
      "_view_module": "@jupyter-widgets/controls",
      "_view_module_version": "1.5.0",
      "_view_name": "ProgressView",
      "bar_style": "success",
      "description": "",
      "description_tooltip": null,
      "layout": "IPY_MODEL_d338ed219da0452a80140fb91b08642a",
      "max": 4542,
      "min": 0,
      "orientation": "horizontal",
      "style": "IPY_MODEL_5428376d80464eb0980a960215f78a45",
      "value": 4542
     }
    },
    "8f9cba23c06440aabd4e213455ff863c": {
     "model_module": "@jupyter-widgets/controls",
     "model_module_version": "1.5.0",
     "model_name": "HTMLModel",
     "state": {
      "_dom_classes": [],
      "_model_module": "@jupyter-widgets/controls",
      "_model_module_version": "1.5.0",
      "_model_name": "HTMLModel",
      "_view_count": null,
      "_view_module": "@jupyter-widgets/controls",
      "_view_module_version": "1.5.0",
      "_view_name": "HTMLView",
      "description": "",
      "description_tooltip": null,
      "layout": "IPY_MODEL_5b9a494a86654cb3ae3e2c475961aac8",
      "placeholder": "​",
      "style": "IPY_MODEL_ff887a4682cd40e1b1ea5db9ee17a6a7",
      "value": " 1649664/? [00:00&lt;00:00, 16824292.82it/s]"
     }
    },
    "9420075611b846a5a3c9a10054937f71": {
     "model_module": "@jupyter-widgets/controls",
     "model_module_version": "1.5.0",
     "model_name": "DescriptionStyleModel",
     "state": {
      "_model_module": "@jupyter-widgets/controls",
      "_model_module_version": "1.5.0",
      "_model_name": "DescriptionStyleModel",
      "_view_count": null,
      "_view_module": "@jupyter-widgets/base",
      "_view_module_version": "1.2.0",
      "_view_name": "StyleView",
      "description_width": ""
     }
    },
    "99dc93f255c5468dbce5de482f11d6ad": {
     "model_module": "@jupyter-widgets/controls",
     "model_module_version": "1.5.0",
     "model_name": "FloatProgressModel",
     "state": {
      "_dom_classes": [],
      "_model_module": "@jupyter-widgets/controls",
      "_model_module_version": "1.5.0",
      "_model_name": "FloatProgressModel",
      "_view_count": null,
      "_view_module": "@jupyter-widgets/controls",
      "_view_module_version": "1.5.0",
      "_view_name": "ProgressView",
      "bar_style": "success",
      "description": "",
      "description_tooltip": null,
      "layout": "IPY_MODEL_68c990ce5b0749c0842dc62d3638f6dd",
      "max": 1648877,
      "min": 0,
      "orientation": "horizontal",
      "style": "IPY_MODEL_822bd4ef0cc5417ca7467f26ba0c5145",
      "value": 1648877
     }
    },
    "b313832e8d3e4e42aeb616d9d2b78465": {
     "model_module": "@jupyter-widgets/base",
     "model_module_version": "1.2.0",
     "model_name": "LayoutModel",
     "state": {
      "_model_module": "@jupyter-widgets/base",
      "_model_module_version": "1.2.0",
      "_model_name": "LayoutModel",
      "_view_count": null,
      "_view_module": "@jupyter-widgets/base",
      "_view_module_version": "1.2.0",
      "_view_name": "LayoutView",
      "align_content": null,
      "align_items": null,
      "align_self": null,
      "border": null,
      "bottom": null,
      "display": null,
      "flex": null,
      "flex_flow": null,
      "grid_area": null,
      "grid_auto_columns": null,
      "grid_auto_flow": null,
      "grid_auto_rows": null,
      "grid_column": null,
      "grid_gap": null,
      "grid_row": null,
      "grid_template_areas": null,
      "grid_template_columns": null,
      "grid_template_rows": null,
      "height": null,
      "justify_content": null,
      "justify_items": null,
      "left": null,
      "margin": null,
      "max_height": null,
      "max_width": null,
      "min_height": null,
      "min_width": null,
      "object_fit": null,
      "object_position": null,
      "order": null,
      "overflow": null,
      "overflow_x": null,
      "overflow_y": null,
      "padding": null,
      "right": null,
      "top": null,
      "visibility": null,
      "width": null
     }
    },
    "d03ad494ff714eadbfe801d14edafc85": {
     "model_module": "@jupyter-widgets/base",
     "model_module_version": "1.2.0",
     "model_name": "LayoutModel",
     "state": {
      "_model_module": "@jupyter-widgets/base",
      "_model_module_version": "1.2.0",
      "_model_name": "LayoutModel",
      "_view_count": null,
      "_view_module": "@jupyter-widgets/base",
      "_view_module_version": "1.2.0",
      "_view_name": "LayoutView",
      "align_content": null,
      "align_items": null,
      "align_self": null,
      "border": null,
      "bottom": null,
      "display": null,
      "flex": null,
      "flex_flow": null,
      "grid_area": null,
      "grid_auto_columns": null,
      "grid_auto_flow": null,
      "grid_auto_rows": null,
      "grid_column": null,
      "grid_gap": null,
      "grid_row": null,
      "grid_template_areas": null,
      "grid_template_columns": null,
      "grid_template_rows": null,
      "height": null,
      "justify_content": null,
      "justify_items": null,
      "left": null,
      "margin": null,
      "max_height": null,
      "max_width": null,
      "min_height": null,
      "min_width": null,
      "object_fit": null,
      "object_position": null,
      "order": null,
      "overflow": null,
      "overflow_x": null,
      "overflow_y": null,
      "padding": null,
      "right": null,
      "top": null,
      "visibility": null,
      "width": null
     }
    },
    "d338ed219da0452a80140fb91b08642a": {
     "model_module": "@jupyter-widgets/base",
     "model_module_version": "1.2.0",
     "model_name": "LayoutModel",
     "state": {
      "_model_module": "@jupyter-widgets/base",
      "_model_module_version": "1.2.0",
      "_model_name": "LayoutModel",
      "_view_count": null,
      "_view_module": "@jupyter-widgets/base",
      "_view_module_version": "1.2.0",
      "_view_name": "LayoutView",
      "align_content": null,
      "align_items": null,
      "align_self": null,
      "border": null,
      "bottom": null,
      "display": null,
      "flex": null,
      "flex_flow": null,
      "grid_area": null,
      "grid_auto_columns": null,
      "grid_auto_flow": null,
      "grid_auto_rows": null,
      "grid_column": null,
      "grid_gap": null,
      "grid_row": null,
      "grid_template_areas": null,
      "grid_template_columns": null,
      "grid_template_rows": null,
      "height": null,
      "justify_content": null,
      "justify_items": null,
      "left": null,
      "margin": null,
      "max_height": null,
      "max_width": null,
      "min_height": null,
      "min_width": null,
      "object_fit": null,
      "object_position": null,
      "order": null,
      "overflow": null,
      "overflow_x": null,
      "overflow_y": null,
      "padding": null,
      "right": null,
      "top": null,
      "visibility": null,
      "width": null
     }
    },
    "e205439652e14e70849d0b750d59dfcc": {
     "model_module": "@jupyter-widgets/base",
     "model_module_version": "1.2.0",
     "model_name": "LayoutModel",
     "state": {
      "_model_module": "@jupyter-widgets/base",
      "_model_module_version": "1.2.0",
      "_model_name": "LayoutModel",
      "_view_count": null,
      "_view_module": "@jupyter-widgets/base",
      "_view_module_version": "1.2.0",
      "_view_name": "LayoutView",
      "align_content": null,
      "align_items": null,
      "align_self": null,
      "border": null,
      "bottom": null,
      "display": null,
      "flex": null,
      "flex_flow": null,
      "grid_area": null,
      "grid_auto_columns": null,
      "grid_auto_flow": null,
      "grid_auto_rows": null,
      "grid_column": null,
      "grid_gap": null,
      "grid_row": null,
      "grid_template_areas": null,
      "grid_template_columns": null,
      "grid_template_rows": null,
      "height": null,
      "justify_content": null,
      "justify_items": null,
      "left": null,
      "margin": null,
      "max_height": null,
      "max_width": null,
      "min_height": null,
      "min_width": null,
      "object_fit": null,
      "object_position": null,
      "order": null,
      "overflow": null,
      "overflow_x": null,
      "overflow_y": null,
      "padding": null,
      "right": null,
      "top": null,
      "visibility": null,
      "width": null
     }
    },
    "e4f7afcd9580449cb013575ac548bf7f": {
     "model_module": "@jupyter-widgets/base",
     "model_module_version": "1.2.0",
     "model_name": "LayoutModel",
     "state": {
      "_model_module": "@jupyter-widgets/base",
      "_model_module_version": "1.2.0",
      "_model_name": "LayoutModel",
      "_view_count": null,
      "_view_module": "@jupyter-widgets/base",
      "_view_module_version": "1.2.0",
      "_view_name": "LayoutView",
      "align_content": null,
      "align_items": null,
      "align_self": null,
      "border": null,
      "bottom": null,
      "display": null,
      "flex": null,
      "flex_flow": null,
      "grid_area": null,
      "grid_auto_columns": null,
      "grid_auto_flow": null,
      "grid_auto_rows": null,
      "grid_column": null,
      "grid_gap": null,
      "grid_row": null,
      "grid_template_areas": null,
      "grid_template_columns": null,
      "grid_template_rows": null,
      "height": null,
      "justify_content": null,
      "justify_items": null,
      "left": null,
      "margin": null,
      "max_height": null,
      "max_width": null,
      "min_height": null,
      "min_width": null,
      "object_fit": null,
      "object_position": null,
      "order": null,
      "overflow": null,
      "overflow_x": null,
      "overflow_y": null,
      "padding": null,
      "right": null,
      "top": null,
      "visibility": null,
      "width": null
     }
    },
    "ef8f2eda43604046b19b562036e99fdf": {
     "model_module": "@jupyter-widgets/controls",
     "model_module_version": "1.5.0",
     "model_name": "ProgressStyleModel",
     "state": {
      "_model_module": "@jupyter-widgets/controls",
      "_model_module_version": "1.5.0",
      "_model_name": "ProgressStyleModel",
      "_view_count": null,
      "_view_module": "@jupyter-widgets/base",
      "_view_module_version": "1.2.0",
      "_view_name": "StyleView",
      "bar_color": null,
      "description_width": ""
     }
    },
    "f1bfa66cccdf4357bcbd4c4b636e22ea": {
     "model_module": "@jupyter-widgets/base",
     "model_module_version": "1.2.0",
     "model_name": "LayoutModel",
     "state": {
      "_model_module": "@jupyter-widgets/base",
      "_model_module_version": "1.2.0",
      "_model_name": "LayoutModel",
      "_view_count": null,
      "_view_module": "@jupyter-widgets/base",
      "_view_module_version": "1.2.0",
      "_view_name": "LayoutView",
      "align_content": null,
      "align_items": null,
      "align_self": null,
      "border": null,
      "bottom": null,
      "display": null,
      "flex": null,
      "flex_flow": null,
      "grid_area": null,
      "grid_auto_columns": null,
      "grid_auto_flow": null,
      "grid_auto_rows": null,
      "grid_column": null,
      "grid_gap": null,
      "grid_row": null,
      "grid_template_areas": null,
      "grid_template_columns": null,
      "grid_template_rows": null,
      "height": null,
      "justify_content": null,
      "justify_items": null,
      "left": null,
      "margin": null,
      "max_height": null,
      "max_width": null,
      "min_height": null,
      "min_width": null,
      "object_fit": null,
      "object_position": null,
      "order": null,
      "overflow": null,
      "overflow_x": null,
      "overflow_y": null,
      "padding": null,
      "right": null,
      "top": null,
      "visibility": null,
      "width": null
     }
    },
    "f24734013c574f8898c09f302ee95ce1": {
     "model_module": "@jupyter-widgets/base",
     "model_module_version": "1.2.0",
     "model_name": "LayoutModel",
     "state": {
      "_model_module": "@jupyter-widgets/base",
      "_model_module_version": "1.2.0",
      "_model_name": "LayoutModel",
      "_view_count": null,
      "_view_module": "@jupyter-widgets/base",
      "_view_module_version": "1.2.0",
      "_view_name": "LayoutView",
      "align_content": null,
      "align_items": null,
      "align_self": null,
      "border": null,
      "bottom": null,
      "display": null,
      "flex": null,
      "flex_flow": null,
      "grid_area": null,
      "grid_auto_columns": null,
      "grid_auto_flow": null,
      "grid_auto_rows": null,
      "grid_column": null,
      "grid_gap": null,
      "grid_row": null,
      "grid_template_areas": null,
      "grid_template_columns": null,
      "grid_template_rows": null,
      "height": null,
      "justify_content": null,
      "justify_items": null,
      "left": null,
      "margin": null,
      "max_height": null,
      "max_width": null,
      "min_height": null,
      "min_width": null,
      "object_fit": null,
      "object_position": null,
      "order": null,
      "overflow": null,
      "overflow_x": null,
      "overflow_y": null,
      "padding": null,
      "right": null,
      "top": null,
      "visibility": null,
      "width": null
     }
    },
    "f3ad188a295a475ba3c48c14dd524172": {
     "model_module": "@jupyter-widgets/controls",
     "model_module_version": "1.5.0",
     "model_name": "HBoxModel",
     "state": {
      "_dom_classes": [],
      "_model_module": "@jupyter-widgets/controls",
      "_model_module_version": "1.5.0",
      "_model_name": "HBoxModel",
      "_view_count": null,
      "_view_module": "@jupyter-widgets/controls",
      "_view_module_version": "1.5.0",
      "_view_name": "HBoxView",
      "box_style": "",
      "children": [
       "IPY_MODEL_8528b6fa793a4d69b2ba4b22c9d4dd46",
       "IPY_MODEL_7c2e406944cb4e8aafa5e115284b063c",
       "IPY_MODEL_5b09203db5e7437a9b9445a408562b28"
      ],
      "layout": "IPY_MODEL_b313832e8d3e4e42aeb616d9d2b78465"
     }
    },
    "f6eaa536c35946eab1f8b22933a4626c": {
     "model_module": "@jupyter-widgets/base",
     "model_module_version": "1.2.0",
     "model_name": "LayoutModel",
     "state": {
      "_model_module": "@jupyter-widgets/base",
      "_model_module_version": "1.2.0",
      "_model_name": "LayoutModel",
      "_view_count": null,
      "_view_module": "@jupyter-widgets/base",
      "_view_module_version": "1.2.0",
      "_view_name": "LayoutView",
      "align_content": null,
      "align_items": null,
      "align_self": null,
      "border": null,
      "bottom": null,
      "display": null,
      "flex": null,
      "flex_flow": null,
      "grid_area": null,
      "grid_auto_columns": null,
      "grid_auto_flow": null,
      "grid_auto_rows": null,
      "grid_column": null,
      "grid_gap": null,
      "grid_row": null,
      "grid_template_areas": null,
      "grid_template_columns": null,
      "grid_template_rows": null,
      "height": null,
      "justify_content": null,
      "justify_items": null,
      "left": null,
      "margin": null,
      "max_height": null,
      "max_width": null,
      "min_height": null,
      "min_width": null,
      "object_fit": null,
      "object_position": null,
      "order": null,
      "overflow": null,
      "overflow_x": null,
      "overflow_y": null,
      "padding": null,
      "right": null,
      "top": null,
      "visibility": null,
      "width": null
     }
    },
    "f7865407e7eb419e9b63eb5e77a05bbc": {
     "model_module": "@jupyter-widgets/base",
     "model_module_version": "1.2.0",
     "model_name": "LayoutModel",
     "state": {
      "_model_module": "@jupyter-widgets/base",
      "_model_module_version": "1.2.0",
      "_model_name": "LayoutModel",
      "_view_count": null,
      "_view_module": "@jupyter-widgets/base",
      "_view_module_version": "1.2.0",
      "_view_name": "LayoutView",
      "align_content": null,
      "align_items": null,
      "align_self": null,
      "border": null,
      "bottom": null,
      "display": null,
      "flex": null,
      "flex_flow": null,
      "grid_area": null,
      "grid_auto_columns": null,
      "grid_auto_flow": null,
      "grid_auto_rows": null,
      "grid_column": null,
      "grid_gap": null,
      "grid_row": null,
      "grid_template_areas": null,
      "grid_template_columns": null,
      "grid_template_rows": null,
      "height": null,
      "justify_content": null,
      "justify_items": null,
      "left": null,
      "margin": null,
      "max_height": null,
      "max_width": null,
      "min_height": null,
      "min_width": null,
      "object_fit": null,
      "object_position": null,
      "order": null,
      "overflow": null,
      "overflow_x": null,
      "overflow_y": null,
      "padding": null,
      "right": null,
      "top": null,
      "visibility": null,
      "width": null
     }
    },
    "feeb4d8ae87243e7959190b42d543221": {
     "model_module": "@jupyter-widgets/controls",
     "model_module_version": "1.5.0",
     "model_name": "HTMLModel",
     "state": {
      "_dom_classes": [],
      "_model_module": "@jupyter-widgets/controls",
      "_model_module_version": "1.5.0",
      "_model_name": "HTMLModel",
      "_view_count": null,
      "_view_module": "@jupyter-widgets/controls",
      "_view_module_version": "1.5.0",
      "_view_name": "HTMLView",
      "description": "",
      "description_tooltip": null,
      "layout": "IPY_MODEL_e205439652e14e70849d0b750d59dfcc",
      "placeholder": "​",
      "style": "IPY_MODEL_2eab0a63ab5649d0813505a9eb3e27f1",
      "value": ""
     }
    },
    "ff15186082884c778a8716e192f53528": {
     "model_module": "@jupyter-widgets/controls",
     "model_module_version": "1.5.0",
     "model_name": "DescriptionStyleModel",
     "state": {
      "_model_module": "@jupyter-widgets/controls",
      "_model_module_version": "1.5.0",
      "_model_name": "DescriptionStyleModel",
      "_view_count": null,
      "_view_module": "@jupyter-widgets/base",
      "_view_module_version": "1.2.0",
      "_view_name": "StyleView",
      "description_width": ""
     }
    },
    "ff887a4682cd40e1b1ea5db9ee17a6a7": {
     "model_module": "@jupyter-widgets/controls",
     "model_module_version": "1.5.0",
     "model_name": "DescriptionStyleModel",
     "state": {
      "_model_module": "@jupyter-widgets/controls",
      "_model_module_version": "1.5.0",
      "_model_name": "DescriptionStyleModel",
      "_view_count": null,
      "_view_module": "@jupyter-widgets/base",
      "_view_module_version": "1.2.0",
      "_view_name": "StyleView",
      "description_width": ""
     }
    }
   }
  }
 },
 "nbformat": 4,
 "nbformat_minor": 5
}
