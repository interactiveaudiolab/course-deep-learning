{
 "cells": [
  {
   "cell_type": "markdown",
   "id": "7b4f7ae8-9e3c-4543-8c6c-75be5b8bef5d",
   "metadata": {},
   "source": [
    "# Notebook 2: Neural Networks\n",
    "\n",
    "In this notebook, we'll build a __multi-layer perceptron__ (__neural network__) in PyTorch and demonstrate how we can train using automatic differentiation. We'll evaluate our model on a number of synthetic datasets for a simple binary classification task.\n",
    "\n",
    "The notebook is broken up as follows:\n",
    "\n",
    "  1. [Setup](#setup)  \n",
    "  2. [Multi-Layer Perceptron](#mlp)  \n",
    "  3. [PyTorch Essentials](#torch)  \n",
    "     3.1. [Defining a Network](#definition)  \n",
    "     3.2. [Backpropagation in a Nutshell](#backprop)  \n",
    "     3.3. [Optimizers](#opt)  \n",
    "  4. [Training a Neural Network in PyTorch](#train)  "
   ]
  },
  {
   "cell_type": "markdown",
   "id": "9857219d-d2b1-4c38-8c7d-66b5bcfdd6a9",
   "metadata": {
    "tags": []
   },
   "source": [
    "## __1.__ <a id=\"setup\">Setup</a>\n",
    "\n",
    "We'll start by importing utility functions to create and plot simple two-dimensional datasets."
   ]
  },
  {
   "cell_type": "code",
   "execution_count": 1,
   "id": "34dd9b7d-c4da-46c4-98f9-52533749c31d",
   "metadata": {},
   "outputs": [],
   "source": [
    "import torch\n",
    "import numpy as np\n",
    "from code.plotting import *  # see plotting.py for plotting utilities\n",
    "from code.data import *      # see data.py for dataset utilities\n",
    "\n",
    "%load_ext autoreload\n",
    "%autoreload 2\n",
    "%matplotlib inline"
   ]
  },
  {
   "cell_type": "markdown",
   "id": "bf0ac00e-4c4a-4e22-a70c-9cad80ec4441",
   "metadata": {
    "tags": []
   },
   "source": [
    "---\n",
    "\n",
    "## __2.__ <a id=\"mlp\">Multi-Layer Perceptron</a>\n",
    "\n",
    "As we saw in the previous notebook, a fundamental limitation of the perceptron is its inability to model nonlinear decision functions. To give our perceptron the capacity to model more complex functions, we can make a couple of tweaks:\n",
    "\n",
    "1. We can combine multiple simple perceptron models in __layers__ to increase the number of learnable weights\n",
    "2. We can introduce __nonlinearities__ (nonlinear activation functions) between layers to allow our model to express complicated nonlinear relationships\n",
    "\n",
    "The resulting architecture is often called a __multi-layer perceptron__ or a __neural network__. As illustrated below, the combination of multiple weight layers and nonlinear activation functions is responsible for the multi-layer perceptron's increased expressivity.\n",
    "\n",
    "<br/>\n",
    "<div style=\"text-align:center\">\n",
    "<img style=\"height:600px\" src=\"figs/mlp.png\"/>\n",
    "</div>\n",
    "<br/>\n",
    "\n",
    "The PyTorch library allows us to easily define neural network models using built-in components such as layers and activation functions. In the remainder of this notebook, we'll cover the basics of how to build and train neural networks in PyTorch."
   ]
  },
  {
   "cell_type": "markdown",
   "id": "9589572b-9a5b-401d-8fcb-6ef2b0b656af",
   "metadata": {
    "tags": []
   },
   "source": [
    "---\n",
    "\n",
    "## __3.__ <a id=\"torch\">PyTorch Essentials</a>\n",
    "\n",
    "\n",
    "### __3.1.__ <a id=\"definition\">Defining A Model</a>\n",
    "\n",
    "Below, we implement the neural network shown above using built-in PyTorch components. Our network class inerits from `torch.nn.Module`, and in addition to a constructor must define a `forward()` method to specify how the model processes inputs into outputs."
   ]
  },
  {
   "cell_type": "code",
   "execution_count": 6,
   "id": "36f07267-ecc9-47ab-853e-fdfc05a63cfc",
   "metadata": {
    "tags": []
   },
   "outputs": [
    {
     "name": "stdout",
     "output_type": "stream",
     "text": [
      "Model's state dictionary (stored weights):\n",
      "   fc1.weight \t (3, 2)\n",
      "   fc1.bias \t (3,)\n",
      "   fc2.weight \t (2, 3)\n",
      "   fc2.bias \t (2,)\n",
      "   fc3.weight \t (1, 2)\n",
      "   fc3.bias \t (1,)\n",
      "In total, this network has  20  trainable parameters\n",
      "Input dimension: torch.Size([2]), Output dimension: torch.Size([1])\n"
     ]
    }
   ],
   "source": [
    "import torch.nn as nn\n",
    "import torch.nn.functional as F\n",
    "import torch.optim as optim\n",
    "\n",
    "\n",
    "class Net(nn.Module):\n",
    "    \"\"\" Our first neural network model. We'll keep it simple.\"\"\"\n",
    "    \n",
    "    # this bit determines the architecture of each layer...but not how data flows\n",
    "    def __init__(self):\n",
    "        super().__init__() # has to be here\n",
    "        self.fc1 = nn.Linear(2,3)\n",
    "        self.fc2 = nn.Linear(3,2)\n",
    "        self.fc3 = nn.Linear(2,1)\n",
    "\n",
    "    # this part determines how data in x flows through the network. \n",
    "    def forward(self, x):\n",
    "        x = torch.tanh(self.fc1(x))\n",
    "        x = torch.tanh(self.fc2(x))\n",
    "        x = torch.tanh(self.fc3(x))\n",
    "        return x\n",
    "\n",
    "    \n",
    "def print_model(model):\n",
    "    \"\"\" \n",
    "    A simple functon that prints out a PyTorch model's structural details\n",
    "\n",
    "    PARAMETERS\n",
    "    ----------\n",
    "    model     a torch.nn.Model\n",
    "    \"\"\"\n",
    "\n",
    "    # Print model's state_dict\n",
    "    print(\"Model's state dictionary (stored weights):\")\n",
    "    for param_tensor in model.state_dict():\n",
    "        print(\"  \", param_tensor, \"\\t\", tuple(model.state_dict()[param_tensor].size()))\n",
    "\n",
    "    # Print the number of parameters in the model    \n",
    "    parameter_count =  sum(p.numel() for p in model.parameters() if p.requires_grad)\n",
    "    print(\"In total, this network has \", parameter_count, \" trainable parameters\")\n",
    "\n",
    "\n",
    "# initialize a model and examine its weights\n",
    "net = Net()\n",
    "print_model(net)\n",
    "\n",
    "# given a 2-dimensional input...\n",
    "x = torch.randn(2)\n",
    "\n",
    "# ...the model produces 1-dimensional output\n",
    "output = net(x)\n",
    "print(f\"Input dimension: {x.shape}, Output dimension: {output.shape}\")"
   ]
  },
  {
   "cell_type": "markdown",
   "id": "ea154f59-859e-438b-8580-07a33b2e0e66",
   "metadata": {
    "tags": []
   },
   "source": [
    "### __3.2.__ <a id=\"backprop\">Backpropagation in a Nutshell</a>\n",
    "\n",
    "Whereas our simple perceptron mapped two-dimensional inputs directly to scalar outputs, a neural network can map inputs through a number of __intermediate (\"hidden\") representations__ of varying dimensions. This additional complexity helps our model learn more difficult functions, but it also means we can no longer use the simple perceptron learning algorithm to train (i.e. we can no longer update our weights by directly adding incorrectly-predicted inputs). \n",
    "\n",
    "Luckily for us, the perceptron learning algorithm is just one of many optimization techniques that propagates an error measurement from the model's output to its weights in order to perform updates. When this error measurement is provided by a differentiable __loss function__ and our model's output is differentiable with respect to its weights, we can propagate error by computing the __gradient__ of the loss function with respect to each weight and performing a small update in the opposite direction of the gradient. The computation of these gradients is called __backpropagation__, and allows us to systematically train large and complex neural networks. \n",
    "\n",
    "\n",
    "If all of this sounds like a lot of work, don't worry -- PyTorch provides __automatic differentiation__, meaning that gradient computation is handled for us under-the-hood. Once a network is defined, training can be accomplished using a few function calls in a standard loop!"
   ]
  },
  {
   "cell_type": "code",
   "execution_count": 18,
   "id": "8b93ce36-6470-4afe-a130-e8517c78a83a",
   "metadata": {
    "tags": []
   },
   "outputs": [
    {
     "name": "stdout",
     "output_type": "stream",
     "text": [
      "Creating a tensor of type <class 'torch.Tensor'> with shape torch.Size([10])\n",
      "Starting x: tensor([0., 0., 0., 0., 0., 0., 0., 0., 0., 0.])\n",
      "Does our tensor require gradient computation? False\n",
      "Does our tensor require gradient computation? True\n",
      "Starting `loss` value: 10.0\n",
      "Gradients of x: None\n",
      "Gradients of x: tensor([-1., -1., -1., -1., -1., -1., -1., -1., -1., -1.])\n",
      "Updated x: tensor([1., 1., 1., 1., 1., 1., 1., 1., 1., 1.])\n",
      "Updated `loss` value: 0.0\n"
     ]
    }
   ],
   "source": [
    "# in PyTorch, all data (e.g. inputs, outputs, weights) is stored in Tensor objects. \n",
    "# Tensors act similarly to NumPy arrays, and share many methods\n",
    "x = torch.zeros(10)\n",
    "print(f\"Creating a tensor of type {type(x)} with shape {x.shape}\")\n",
    "print(f\"Starting x: {x}\")\n",
    "\n",
    "# During backpropagation, gradients will only be computed for tensors with the \n",
    "# `requires_grad` attribute set to True. We can set this manually if need be\n",
    "print(f\"Does our tensor require gradient computation? {x.requires_grad}\")\n",
    "x.requires_grad = True\n",
    "print(f\"Does our tensor require gradient computation? {x.requires_grad}\")\n",
    "\n",
    "# In order to perform backpropagation, we need to complete a \"forward pass\" in which \n",
    "# computations are performed on Tensor objects to compute a scalar loss value\n",
    "loss = 10 - x.sum()\n",
    "print(f\"Starting `loss` value: {loss}\")\n",
    "print(f\"Gradients of x: {x.grad}\")\n",
    "\n",
    "# PyTorch will compute all required gradients for tensors involved in the \n",
    "# computation of a scalar loss value once we call `.backward()`\n",
    "loss.backward()\n",
    "print(f\"Gradients of x: {x.grad}\")\n",
    "\n",
    "# We can update our `weights` in the opposite direction of this gradient to reduce our\n",
    "# loss value!\n",
    "x = x - x.grad\n",
    "print(f\"Updated x: {x.data}\")\n",
    "loss = 10 - x.sum()\n",
    "print(f\"Updated `loss` value: {loss}\")"
   ]
  },
  {
   "cell_type": "markdown",
   "id": "6a13d34b-0580-4660-8b76-52d772d65146",
   "metadata": {
    "tags": []
   },
   "source": [
    "### __3.3__ <a id=\"opt\">Optimizers</a>\n",
    "\n",
    "In the above example we computed differentiable a scalar loss, used backpropagation to compute the gradients of the loss with respect to our \"weights,\" and performed a gradient-based update on our weights to reduce the loss. Rather than managing the weight-update process by hand, we can defer to a built-in __optimizer__ object that automatically adjusts weights based on stored gradients and standard hyperparameters (e.g. learning rate). When training neural networks with large numbers of parameters, this becomes much simpler than manually updating each weight."
   ]
  },
  {
   "cell_type": "code",
   "execution_count": 20,
   "id": "c47c8528-af83-4175-9bf3-8f07b1694b67",
   "metadata": {
    "tags": []
   },
   "outputs": [
    {
     "name": "stdout",
     "output_type": "stream",
     "text": [
      "Starting x: tensor([0., 0., 0., 0., 0., 0., 0., 0., 0., 0.], requires_grad=True)\n",
      "Updated x: tensor([1., 1., 1., 1., 1., 1., 1., 1., 1., 1.], requires_grad=True)\n"
     ]
    }
   ],
   "source": [
    "# repeat our simple optimization, this time using the optimizer\n",
    "x = torch.zeros(10).requires_grad_(True)\n",
    "print(f\"Starting x: {x}\")\n",
    "\n",
    "# create an optimizer object and pass it an Iterable containing our \"weights\"\n",
    "opt = torch.optim.SGD([x], lr = 1.0)\n",
    "\n",
    "# compute loss and perform backpropagation\n",
    "loss = 10 - x.sum()\n",
    "loss.backward()\n",
    "\n",
    "# perform an optimization step, i.e. a gradient-based update of our weights\n",
    "opt.step()\n",
    "\n",
    "print(f\"Updated x: {x}\")"
   ]
  },
  {
   "cell_type": "markdown",
   "id": "9a755881-96e2-4563-a8fc-11a857b8afe2",
   "metadata": {
    "tags": []
   },
   "source": [
    "## __4.__ <a id=\"train\">Training a Model</a>\n",
    "\n",
    "In the above examples, we \"trained\" a single tensor to minimize a loss function. Next, we'll use the same basic approach to train a neural network for a binary classification task."
   ]
  },
  {
   "cell_type": "code",
   "execution_count": 21,
   "id": "4777490a-7da8-4977-ac92-f6771c465823",
   "metadata": {},
   "outputs": [],
   "source": [
    "def train_model(model, data, target):\n",
    "    \"\"\" \n",
    "    A simple functon that runs the network model through one epoch of the \n",
    "    training data and then updates the weights to move moodel output closer to the\n",
    "    target output. \n",
    "\n",
    "    PARAMETERS\n",
    "    ----------\n",
    "    model   A torch.nn.Model\n",
    "    data    A 2-D torch tensor where data[i] contains the ith example.\n",
    "    target  A torch tensor where target[i]  contains the expected output of the\n",
    "            model in response to input data[i]\n",
    "    \"\"\"\n",
    "    \n",
    "    # This tells your model that you are in training mode, so that layers (like\n",
    "    # dropout, batchnorm) with different train-time and test-time behavior can\n",
    "    # behave accordingly. It doesn't do much on our simple model, but you need \n",
    "    # to do this as a standard practice!\n",
    "    model.train()\n",
    "\n",
    "    # Set the gradients to 0 before running the network on the data, so that \n",
    "    # loss gradients can be computed correctly during backpropagation\n",
    "    optimizer.zero_grad()\n",
    "\n",
    "    # Get the output of the network on the data \n",
    "    output = model(data)\n",
    "\n",
    "    # Measure the \"loss\" using mean squared error\n",
    "    loss = F.mse_loss(output.squeeze(), target)\n",
    "\n",
    "    # This calculates the gradients, performing backpropagation to... propagate\n",
    "    # errors backward through the network's weights\n",
    "    loss.backward()\n",
    "\n",
    "    # This updates the network weights based on the freshly-computed gradient \n",
    "    # now stored alongside each weight\n",
    "    optimizer.step()\n",
    "\n",
    "\n",
    "def test_model(model, data, target):\n",
    "    \"\"\"\n",
    "    A simple functon that prints out the model's loss and accuracy on the \n",
    "    data  \n",
    "\n",
    "    PARAMETERS\n",
    "    ----------\n",
    "    model     a torch.nn.Model\n",
    "    data      a 2-D torch tensor where data[i] contains the ith example.\n",
    "    target    a torch tensor where target[i]  contains the expected output\n",
    "            of the model in response to input data[i]\n",
    "    RETURNS\n",
    "    -------\n",
    "    accuracy  The accuracy on the data\n",
    "\n",
    "    loss      The loss on the data\n",
    "    \"\"\"\n",
    "    \n",
    "    # This puts the network in evaluation mode so that layers (like\n",
    "    # dropout, batchnorm) with different train-time and test-time behavior can\n",
    "    # behave accordingly. It doesn't do much on our simple model, but you need \n",
    "    # to do this as a standard practice!\n",
    "    model.eval()\n",
    "\n",
    "    # torch.no_grad() tells the system to stop keeping track of gradients (derivatives)\n",
    "    # when performing calculations. This makes things run faster. \n",
    "    with torch.no_grad():\n",
    "        \n",
    "        # Get the output of the network on a batch of test examples\n",
    "        output = model(data)\n",
    "        output = output.squeeze()\n",
    "        \n",
    "        # Measure loss \n",
    "        loss = F.mse_loss(output, target)\n",
    "\n",
    "        # Get the (thresholded) predictions of the network\n",
    "        prediction = torch.sign(output)\n",
    "\n",
    "        # Measure the accuracy of the predictions \n",
    "        c = prediction*target\n",
    "        accuracy = torch.mean((c+1)/2)\n",
    "\n",
    "        # lets report \n",
    "        #print('\\nTest set: loss = ', round(loss.item(),4),\n",
    "        #      ' accuracy = ', round(accuracy.item(),3), '\\n')\n",
    "        accuracy = round(accuracy.item(),3)\n",
    "        loss = round(loss.item(),4)\n",
    "        \n",
    "    return accuracy, loss"
   ]
  },
  {
   "cell_type": "markdown",
   "id": "90400463-41f6-49b6-9306-41fe3d092725",
   "metadata": {},
   "source": [
    "With our basic training and evaluation procedures defined, we can finally train a neural network! We'll start by loading our data and initializing our model."
   ]
  },
  {
   "cell_type": "code",
   "execution_count": 23,
   "id": "475fa9bf-9c11-4f98-bb38-229274007f1f",
   "metadata": {},
   "outputs": [
    {
     "name": "stdout",
     "output_type": "stream",
     "text": [
      "Model's state dictionary (stored weights):\n",
      "   fc1.weight \t (3, 2)\n",
      "   fc1.bias \t (3,)\n",
      "   fc2.weight \t (2, 3)\n",
      "   fc2.bias \t (2,)\n",
      "   fc3.weight \t (1, 2)\n",
      "   fc3.bias \t (1,)\n",
      "In total, this network has  20  trainable parameters\n"
     ]
    }
   ],
   "source": [
    "# make the data  \n",
    "examples_per_class = 20\n",
    "distance_between_means = 0\n",
    "\n",
    "data, label = make_linearly_separable_data(examples_per_class, distance_between_means)\n",
    "#data, label = make_XOR_data(examples_per_class)\n",
    "#data, label = make_spiral_data(examples_per_class)\n",
    "#data,label = make_center_surround_data(examples_per_class, distance_between_means)\n",
    "\n",
    "# the data is in 64bit NumPy format, so we need to reformat the data as Tensors for PyTorch\n",
    "x = torch.tensor(data).to(dtype=torch.float32)\n",
    "y = torch.tensor(label).to(dtype=torch.float32)\n",
    "\n",
    "# initialize our model\n",
    "net = Net()\n",
    "optimizer = torch.optim.SGD(net.parameters(), lr=0.01, momentum=0.9)\n",
    "print_model(net)"
   ]
  },
  {
   "cell_type": "markdown",
   "id": "7025e7b7-b84d-42dc-a801-505a5875c509",
   "metadata": {},
   "source": [
    "We can visualize the decision boundary drawn by our untrained model, as well as its initial accuracy."
   ]
  },
  {
   "cell_type": "code",
   "execution_count": 27,
   "id": "7787b652-9584-43c8-bf01-71ac03504693",
   "metadata": {},
   "outputs": [
    {
     "name": "stdout",
     "output_type": "stream",
     "text": [
      "accuracy=0.5 loss=1.089\n"
     ]
    },
    {
     "data": {
      "image/png": "[encoded data removed]",
      "text/plain": [
       "<Figure size 432x288 with 1 Axes>"
      ]
     },
     "metadata": {
      "needs_background": "light"
     },
     "output_type": "display_data"
    }
   ],
   "source": [
    "scale = 2\n",
    "\n",
    "# look at the decision surface and model decision surface\n",
    "plot_data(data,label)\n",
    "xmin,xmax,ymin,ymax=plt.axis()\n",
    "plot_decision_surface(model=net, axis_limits=[xmin*scale,xmax*scale,ymin*scale,ymax*scale])\n",
    "\n",
    "# measure model accuracy\n",
    "accuracy, loss = test_model(net, x, y)\n",
    "print('accuracy=' + str(accuracy)+ ' loss=' + str(loss))"
   ]
  },
  {
   "cell_type": "markdown",
   "id": "29c16650-605d-4cc4-ac8e-8e75c9c8c6d9",
   "metadata": {},
   "source": [
    "Finally, let's train our model."
   ]
  },
  {
   "cell_type": "code",
   "execution_count": 29,
   "id": "223b3aa4-b1d6-4794-8bc0-4c357303b34f",
   "metadata": {},
   "outputs": [
    {
     "name": "stdout",
     "output_type": "stream",
     "text": [
      "accuracy=0.725 loss=0.7145\n"
     ]
    },
    {
     "data": {
      "image/png": "[encoded data removed]",
      "text/plain": [
       "<Figure size 432x288 with 1 Axes>"
      ]
     },
     "metadata": {
      "needs_background": "light"
     },
     "output_type": "display_data"
    }
   ],
   "source": [
    "epochs = 1000\n",
    "scale = 1\n",
    "\n",
    "for i in range(0,epochs):\n",
    "    train_model(net, x, y)\n",
    "\n",
    "plot_data(data, label)\n",
    "xmin,xmax,ymin,ymax = plt.axis()\n",
    "plot_decision_surface(model=net, axis_limits=[xmin*scale,xmax*scale,ymin*scale,ymax*scale])\n",
    "accuracy, loss = test_model(net, x, y)\n",
    "print('accuracy=' + str(accuracy)+ ' loss=' + str(loss))"
   ]
  },
  {
   "cell_type": "markdown",
   "id": "16ee3445-9a24-4362-9a5d-7b0473152dc7",
   "metadata": {},
   "source": [
    "As we can see, our simple neural network is capable of modeling nonlinear decision functions! Using the steps above, we can easily \"scale up\" our network to allow even more expressivity."
   ]
  },
  {
   "cell_type": "code",
   "execution_count": 31,
   "id": "eef93b0f-96de-4232-b926-b0b9f5c1b809",
   "metadata": {},
   "outputs": [
    {
     "name": "stdout",
     "output_type": "stream",
     "text": [
      "Model's state dictionary (stored weights):\n",
      "   fc1.weight \t (25, 2)\n",
      "   fc1.bias \t (25,)\n",
      "   fc2.weight \t (2, 25)\n",
      "   fc2.bias \t (2,)\n",
      "   fc3.weight \t (1, 2)\n",
      "   fc3.bias \t (1,)\n",
      "In total, this network has  130  trainable parameters\n",
      "accuracy=0.925 loss=0.4494\n"
     ]
    },
    {
     "data": {
      "image/png": "[encoded data removed]",
      "text/plain": [
       "<Figure size 432x288 with 1 Axes>"
      ]
     },
     "metadata": {
      "needs_background": "light"
     },
     "output_type": "display_data"
    }
   ],
   "source": [
    "class BigNet(nn.Module):\n",
    "    \"\"\" Our second neural network model. We'll still keep it simple.\"\"\"\n",
    "    \n",
    "    # this bit determines the architecture of each layer...but not how data flows\n",
    "    def __init__(self):\n",
    "        super().__init__() # has to be here\n",
    "        self.fc1 = nn.Linear(2,25)\n",
    "        self.fc2 = nn.Linear(25,2)\n",
    "        self.fc3 = nn.Linear(2,1)\n",
    "\n",
    "    # this part determines how data in x flows through the network. \n",
    "    def forward(self, x):\n",
    "        x = torch.tanh(self.fc1(x))\n",
    "        x = torch.tanh(self.fc2(x))\n",
    "        x = torch.tanh(self.fc3(x))\n",
    "        return x\n",
    "\n",
    "\n",
    "# initialize our model\n",
    "bignet = BigNet()\n",
    "optimizer = torch.optim.SGD(bignet.parameters(), lr=0.01, momentum=0.9)\n",
    "print_model(bignet)\n",
    "\n",
    "epochs = 1000\n",
    "scale = 1\n",
    "\n",
    "for i in range(0,epochs):\n",
    "    train_model(bignet, x, y)\n",
    "\n",
    "plot_data(data, label)\n",
    "xmin,xmax,ymin,ymax = plt.axis()\n",
    "plot_decision_surface(model=bignet, axis_limits=[xmin*scale,xmax*scale,ymin*scale,ymax*scale])\n",
    "accuracy, loss = test_model(bignet, x, y)\n",
    "print('accuracy=' + str(accuracy)+ ' loss=' + str(loss))"
   ]
  }
 ],
 "metadata": {
  "kernelspec": {
   "display_name": "cs396",
   "language": "python",
   "name": "cs396"
  },
  "language_info": {
   "codemirror_mode": {
    "name": "ipython",
    "version": 3
   },
   "file_extension": ".py",
   "mimetype": "text/x-python",
   "name": "python",
   "nbconvert_exporter": "python",
   "pygments_lexer": "ipython3",
   "version": "3.8.12"
  }
 },
 "nbformat": 4,
 "nbformat_minor": 5
}
